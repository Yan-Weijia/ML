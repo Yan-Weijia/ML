{
 "cells": [
  {
   "cell_type": "code",
   "execution_count": 1,
   "metadata": {},
   "outputs": [
    {
     "name": "stderr",
     "output_type": "stream",
     "text": [
      "d:\\program files\\python\\lib\\site-packages\\numpy\\_distributor_init.py:32: UserWarning: loaded more than 1 DLL from .libs:\n",
      "d:\\program files\\python\\lib\\site-packages\\numpy\\.libs\\libopenblas.PYQHXLVVQ7VESDPUVUADXEVJOBGHJPAY.gfortran-win_amd64.dll\n",
      "d:\\program files\\python\\lib\\site-packages\\numpy\\.libs\\libopenblas.TXA6YQSD3GCQQC22GEQ54J2UDCXDXHWN.gfortran-win_amd64.dll\n",
      "  stacklevel=1)\n"
     ]
    }
   ],
   "source": [
    "import pandas as pd"
   ]
  },
  {
   "cell_type": "code",
   "execution_count": 2,
   "metadata": {},
   "outputs": [
    {
     "data": {
      "text/html": [
       "<div>\n",
       "<style scoped>\n",
       "    .dataframe tbody tr th:only-of-type {\n",
       "        vertical-align: middle;\n",
       "    }\n",
       "\n",
       "    .dataframe tbody tr th {\n",
       "        vertical-align: top;\n",
       "    }\n",
       "\n",
       "    .dataframe thead th {\n",
       "        text-align: right;\n",
       "    }\n",
       "</style>\n",
       "<table border=\"1\" class=\"dataframe\">\n",
       "  <thead>\n",
       "    <tr style=\"text-align: right;\">\n",
       "      <th></th>\n",
       "      <th>item_id</th>\n",
       "      <th>user_id</th>\n",
       "      <th>region</th>\n",
       "      <th>city</th>\n",
       "      <th>parent_category_name</th>\n",
       "      <th>category_name</th>\n",
       "      <th>param_1</th>\n",
       "      <th>param_2</th>\n",
       "      <th>param_3</th>\n",
       "      <th>title</th>\n",
       "      <th>description</th>\n",
       "      <th>price</th>\n",
       "      <th>item_seq_number</th>\n",
       "      <th>activation_date</th>\n",
       "      <th>user_type</th>\n",
       "      <th>image</th>\n",
       "      <th>image_top_1</th>\n",
       "    </tr>\n",
       "  </thead>\n",
       "  <tbody>\n",
       "    <tr>\n",
       "      <th>0</th>\n",
       "      <td>793dd3d5f0f0</td>\n",
       "      <td>9467e0341c0e</td>\n",
       "      <td>Алтайский край</td>\n",
       "      <td>Барнаул</td>\n",
       "      <td>Личные вещи</td>\n",
       "      <td>Детская одежда и обувь</td>\n",
       "      <td>Для девочек</td>\n",
       "      <td>Платья и юбки</td>\n",
       "      <td>146-152 см (10-12 лет)</td>\n",
       "      <td>Платье праздничное для девочки</td>\n",
       "      <td>Очень красивое торг</td>\n",
       "      <td>1500.0</td>\n",
       "      <td>106</td>\n",
       "      <td>2017-04-12</td>\n",
       "      <td>Company</td>\n",
       "      <td>ace7b2b7f066a6b6ff244f90d030c2c1a1bf118dd0e1ac...</td>\n",
       "      <td>573.0</td>\n",
       "    </tr>\n",
       "    <tr>\n",
       "      <th>1</th>\n",
       "      <td>f8c965d9b668</td>\n",
       "      <td>1905516660f5</td>\n",
       "      <td>Свердловская область</td>\n",
       "      <td>Каменск-Уральский</td>\n",
       "      <td>Для дома и дачи</td>\n",
       "      <td>Мебель и интерьер</td>\n",
       "      <td>Кровати, диваны и кресла</td>\n",
       "      <td>NaN</td>\n",
       "      <td>NaN</td>\n",
       "      <td>Кровать двухспальная</td>\n",
       "      <td>Двуспальная кровать 140х200 с металлическим ка...</td>\n",
       "      <td>5700.0</td>\n",
       "      <td>10</td>\n",
       "      <td>2017-04-15</td>\n",
       "      <td>Private</td>\n",
       "      <td>b38ef24dd5b876ed626bd98241e228e4e19e4160d33abe...</td>\n",
       "      <td>1439.0</td>\n",
       "    </tr>\n",
       "    <tr>\n",
       "      <th>2</th>\n",
       "      <td>2f153c00d561</td>\n",
       "      <td>b4dc4849fdd4</td>\n",
       "      <td>Самарская область</td>\n",
       "      <td>Самара</td>\n",
       "      <td>Бытовая электроника</td>\n",
       "      <td>Телефоны</td>\n",
       "      <td>Samsung</td>\n",
       "      <td>NaN</td>\n",
       "      <td>NaN</td>\n",
       "      <td>Samsung S3 mini gt-i8190</td>\n",
       "      <td>Продам телефон самсунг 2 ядра, 1 гиг оперативн...</td>\n",
       "      <td>1500.0</td>\n",
       "      <td>6</td>\n",
       "      <td>2017-04-12</td>\n",
       "      <td>Private</td>\n",
       "      <td>8530cc0c8d5dc6d212497dffd610d89b92a7db952934db...</td>\n",
       "      <td>2932.0</td>\n",
       "    </tr>\n",
       "    <tr>\n",
       "      <th>3</th>\n",
       "      <td>7fc5eea56915</td>\n",
       "      <td>02c14d39fdb4</td>\n",
       "      <td>Саратовская область</td>\n",
       "      <td>Саратов</td>\n",
       "      <td>Личные вещи</td>\n",
       "      <td>Одежда, обувь, аксессуары</td>\n",
       "      <td>Женская одежда</td>\n",
       "      <td>Платья и юбки</td>\n",
       "      <td>44–46 (M)</td>\n",
       "      <td>Красивое платье на одно плечо, в идеале размер м</td>\n",
       "      <td>Заказывала в Сша, прекрасное качество, в деле ...</td>\n",
       "      <td>1000.0</td>\n",
       "      <td>1280</td>\n",
       "      <td>2017-04-13</td>\n",
       "      <td>Company</td>\n",
       "      <td>eb21745ba276d3b00b05856a58fe719e31a82419c0221a...</td>\n",
       "      <td>386.0</td>\n",
       "    </tr>\n",
       "    <tr>\n",
       "      <th>4</th>\n",
       "      <td>b01000d29ea3</td>\n",
       "      <td>b17f14110367</td>\n",
       "      <td>Удмуртия</td>\n",
       "      <td>Ижевск</td>\n",
       "      <td>Личные вещи</td>\n",
       "      <td>Детская одежда и обувь</td>\n",
       "      <td>Для мальчиков</td>\n",
       "      <td>Шапки, варежки, шарфы</td>\n",
       "      <td>NaN</td>\n",
       "      <td>Стильная панама</td>\n",
       "      <td>Состояние новой. Размер до года- полтора.  По ...</td>\n",
       "      <td>150.0</td>\n",
       "      <td>145</td>\n",
       "      <td>2017-04-14</td>\n",
       "      <td>Company</td>\n",
       "      <td>5bf1001fa681b96f121ad8047c85e3747f3dac37830dd0...</td>\n",
       "      <td>209.0</td>\n",
       "    </tr>\n",
       "  </tbody>\n",
       "</table>\n",
       "</div>"
      ],
      "text/plain": [
       "        item_id       user_id                region               city  \\\n",
       "0  793dd3d5f0f0  9467e0341c0e        Алтайский край            Барнаул   \n",
       "1  f8c965d9b668  1905516660f5  Свердловская область  Каменск-Уральский   \n",
       "2  2f153c00d561  b4dc4849fdd4     Самарская область             Самара   \n",
       "3  7fc5eea56915  02c14d39fdb4   Саратовская область            Саратов   \n",
       "4  b01000d29ea3  b17f14110367              Удмуртия             Ижевск   \n",
       "\n",
       "  parent_category_name              category_name                   param_1  \\\n",
       "0          Личные вещи     Детская одежда и обувь               Для девочек   \n",
       "1      Для дома и дачи          Мебель и интерьер  Кровати, диваны и кресла   \n",
       "2  Бытовая электроника                   Телефоны                   Samsung   \n",
       "3          Личные вещи  Одежда, обувь, аксессуары            Женская одежда   \n",
       "4          Личные вещи     Детская одежда и обувь             Для мальчиков   \n",
       "\n",
       "                 param_2                 param_3  \\\n",
       "0          Платья и юбки  146-152 см (10-12 лет)   \n",
       "1                    NaN                     NaN   \n",
       "2                    NaN                     NaN   \n",
       "3          Платья и юбки               44–46 (M)   \n",
       "4  Шапки, варежки, шарфы                     NaN   \n",
       "\n",
       "                                              title  \\\n",
       "0                    Платье праздничное для девочки   \n",
       "1                              Кровать двухспальная   \n",
       "2                          Samsung S3 mini gt-i8190   \n",
       "3  Красивое платье на одно плечо, в идеале размер м   \n",
       "4                                   Стильная панама   \n",
       "\n",
       "                                         description   price  item_seq_number  \\\n",
       "0                                Очень красивое торг  1500.0              106   \n",
       "1  Двуспальная кровать 140х200 с металлическим ка...  5700.0               10   \n",
       "2  Продам телефон самсунг 2 ядра, 1 гиг оперативн...  1500.0                6   \n",
       "3  Заказывала в Сша, прекрасное качество, в деле ...  1000.0             1280   \n",
       "4  Состояние новой. Размер до года- полтора.  По ...   150.0              145   \n",
       "\n",
       "  activation_date user_type  \\\n",
       "0      2017-04-12   Company   \n",
       "1      2017-04-15   Private   \n",
       "2      2017-04-12   Private   \n",
       "3      2017-04-13   Company   \n",
       "4      2017-04-14   Company   \n",
       "\n",
       "                                               image  image_top_1  \n",
       "0  ace7b2b7f066a6b6ff244f90d030c2c1a1bf118dd0e1ac...        573.0  \n",
       "1  b38ef24dd5b876ed626bd98241e228e4e19e4160d33abe...       1439.0  \n",
       "2  8530cc0c8d5dc6d212497dffd610d89b92a7db952934db...       2932.0  \n",
       "3  eb21745ba276d3b00b05856a58fe719e31a82419c0221a...        386.0  \n",
       "4  5bf1001fa681b96f121ad8047c85e3747f3dac37830dd0...        209.0  "
      ]
     },
     "execution_count": 2,
     "metadata": {},
     "output_type": "execute_result"
    }
   ],
   "source": [
    "data = pd.read_csv('data.csv')\n",
    "data.head(5)"
   ]
  },
  {
   "cell_type": "code",
   "execution_count": 3,
   "metadata": {},
   "outputs": [
    {
     "data": {
      "text/plain": [
       "(254219, 2)"
      ]
     },
     "execution_count": 3,
     "metadata": {},
     "output_type": "execute_result"
    }
   ],
   "source": [
    "data = data[['category_name', 'title']]\n",
    "data.shape"
   ]
  },
  {
   "cell_type": "code",
   "execution_count": 4,
   "metadata": {},
   "outputs": [],
   "source": [
    "from sklearn.cluster import AffinityPropagation, AgglomerativeClustering, DBSCAN, \\\n",
    "                            KMeans, MiniBatchKMeans, Birch, MeanShift, SpectralClustering\n",
    "from sklearn.metrics import adjusted_rand_score, adjusted_mutual_info_score, \\\n",
    "                            silhouette_score\n",
    "\n",
    "from sklearn.feature_extraction.text import CountVectorizer, TfidfVectorizer\n",
    "from sklearn.decomposition import TruncatedSVD, NMF\n",
    "from sklearn import metrics\n",
    "from sklearn.datasets import make_blobs"
   ]
  },
  {
   "cell_type": "markdown",
   "metadata": {},
   "source": [
    "## CountVectorizer & TfidfVectorizer"
   ]
  },
  {
   "cell_type": "code",
   "execution_count": 5,
   "metadata": {},
   "outputs": [],
   "source": [
    "import numpy as np"
   ]
  },
  {
   "cell_type": "code",
   "execution_count": 6,
   "metadata": {},
   "outputs": [],
   "source": [
    "ngram_values = [(1,1), (1,2), (2,2), (1,3), (2,3), (3,3)]\n",
    "max_df_values = np.arange(0.01, 0.1, 0.01)\n",
    "max_features_values = np.arange(500, 2000, 100)\n",
    "min_df_values = np.arange(0.001, 0.01, 0.001)"
   ]
  },
  {
   "cell_type": "code",
   "execution_count": 7,
   "metadata": {},
   "outputs": [],
   "source": [
    "cv, tfidf = CountVectorizer, TfidfVectorizer"
   ]
  },
  {
   "cell_type": "code",
   "execution_count": 8,
   "metadata": {},
   "outputs": [],
   "source": [
    "def vectorizer(vec, cluster):\n",
    "    X = vec.fit_transform(sample['title'])\n",
    "    cluster\n",
    "    cluster.fit(X)\n",
    "    labels = cluster.labels_\n",
    "    return metrics.v_measure_score(y, labels)"
   ]
  },
  {
   "cell_type": "code",
   "execution_count": 11,
   "metadata": {},
   "outputs": [],
   "source": [
    "def ngram_metrics(cluster, values):\n",
    "    cv, tfidf = CountVectorizer, TfidfVectorizer\n",
    "    cv_results, tfidf_results = {}, {}\n",
    "    for v in values:\n",
    "        measure_cv = vectorizer(cv(ngram_range=v), cluster)\n",
    "        cv_results[v] = measure_cv\n",
    "        measure_tfidf = vectorizer(tfidf(ngram_range=v), cluster)\n",
    "        tfidf_results[v] = measure_tfidf\n",
    "        \n",
    "    cv_max, tfidf_max = max(cv_results.values()), max(tfidf_results.values())\n",
    "    if cv_max > tfidf_max:\n",
    "        print('ngram_range = {}, cv wins: {}'.format(max(cv_results, key=cv_results.get), cv_max))\n",
    "        return \"cv\"\n",
    "    elif cv_max < tfidf_max:\n",
    "        print('ngram_range = {}, tfidf wins: {}'.format(max(tfidf_results, key=tfidf_results.get), tfidf_max))\n",
    "        return \"tfidf\"\n",
    "    else:\n",
    "        print('ngram_range = {}, cv = tfidf: {}'.format(max(tfidf_results, key=tfidf_results.get), tfidf_max))\n",
    "        return \"equal\""
   ]
  },
  {
   "cell_type": "code",
   "execution_count": 12,
   "metadata": {},
   "outputs": [],
   "source": [
    "def max_features_metrics(cluster, values):\n",
    "    cv, tfidf = CountVectorizer, TfidfVectorizer\n",
    "    cv_results, tfidf_results = {}, {}\n",
    "    for v in values:\n",
    "        measure_cv = vectorizer(cv(max_features=v), cluster)\n",
    "        cv_results[v] = measure_cv\n",
    "        measure_tfidf = vectorizer(tfidf(max_features=v), cluster)\n",
    "        tfidf_results[v] = measure_tfidf\n",
    "        \n",
    "    cv_max, tfidf_max = max(cv_results.values()), max(tfidf_results.values())\n",
    "    if cv_max > tfidf_max:\n",
    "        print('max_reatures = {}, cv wins: {}'.format(max(cv_results, key=cv_results.get), cv_max))\n",
    "        return \"cv\"\n",
    "    elif cv_max < tfidf_max:\n",
    "        print('max_reatures = {}, tfidf wins: {}'.format(max(tfidf_results, key=tfidf_results.get), tfidf_max))\n",
    "        return \"tfidf\"\n",
    "    else:\n",
    "        print('max_reatures = {}, cv = tfidf: {}'.format(max(tfidf_results, key=tfidf_results.get), tfidf_max))\n",
    "        return \"equal\""
   ]
  },
  {
   "cell_type": "code",
   "execution_count": 13,
   "metadata": {},
   "outputs": [],
   "source": [
    "def min_df_metrics(cluster, values):\n",
    "    cv, tfidf = CountVectorizer, TfidfVectorizer\n",
    "    cv_results, tfidf_results = {}, {}\n",
    "    for v in values:\n",
    "        measure_cv = vectorizer(cv(min_df=v), cluster)\n",
    "        cv_results[v] = measure_cv\n",
    "        measure_tfidf = vectorizer(tfidf(min_df=v), cluster)\n",
    "        tfidf_results[v] = measure_tfidf\n",
    "        # print('min_df={:.4f}, cv:{:.4f}, tfidf: {:.4f}'.format(v, measure_cv, measure_tfidf))\n",
    "    cv_max, tfidf_max = max(cv_results.values()), max(tfidf_results.values())\n",
    "    if cv_max > tfidf_max:\n",
    "        print('min_df = {}, cv wins: {}'.format(max(cv_results, key=cv_results.get), cv_max))\n",
    "        return \"cv\"\n",
    "    elif cv_max < tfidf_max:\n",
    "        print('min_df = {}, tfidf wins: {}'.format(max(tfidf_results, key=tfidf_results.get), tfidf_max))\n",
    "        return \"tfidf\"\n",
    "    else:\n",
    "        print('min_df = {}, cv = tfidf: {}'.format(max(tfidf_results, key=tfidf_results.get), tfidf_max))\n",
    "        return \"equal\""
   ]
  },
  {
   "cell_type": "code",
   "execution_count": 14,
   "metadata": {},
   "outputs": [],
   "source": [
    "def all_param_metrics(cluster):\n",
    "    s1 = ngram_metrics(cluster, ngram_values)\n",
    "    s2 = max_features_metrics(cluster, max_features_values)\n",
    "    s3 = min_df_metrics(cluster, min_df_values)\n",
    "    results = [s1, s2, s3]\n",
    "    cv_counter, tfidf_counter = 0, 0\n",
    "    for i in results:\n",
    "        if i == 'cv':\n",
    "            cv_counter += 1\n",
    "        if i == 'tfidf':\n",
    "            tfidf_counter += 1\n",
    "            \n",
    "    if cv_counter > tfidf_counter:\n",
    "        print('cv works better.')\n",
    "    elif cv_counter < tfidf_counter:\n",
    "        print('tfidf works better.')\n",
    "    else:\n",
    "        print('No significant difference.')"
   ]
  },
  {
   "cell_type": "markdown",
   "metadata": {},
   "source": [
    "### AffinityPropagation"
   ]
  },
  {
   "cell_type": "code",
   "execution_count": 23,
   "metadata": {},
   "outputs": [],
   "source": [
    "sample = data.sample(frac=0.01)\n",
    "y = sample['category_name']"
   ]
  },
  {
   "cell_type": "code",
   "execution_count": 24,
   "metadata": {},
   "outputs": [],
   "source": [
    "cluster_AP = AffinityPropagation(damping=0.7, preference=-2, \n",
    "                              max_iter=400, convergence_iter=10)"
   ]
  },
  {
   "cell_type": "code",
   "execution_count": 26,
   "metadata": {},
   "outputs": [
    {
     "name": "stdout",
     "output_type": "stream",
     "text": [
      "ngram_range = (1, 1), cv wins: 0.5698980484643223\n",
      "max_reatures = 1600, cv wins: 0.5446184170329842\n",
      "min_df = 0.008, tfidf wins: 0.5805949691390465\n",
      "cv works better.\n"
     ]
    }
   ],
   "source": [
    "all_param_metrics(cluster_AP)"
   ]
  },
  {
   "cell_type": "markdown",
   "metadata": {},
   "source": [
    "для кластеризации AffinityPropagation cv работает лучше."
   ]
  },
  {
   "cell_type": "markdown",
   "metadata": {},
   "source": [
    "### K-means"
   ]
  },
  {
   "cell_type": "code",
   "execution_count": 15,
   "metadata": {},
   "outputs": [],
   "source": [
    "sample = data.sample(frac=0.1)\n",
    "y = sample['category_name']"
   ]
  },
  {
   "cell_type": "code",
   "execution_count": 16,
   "metadata": {},
   "outputs": [],
   "source": [
    "cluster_KM = KMeans(n_clusters=47, random_state=42)"
   ]
  },
  {
   "cell_type": "code",
   "execution_count": 18,
   "metadata": {},
   "outputs": [
    {
     "name": "stdout",
     "output_type": "stream",
     "text": [
      "ngram_range = (1, 1), tfidf wins: 0.33469607301167265\n",
      "max_reatures = 1300, tfidf wins: 0.33207522941082585\n",
      "min_df = 0.004, tfidf wins: 0.341435054644198\n",
      "tfidf works better.\n"
     ]
    }
   ],
   "source": [
    "all_param_metrics(cluster_KM)"
   ]
  },
  {
   "cell_type": "markdown",
   "metadata": {},
   "source": [
    "для кластеризации K-Means tfidf работает лучше."
   ]
  },
  {
   "cell_type": "markdown",
   "metadata": {},
   "source": [
    "### Mini Batch K-means"
   ]
  },
  {
   "cell_type": "code",
   "execution_count": 19,
   "metadata": {},
   "outputs": [],
   "source": [
    "sample = data.sample(frac=1)\n",
    "y = sample['category_name']"
   ]
  },
  {
   "cell_type": "code",
   "execution_count": 20,
   "metadata": {},
   "outputs": [],
   "source": [
    "cluster_MB = MiniBatchKMeans(n_clusters=1000, init_size=5000, max_iter=5000, \n",
    "                          max_no_improvement=100, reassignment_ratio=0.3)"
   ]
  },
  {
   "cell_type": "code",
   "execution_count": 27,
   "metadata": {},
   "outputs": [
    {
     "name": "stdout",
     "output_type": "stream",
     "text": [
      "ngram_range = (1, 1), tfidf wins: 0.5388850584950262\n",
      "max_reatures = 1400, tfidf wins: 0.5391361217211368\n",
      "min_df = 0.001, tfidf wins: 0.5085488568431709\n",
      "tfidf works better.\n"
     ]
    }
   ],
   "source": [
    "all_param_metrics(cluster_MB)"
   ]
  },
  {
   "cell_type": "markdown",
   "metadata": {},
   "source": [
    "для кластеризации Mini Batch K-means tfidf работает лучше."
   ]
  },
  {
   "cell_type": "markdown",
   "metadata": {},
   "source": [
    "## SVD & NMF"
   ]
  },
  {
   "cell_type": "code",
   "execution_count": 28,
   "metadata": {},
   "outputs": [],
   "source": [
    "def SVD_NMF(m, v, cluster):\n",
    "    X_cv = v.fit_transform(sample['title'])\n",
    "    md = m(50, random_state=42)\n",
    "    X_md = md.fit_transform(X_cv)\n",
    "    cluster.fit(X_md)\n",
    "    labels = cluster.labels_\n",
    "    return metrics.v_measure_score(y, labels)"
   ]
  },
  {
   "cell_type": "code",
   "execution_count": 44,
   "metadata": {},
   "outputs": [],
   "source": [
    "def SVD_NMF_metrics(v, cluster):\n",
    "    svd = SVD_NMF(TruncatedSVD, v, cluster)\n",
    "    print('SVD: ', svd)\n",
    "    nmf = SVD_NMF(NMF, v, cluster)\n",
    "    print('NMF: ', nmf)\n",
    "    if svd > nmf:\n",
    "        print('SVD works better.')\n",
    "    elif svd < nmf:\n",
    "        print('NMF works better.')\n",
    "    else:\n",
    "        print('No significant difference.')"
   ]
  },
  {
   "cell_type": "markdown",
   "metadata": {},
   "source": [
    "### AgglomerativeClustering"
   ]
  },
  {
   "cell_type": "code",
   "execution_count": 30,
   "metadata": {},
   "outputs": [],
   "source": [
    "cv = CountVectorizer(min_df=2, max_df=0.4)\n",
    "tfidf = TfidfVectorizer(min_df=2, max_df=0.4)"
   ]
  },
  {
   "cell_type": "code",
   "execution_count": 31,
   "metadata": {},
   "outputs": [],
   "source": [
    "sample = data.sample(frac=0.05)\n",
    "y = sample['category_name']"
   ]
  },
  {
   "cell_type": "code",
   "execution_count": 32,
   "metadata": {},
   "outputs": [],
   "source": [
    "cluster_AC = AgglomerativeClustering(n_clusters=47)"
   ]
  },
  {
   "cell_type": "code",
   "execution_count": 45,
   "metadata": {},
   "outputs": [
    {
     "name": "stdout",
     "output_type": "stream",
     "text": [
      "SVD:  0.34178172630851433\n",
      "NMF:  0.3191889669730052\n",
      "SVD works better.\n"
     ]
    }
   ],
   "source": [
    "SVD_NMF_metrics(cv, cluster_AC)"
   ]
  },
  {
   "cell_type": "code",
   "execution_count": 46,
   "metadata": {},
   "outputs": [
    {
     "name": "stdout",
     "output_type": "stream",
     "text": [
      "SVD:  0.3461811548438889\n",
      "NMF:  0.3467587942893949\n",
      "NMF works better.\n"
     ]
    }
   ],
   "source": [
    "SVD_NMF_metrics(tfidf, cluster_AC)"
   ]
  },
  {
   "cell_type": "markdown",
   "metadata": {},
   "source": [
    "### Mean Shift"
   ]
  },
  {
   "cell_type": "code",
   "execution_count": 42,
   "metadata": {},
   "outputs": [],
   "source": [
    "cluster_MS = MeanShift(cluster_all=False, bandwidth=0.5)"
   ]
  },
  {
   "cell_type": "code",
   "execution_count": 47,
   "metadata": {},
   "outputs": [
    {
     "name": "stdout",
     "output_type": "stream",
     "text": [
      "SVD:  0.34839558556600464\n",
      "NMF:  0.014487507213012698\n",
      "SVD works better.\n"
     ]
    }
   ],
   "source": [
    "SVD_NMF_metrics(cv, cluster_MS)"
   ]
  },
  {
   "cell_type": "code",
   "execution_count": 48,
   "metadata": {},
   "outputs": [
    {
     "name": "stdout",
     "output_type": "stream",
     "text": [
      "SVD:  0.31620741406261077\n",
      "NMF:  -3.2380793922320024e-16\n",
      "SVD works better.\n"
     ]
    }
   ],
   "source": [
    "SVD_NMF_metrics(tfidf, cluster_MS)"
   ]
  },
  {
   "cell_type": "markdown",
   "metadata": {},
   "source": [
    "### DBSCAN"
   ]
  },
  {
   "cell_type": "code",
   "execution_count": 49,
   "metadata": {},
   "outputs": [],
   "source": [
    "cluster_D = DBSCAN(min_samples=10, eps=0.3)"
   ]
  },
  {
   "cell_type": "code",
   "execution_count": 50,
   "metadata": {},
   "outputs": [
    {
     "name": "stdout",
     "output_type": "stream",
     "text": [
      "SVD:  0.31527851424516584\n",
      "NMF:  0.015285738513046368\n",
      "SVD works better.\n"
     ]
    }
   ],
   "source": [
    "SVD_NMF_metrics(cv, cluster_D)"
   ]
  },
  {
   "cell_type": "code",
   "execution_count": 51,
   "metadata": {},
   "outputs": [
    {
     "name": "stdout",
     "output_type": "stream",
     "text": [
      "SVD:  0.1566098859508628\n",
      "NMF:  -3.2380793922320024e-16\n",
      "SVD works better.\n"
     ]
    }
   ],
   "source": [
    "SVD_NMF_metrics(tfidf, cluster_D)"
   ]
  },
  {
   "cell_type": "markdown",
   "metadata": {},
   "source": [
    "## необычные объявления"
   ]
  },
  {
   "cell_type": "code",
   "execution_count": 54,
   "metadata": {},
   "outputs": [],
   "source": [
    "def labels(cluster):\n",
    "    cv = CountVectorizer(min_df = 0.001, max_df=0.4)\n",
    "    X = cv.fit_transform(sample['title'])\n",
    "    svd = TruncatedSVD(50)\n",
    "    X_svd = svd.fit_transform(X)\n",
    "    cluster.fit(X_svd)\n",
    "    labels = cluster.labels_\n",
    "    return labels"
   ]
  },
  {
   "cell_type": "code",
   "execution_count": 55,
   "metadata": {},
   "outputs": [],
   "source": [
    "sample = data.sample(frac=0.05)\n",
    "y = sample['category_name']"
   ]
  },
  {
   "cell_type": "markdown",
   "metadata": {},
   "source": [
    "### Mean Shift"
   ]
  },
  {
   "cell_type": "code",
   "execution_count": 56,
   "metadata": {},
   "outputs": [],
   "source": [
    "sample['cluster'] = labels(cluster_MS)"
   ]
  },
  {
   "cell_type": "code",
   "execution_count": 57,
   "metadata": {},
   "outputs": [
    {
     "data": {
      "text/html": [
       "<div>\n",
       "<style scoped>\n",
       "    .dataframe tbody tr th:only-of-type {\n",
       "        vertical-align: middle;\n",
       "    }\n",
       "\n",
       "    .dataframe tbody tr th {\n",
       "        vertical-align: top;\n",
       "    }\n",
       "\n",
       "    .dataframe thead th {\n",
       "        text-align: right;\n",
       "    }\n",
       "</style>\n",
       "<table border=\"1\" class=\"dataframe\">\n",
       "  <thead>\n",
       "    <tr style=\"text-align: right;\">\n",
       "      <th></th>\n",
       "      <th>category_name</th>\n",
       "      <th>title</th>\n",
       "      <th>cluster</th>\n",
       "    </tr>\n",
       "  </thead>\n",
       "  <tbody>\n",
       "    <tr>\n",
       "      <th>101626</th>\n",
       "      <td>Товары для компьютера</td>\n",
       "      <td>Неисправный ЭЛТ-монитор Scott 17\"</td>\n",
       "      <td>-1</td>\n",
       "    </tr>\n",
       "    <tr>\n",
       "      <th>239198</th>\n",
       "      <td>Комнаты</td>\n",
       "      <td>Куплю комнату</td>\n",
       "      <td>-1</td>\n",
       "    </tr>\n",
       "    <tr>\n",
       "      <th>145598</th>\n",
       "      <td>Квартиры</td>\n",
       "      <td>1-к квартира, 38 м², 17/19 эт.</td>\n",
       "      <td>-1</td>\n",
       "    </tr>\n",
       "    <tr>\n",
       "      <th>5662</th>\n",
       "      <td>Ремонт и строительство</td>\n",
       "      <td>Отдам доски даром</td>\n",
       "      <td>-1</td>\n",
       "    </tr>\n",
       "    <tr>\n",
       "      <th>210122</th>\n",
       "      <td>Собаки</td>\n",
       "      <td>Отдам собаку</td>\n",
       "      <td>-1</td>\n",
       "    </tr>\n",
       "    <tr>\n",
       "      <th>67342</th>\n",
       "      <td>Собаки</td>\n",
       "      <td>Отдам Шар-пей кобель</td>\n",
       "      <td>-1</td>\n",
       "    </tr>\n",
       "    <tr>\n",
       "      <th>101695</th>\n",
       "      <td>Ремонт и строительство</td>\n",
       "      <td>Отдам рамы со стеклом и так же стекло</td>\n",
       "      <td>-1</td>\n",
       "    </tr>\n",
       "    <tr>\n",
       "      <th>226471</th>\n",
       "      <td>Детская одежда и обувь</td>\n",
       "      <td>Отдам за шоколадку</td>\n",
       "      <td>-1</td>\n",
       "    </tr>\n",
       "    <tr>\n",
       "      <th>51842</th>\n",
       "      <td>Другие животные</td>\n",
       "      <td>Отдаю декоративного кролика в хорошие руки</td>\n",
       "      <td>-1</td>\n",
       "    </tr>\n",
       "    <tr>\n",
       "      <th>18535</th>\n",
       "      <td>Детская одежда и обувь</td>\n",
       "      <td>Летние кожаные босоножки</td>\n",
       "      <td>-1</td>\n",
       "    </tr>\n",
       "    <tr>\n",
       "      <th>158513</th>\n",
       "      <td>Комнаты</td>\n",
       "      <td>Сниму комнату</td>\n",
       "      <td>-1</td>\n",
       "    </tr>\n",
       "    <tr>\n",
       "      <th>229379</th>\n",
       "      <td>Телефоны</td>\n",
       "      <td>Смартфон Samsung Galaxy S III GT-I9300 16Gb</td>\n",
       "      <td>-1</td>\n",
       "    </tr>\n",
       "    <tr>\n",
       "      <th>76969</th>\n",
       "      <td>Кошки</td>\n",
       "      <td>Отдам котят</td>\n",
       "      <td>-1</td>\n",
       "    </tr>\n",
       "    <tr>\n",
       "      <th>60004</th>\n",
       "      <td>Одежда, обувь, аксессуары</td>\n",
       "      <td>Кофта тёплая, 42-46 размер</td>\n",
       "      <td>-1</td>\n",
       "    </tr>\n",
       "    <tr>\n",
       "      <th>118456</th>\n",
       "      <td>Другие животные</td>\n",
       "      <td>Отдам декоративного кролика</td>\n",
       "      <td>-1</td>\n",
       "    </tr>\n",
       "    <tr>\n",
       "      <th>210409</th>\n",
       "      <td>Собаки</td>\n",
       "      <td>Отдам собаку</td>\n",
       "      <td>-1</td>\n",
       "    </tr>\n",
       "    <tr>\n",
       "      <th>191772</th>\n",
       "      <td>Комнаты</td>\n",
       "      <td>Сниму комнату</td>\n",
       "      <td>-1</td>\n",
       "    </tr>\n",
       "    <tr>\n",
       "      <th>136003</th>\n",
       "      <td>Кошки</td>\n",
       "      <td>Отдам котенка</td>\n",
       "      <td>-1</td>\n",
       "    </tr>\n",
       "    <tr>\n",
       "      <th>219730</th>\n",
       "      <td>Собаки</td>\n",
       "      <td>Отдам немецкую овчарку</td>\n",
       "      <td>-1</td>\n",
       "    </tr>\n",
       "    <tr>\n",
       "      <th>102658</th>\n",
       "      <td>Комнаты</td>\n",
       "      <td>Куплю комнату</td>\n",
       "      <td>-1</td>\n",
       "    </tr>\n",
       "  </tbody>\n",
       "</table>\n",
       "</div>"
      ],
      "text/plain": [
       "                    category_name  \\\n",
       "101626      Товары для компьютера   \n",
       "239198                    Комнаты   \n",
       "145598                   Квартиры   \n",
       "5662       Ремонт и строительство   \n",
       "210122                     Собаки   \n",
       "67342                      Собаки   \n",
       "101695     Ремонт и строительство   \n",
       "226471     Детская одежда и обувь   \n",
       "51842             Другие животные   \n",
       "18535      Детская одежда и обувь   \n",
       "158513                    Комнаты   \n",
       "229379                   Телефоны   \n",
       "76969                       Кошки   \n",
       "60004   Одежда, обувь, аксессуары   \n",
       "118456            Другие животные   \n",
       "210409                     Собаки   \n",
       "191772                    Комнаты   \n",
       "136003                      Кошки   \n",
       "219730                     Собаки   \n",
       "102658                    Комнаты   \n",
       "\n",
       "                                              title  cluster  \n",
       "101626            Неисправный ЭЛТ-монитор Scott 17\"       -1  \n",
       "239198                                Куплю комнату       -1  \n",
       "145598               1-к квартира, 38 м², 17/19 эт.       -1  \n",
       "5662                              Отдам доски даром       -1  \n",
       "210122                                 Отдам собаку       -1  \n",
       "67342                          Отдам Шар-пей кобель       -1  \n",
       "101695        Отдам рамы со стеклом и так же стекло       -1  \n",
       "226471                           Отдам за шоколадку       -1  \n",
       "51842    Отдаю декоративного кролика в хорошие руки       -1  \n",
       "18535                      Летние кожаные босоножки       -1  \n",
       "158513                                Сниму комнату       -1  \n",
       "229379  Смартфон Samsung Galaxy S III GT-I9300 16Gb       -1  \n",
       "76969                                   Отдам котят       -1  \n",
       "60004                    Кофта тёплая, 42-46 размер       -1  \n",
       "118456                  Отдам декоративного кролика       -1  \n",
       "210409                                 Отдам собаку       -1  \n",
       "191772                                Сниму комнату       -1  \n",
       "136003                                Отдам котенка       -1  \n",
       "219730                       Отдам немецкую овчарку       -1  \n",
       "102658                                Куплю комнату       -1  "
      ]
     },
     "execution_count": 57,
     "metadata": {},
     "output_type": "execute_result"
    }
   ],
   "source": [
    "sample[sample.cluster==-1].head(20)"
   ]
  },
  {
   "cell_type": "markdown",
   "metadata": {},
   "source": [
    "\"Отдам за шоколадку\" в категории \"Детская одежда и обувь\". Отдать за шоколадку можно и любую вещь.\n",
    "\n",
    "\"Отдам декоративного кролика\" в категории \"Другие животные\". Декоративный кролик не относится к категории \"Другие животные\"."
   ]
  },
  {
   "cell_type": "markdown",
   "metadata": {},
   "source": [
    "### DBSCAN"
   ]
  },
  {
   "cell_type": "code",
   "execution_count": 58,
   "metadata": {},
   "outputs": [],
   "source": [
    "sample['cluster'] = labels(cluster_D)"
   ]
  },
  {
   "cell_type": "code",
   "execution_count": 59,
   "metadata": {},
   "outputs": [
    {
     "data": {
      "text/html": [
       "<div>\n",
       "<style scoped>\n",
       "    .dataframe tbody tr th:only-of-type {\n",
       "        vertical-align: middle;\n",
       "    }\n",
       "\n",
       "    .dataframe tbody tr th {\n",
       "        vertical-align: top;\n",
       "    }\n",
       "\n",
       "    .dataframe thead th {\n",
       "        text-align: right;\n",
       "    }\n",
       "</style>\n",
       "<table border=\"1\" class=\"dataframe\">\n",
       "  <thead>\n",
       "    <tr style=\"text-align: right;\">\n",
       "      <th></th>\n",
       "      <th>category_name</th>\n",
       "      <th>title</th>\n",
       "      <th>cluster</th>\n",
       "    </tr>\n",
       "  </thead>\n",
       "  <tbody>\n",
       "    <tr>\n",
       "      <th>64461</th>\n",
       "      <td>Спорт и отдых</td>\n",
       "      <td>Продам кроссовки на роликах heelys</td>\n",
       "      <td>-1</td>\n",
       "    </tr>\n",
       "    <tr>\n",
       "      <th>36254</th>\n",
       "      <td>Одежда, обувь, аксессуары</td>\n",
       "      <td>Юбка новая классика</td>\n",
       "      <td>-1</td>\n",
       "    </tr>\n",
       "    <tr>\n",
       "      <th>23801</th>\n",
       "      <td>Телефоны</td>\n",
       "      <td>Дисплейный модуль (новый) iPhone 4s</td>\n",
       "      <td>-1</td>\n",
       "    </tr>\n",
       "    <tr>\n",
       "      <th>171513</th>\n",
       "      <td>Грузовики и спецтехника</td>\n",
       "      <td>Продам Урал самосвал 10 тн, 2007 гв</td>\n",
       "      <td>-1</td>\n",
       "    </tr>\n",
       "    <tr>\n",
       "      <th>248751</th>\n",
       "      <td>Комнаты</td>\n",
       "      <td>Комната 12 м² в 1-к, 2/9 эт.</td>\n",
       "      <td>-1</td>\n",
       "    </tr>\n",
       "    <tr>\n",
       "      <th>36454</th>\n",
       "      <td>Детская одежда и обувь</td>\n",
       "      <td>Парка зима-осень</td>\n",
       "      <td>-1</td>\n",
       "    </tr>\n",
       "    <tr>\n",
       "      <th>32375</th>\n",
       "      <td>Телефоны</td>\n",
       "      <td>Чехол на iPhone 5C</td>\n",
       "      <td>-1</td>\n",
       "    </tr>\n",
       "    <tr>\n",
       "      <th>211496</th>\n",
       "      <td>Детская одежда и обувь</td>\n",
       "      <td>Куртка демисезонная детская р-р.100-110</td>\n",
       "      <td>-1</td>\n",
       "    </tr>\n",
       "    <tr>\n",
       "      <th>101626</th>\n",
       "      <td>Товары для компьютера</td>\n",
       "      <td>Неисправный ЭЛТ-монитор Scott 17\"</td>\n",
       "      <td>-1</td>\n",
       "    </tr>\n",
       "    <tr>\n",
       "      <th>223165</th>\n",
       "      <td>Велосипеды</td>\n",
       "      <td>Продам б/у велосипед \"стриж\"</td>\n",
       "      <td>-1</td>\n",
       "    </tr>\n",
       "    <tr>\n",
       "      <th>38780</th>\n",
       "      <td>Детская одежда и обувь</td>\n",
       "      <td>Новый детский свитер</td>\n",
       "      <td>-1</td>\n",
       "    </tr>\n",
       "    <tr>\n",
       "      <th>10778</th>\n",
       "      <td>Квартиры</td>\n",
       "      <td>Студия, 24 м², 3/4 эт.</td>\n",
       "      <td>-1</td>\n",
       "    </tr>\n",
       "    <tr>\n",
       "      <th>22726</th>\n",
       "      <td>Квартиры</td>\n",
       "      <td>2-к квартира, 70 м², 15/15 эт.</td>\n",
       "      <td>-1</td>\n",
       "    </tr>\n",
       "    <tr>\n",
       "      <th>176366</th>\n",
       "      <td>Мебель и интерьер</td>\n",
       "      <td>Кухонный новый стол</td>\n",
       "      <td>-1</td>\n",
       "    </tr>\n",
       "    <tr>\n",
       "      <th>122336</th>\n",
       "      <td>Одежда, обувь, аксессуары</td>\n",
       "      <td>Сапоги осенни новые</td>\n",
       "      <td>-1</td>\n",
       "    </tr>\n",
       "    <tr>\n",
       "      <th>158058</th>\n",
       "      <td>Товары для детей и игрушки</td>\n",
       "      <td>Комплект на выписку</td>\n",
       "      <td>-1</td>\n",
       "    </tr>\n",
       "    <tr>\n",
       "      <th>84890</th>\n",
       "      <td>Земельные участки</td>\n",
       "      <td>Участок 12 сот. (ИЖС)</td>\n",
       "      <td>-1</td>\n",
       "    </tr>\n",
       "    <tr>\n",
       "      <th>146038</th>\n",
       "      <td>Планшеты и электронные книги</td>\n",
       "      <td>Новый 10.1\" Планшет RoverPad Air Q10 8 Гб. 3G</td>\n",
       "      <td>-1</td>\n",
       "    </tr>\n",
       "    <tr>\n",
       "      <th>122688</th>\n",
       "      <td>Детская одежда и обувь</td>\n",
       "      <td>Комплект на мальчика на рост 98-104</td>\n",
       "      <td>-1</td>\n",
       "    </tr>\n",
       "    <tr>\n",
       "      <th>19250</th>\n",
       "      <td>Охота и рыбалка</td>\n",
       "      <td>Домашнее устройство для готовки для копчения д...</td>\n",
       "      <td>-1</td>\n",
       "    </tr>\n",
       "  </tbody>\n",
       "</table>\n",
       "</div>"
      ],
      "text/plain": [
       "                       category_name  \\\n",
       "64461                  Спорт и отдых   \n",
       "36254      Одежда, обувь, аксессуары   \n",
       "23801                       Телефоны   \n",
       "171513       Грузовики и спецтехника   \n",
       "248751                       Комнаты   \n",
       "36454         Детская одежда и обувь   \n",
       "32375                       Телефоны   \n",
       "211496        Детская одежда и обувь   \n",
       "101626         Товары для компьютера   \n",
       "223165                    Велосипеды   \n",
       "38780         Детская одежда и обувь   \n",
       "10778                       Квартиры   \n",
       "22726                       Квартиры   \n",
       "176366             Мебель и интерьер   \n",
       "122336     Одежда, обувь, аксессуары   \n",
       "158058    Товары для детей и игрушки   \n",
       "84890              Земельные участки   \n",
       "146038  Планшеты и электронные книги   \n",
       "122688        Детская одежда и обувь   \n",
       "19250                Охота и рыбалка   \n",
       "\n",
       "                                                    title  cluster  \n",
       "64461                  Продам кроссовки на роликах heelys       -1  \n",
       "36254                                 Юбка новая классика       -1  \n",
       "23801                 Дисплейный модуль (новый) iPhone 4s       -1  \n",
       "171513                Продам Урал самосвал 10 тн, 2007 гв       -1  \n",
       "248751                       Комната 12 м² в 1-к, 2/9 эт.       -1  \n",
       "36454                                    Парка зима-осень       -1  \n",
       "32375                                  Чехол на iPhone 5C       -1  \n",
       "211496            Куртка демисезонная детская р-р.100-110       -1  \n",
       "101626                  Неисправный ЭЛТ-монитор Scott 17\"       -1  \n",
       "223165                       Продам б/у велосипед \"стриж\"       -1  \n",
       "38780                                Новый детский свитер       -1  \n",
       "10778                              Студия, 24 м², 3/4 эт.       -1  \n",
       "22726                      2-к квартира, 70 м², 15/15 эт.       -1  \n",
       "176366                                Кухонный новый стол       -1  \n",
       "122336                                Сапоги осенни новые       -1  \n",
       "158058                                Комплект на выписку       -1  \n",
       "84890                               Участок 12 сот. (ИЖС)       -1  \n",
       "146038      Новый 10.1\" Планшет RoverPad Air Q10 8 Гб. 3G       -1  \n",
       "122688                Комплект на мальчика на рост 98-104       -1  \n",
       "19250   Домашнее устройство для готовки для копчения д...       -1  "
      ]
     },
     "execution_count": 59,
     "metadata": {},
     "output_type": "execute_result"
    }
   ],
   "source": [
    "sample[sample.cluster==-1].head(20)"
   ]
  },
  {
   "cell_type": "markdown",
   "metadata": {},
   "source": [
    "\"Парка зима-осень\" в категории \"Детская одежда и обувь\". Непонятно детская парка или взрослая.\n",
    "\n",
    "\"Дисплейный модуль (новый) iPhone 4s\" и \"Чехол на iPhone 5C\" в категории \"Телефоны\". Сомневаюсь, что Дисплейный модуль и чехол относятся к категории \"Телефоны\"."
   ]
  }
 ],
 "metadata": {
  "kernelspec": {
   "display_name": "Python 3",
   "language": "python",
   "name": "python3"
  }
 },
 "nbformat": 4,
 "nbformat_minor": 4
}
