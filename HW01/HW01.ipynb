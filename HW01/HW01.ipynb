{
 "cells": [
  {
   "cell_type": "markdown",
   "metadata": {
    "colab_type": "text",
    "id": "IVfOLgcmaG2F"
   },
   "source": [
    "## Задание 1"
   ]
  },
  {
   "cell_type": "code",
   "execution_count": 3,
   "metadata": {
    "colab": {},
    "colab_type": "code",
    "id": "7A7ffF31NJnn"
   },
   "outputs": [],
   "source": [
    "import pandas as pd"
   ]
  },
  {
   "cell_type": "code",
   "execution_count": 2,
   "metadata": {
    "colab": {
     "base_uri": "https://localhost:8080/",
     "height": 202
    },
    "colab_type": "code",
    "id": "0D8rv35WNnwE",
    "outputId": "0fa1fd3a-d2e4-4718-9168-1d095ec76b9e"
   },
   "outputs": [
    {
     "name": "stdout",
     "output_type": "stream",
     "text": [
      "--2020-06-26 10:57:11--  https://raw.githubusercontent.com/Yan-Weijia/ML/master/1_intro_regression/weatherHistory.csv\n",
      "Resolving raw.githubusercontent.com (raw.githubusercontent.com)... 151.101.0.133, 151.101.64.133, 151.101.128.133, ...\n",
      "Connecting to raw.githubusercontent.com (raw.githubusercontent.com)|151.101.0.133|:443... connected.\n",
      "HTTP request sent, awaiting response... 200 OK\n",
      "Length: 16294377 (16M) [text/plain]\n",
      "Saving to: ‘weatherHistory.csv’\n",
      "\n",
      "weatherHistory.csv  100%[===================>]  15.54M  37.6MB/s    in 0.4s    \n",
      "\n",
      "2020-06-26 10:57:12 (37.6 MB/s) - ‘weatherHistory.csv’ saved [16294377/16294377]\n",
      "\n"
     ]
    }
   ],
   "source": [
    "!wget https://raw.githubusercontent.com/Yan-Weijia/ML/master/1_intro_regression/weatherHistory.csv"
   ]
  },
  {
   "cell_type": "code",
   "execution_count": 3,
   "metadata": {
    "colab": {},
    "colab_type": "code",
    "id": "QoJj0CNINJon"
   },
   "outputs": [],
   "source": [
    "weather_hist = pd.read_csv('weatherHistory.csv')"
   ]
  },
  {
   "cell_type": "code",
   "execution_count": 4,
   "metadata": {
    "colab": {},
    "colab_type": "code",
    "id": "LbyTTJyrNJyd"
   },
   "outputs": [],
   "source": [
    "weather_hist.rename({'Formatted Date':'date', 'Temperature (C)':'temp', 'Apparent Temperature (C)':'temp_app',\n",
    "                    'Precip Type':'weather_type', 'Wind Speed (km/h)':'wind_speed', 'Humidity':'humidity',\n",
    "                    'Daily Summary':'summary'}, \n",
    "                    axis=1, inplace=True)"
   ]
  },
  {
   "cell_type": "code",
   "execution_count": 5,
   "metadata": {
    "colab": {},
    "colab_type": "code",
    "id": "WKaZDhT0R6lu"
   },
   "outputs": [],
   "source": [
    "weather_hist.loc[:, 'date'] = weather_hist.date.apply(pd.to_datetime)"
   ]
  },
  {
   "cell_type": "markdown",
   "metadata": {
    "colab_type": "text",
    "id": "Pa0vUlomSJl_"
   },
   "source": [
    "Самый холодный день"
   ]
  },
  {
   "cell_type": "code",
   "execution_count": 7,
   "metadata": {
    "colab": {
     "base_uri": "https://localhost:8080/",
     "height": 34
    },
    "colab_type": "code",
    "id": "lyCLVwcbSrlS",
    "outputId": "2b8bb05b-c6c9-4e1e-cd6f-05003897b0cb"
   },
   "outputs": [
    {
     "name": "stdout",
     "output_type": "stream",
     "text": [
      "2012-02-10 -21.822222222222226\n"
     ]
    }
   ],
   "source": [
    "# Temperature\n",
    "coldest_day = weather_hist.loc[weather_hist.temp.idxmin()]\n",
    "print(str(pd.to_datetime(coldest_day.date).date()), \n",
    "      str(coldest_day.temp))"
   ]
  },
  {
   "cell_type": "code",
   "execution_count": 8,
   "metadata": {
    "colab": {
     "base_uri": "https://localhost:8080/",
     "height": 34
    },
    "colab_type": "code",
    "id": "HQWf27qGS_k6",
    "outputId": "8a568cdb-094c-4d7f-e247-b1b3cad18ec0"
   },
   "outputs": [
    {
     "name": "stdout",
     "output_type": "stream",
     "text": [
      "2012-02-11 -20.0\n"
     ]
    }
   ],
   "source": [
    "# Apparent Temperature\n",
    "coldest_day_app = weather_hist.loc[weather_hist.temp_app.idxmin()]\n",
    "print(str(pd.to_datetime(coldest_day_app.date).date()), \n",
    "      str(coldest_day_app.temp))"
   ]
  },
  {
   "cell_type": "markdown",
   "metadata": {
    "colab_type": "text",
    "id": "UJuP7NaSuHUP"
   },
   "source": [
    "самый ветренный день за всю имеющуюся историю:"
   ]
  },
  {
   "cell_type": "code",
   "execution_count": 10,
   "metadata": {
    "colab": {
     "base_uri": "https://localhost:8080/",
     "height": 34
    },
    "colab_type": "code",
    "id": "1in1DUtQTGEN",
    "outputId": "51c279d4-c8e1-4039-ad73-c8a4e76c7f83"
   },
   "outputs": [
    {
     "name": "stdout",
     "output_type": "stream",
     "text": [
      "2007-01-29 63.8526\n"
     ]
    }
   ],
   "source": [
    "most_windy_day = weather_hist.loc[weather_hist.wind_speed.idxmax()]\n",
    "print(str(pd.to_datetime(most_windy_day.date).date()), \n",
    "      str(most_windy_day.wind_speed))"
   ]
  },
  {
   "cell_type": "markdown",
   "metadata": {
    "colab_type": "text",
    "id": "kh1QRBc2163v"
   },
   "source": [
    "сколько раз шел дождь летом 2014 года:"
   ]
  },
  {
   "cell_type": "code",
   "execution_count": 9,
   "metadata": {
    "colab": {
     "base_uri": "https://localhost:8080/",
     "height": 34
    },
    "colab_type": "code",
    "id": "UZi5VOiHTLkp",
    "outputId": "841c970f-3d1b-4f39-e464-e2f244143c79"
   },
   "outputs": [
    {
     "name": "stdout",
     "output_type": "stream",
     "text": [
      "92\n"
     ]
    }
   ],
   "source": [
    "rainy_days = weather_hist[weather_hist.weather_type == 'rain']\n",
    "rainy_days = rainy_days[[x.date.year == 2014 and x.date.month in (6, 7, 8)\n",
    "                         for _, x in rainy_days.iterrows()]]\n",
    "rainy_days = set(rainy_days.date.apply(lambda x: x.date()))\n",
    "\n",
    "print(len(rainy_days))"
   ]
  },
  {
   "cell_type": "markdown",
   "metadata": {
    "colab_type": "text",
    "id": "06dLgb4xUIg9"
   },
   "source": [
    "Сгруппируйтей данные по годам, месяцам и неделям (по отдельности)"
   ]
  },
  {
   "cell_type": "code",
   "execution_count": 11,
   "metadata": {
    "colab": {},
    "colab_type": "code",
    "id": "-okPiJ7PUOEg"
   },
   "outputs": [],
   "source": [
    "weather_hist['year'] = weather_hist.date.apply(lambda x: x.year)\n",
    "weather_hist['month'] = weather_hist.date.apply(lambda x: x.month)\n",
    "weather_hist['week'] = weather_hist.date.apply(lambda x: x.week)"
   ]
  },
  {
   "cell_type": "markdown",
   "metadata": {
    "colab_type": "text",
    "id": "FyxIPBVc_RkU"
   },
   "source": [
    "самый ветрянный месяц: Март"
   ]
  },
  {
   "cell_type": "code",
   "execution_count": 12,
   "metadata": {
    "colab": {
     "base_uri": "https://localhost:8080/",
     "height": 462
    },
    "colab_type": "code",
    "id": "PTczFKkNUmEe",
    "outputId": "f9efd38d-7e09-46ce-9cb9-8d2a5161c5c8"
   },
   "outputs": [
    {
     "data": {
      "text/html": [
       "<div>\n",
       "<style scoped>\n",
       "    .dataframe tbody tr th:only-of-type {\n",
       "        vertical-align: middle;\n",
       "    }\n",
       "\n",
       "    .dataframe tbody tr th {\n",
       "        vertical-align: top;\n",
       "    }\n",
       "\n",
       "    .dataframe thead tr th {\n",
       "        text-align: left;\n",
       "    }\n",
       "\n",
       "    .dataframe thead tr:last-of-type th {\n",
       "        text-align: right;\n",
       "    }\n",
       "</style>\n",
       "<table border=\"1\" class=\"dataframe\">\n",
       "  <thead>\n",
       "    <tr>\n",
       "      <th></th>\n",
       "      <th>temp</th>\n",
       "      <th>temp_app</th>\n",
       "      <th>humidity</th>\n",
       "      <th>wind_speed</th>\n",
       "      <th>Wind Bearing (degrees)</th>\n",
       "      <th>Visibility (km)</th>\n",
       "      <th>Loud Cover</th>\n",
       "      <th>Pressure (millibars)</th>\n",
       "      <th>year</th>\n",
       "      <th>week</th>\n",
       "    </tr>\n",
       "    <tr>\n",
       "      <th></th>\n",
       "      <th>mean</th>\n",
       "      <th>mean</th>\n",
       "      <th>mean</th>\n",
       "      <th>mean</th>\n",
       "      <th>mean</th>\n",
       "      <th>mean</th>\n",
       "      <th>mean</th>\n",
       "      <th>mean</th>\n",
       "      <th>mean</th>\n",
       "      <th>mean</th>\n",
       "    </tr>\n",
       "    <tr>\n",
       "      <th>month</th>\n",
       "      <th></th>\n",
       "      <th></th>\n",
       "      <th></th>\n",
       "      <th></th>\n",
       "      <th></th>\n",
       "      <th></th>\n",
       "      <th></th>\n",
       "      <th></th>\n",
       "      <th></th>\n",
       "      <th></th>\n",
       "    </tr>\n",
       "  </thead>\n",
       "  <tbody>\n",
       "    <tr>\n",
       "      <th>1</th>\n",
       "      <td>0.813890</td>\n",
       "      <td>-1.939615</td>\n",
       "      <td>0.850723</td>\n",
       "      <td>11.512816</td>\n",
       "      <td>180.405425</td>\n",
       "      <td>7.830584</td>\n",
       "      <td>0.0</td>\n",
       "      <td>1006.125792</td>\n",
       "      <td>2011.000000</td>\n",
       "      <td>4.255132</td>\n",
       "    </tr>\n",
       "    <tr>\n",
       "      <th>2</th>\n",
       "      <td>2.159699</td>\n",
       "      <td>-0.565343</td>\n",
       "      <td>0.813400</td>\n",
       "      <td>12.185543</td>\n",
       "      <td>188.717176</td>\n",
       "      <td>8.731368</td>\n",
       "      <td>0.0</td>\n",
       "      <td>1003.929313</td>\n",
       "      <td>2011.009646</td>\n",
       "      <td>6.948553</td>\n",
       "    </tr>\n",
       "    <tr>\n",
       "      <th>3</th>\n",
       "      <td>6.906599</td>\n",
       "      <td>5.074268</td>\n",
       "      <td>0.702966</td>\n",
       "      <td>13.405461</td>\n",
       "      <td>186.538480</td>\n",
       "      <td>10.910450</td>\n",
       "      <td>0.0</td>\n",
       "      <td>1001.551536</td>\n",
       "      <td>2011.000000</td>\n",
       "      <td>11.180105</td>\n",
       "    </tr>\n",
       "    <tr>\n",
       "      <th>4</th>\n",
       "      <td>12.756417</td>\n",
       "      <td>12.141164</td>\n",
       "      <td>0.641133</td>\n",
       "      <td>11.893094</td>\n",
       "      <td>186.653157</td>\n",
       "      <td>11.784224</td>\n",
       "      <td>0.0</td>\n",
       "      <td>1009.996332</td>\n",
       "      <td>2011.000000</td>\n",
       "      <td>15.539394</td>\n",
       "    </tr>\n",
       "    <tr>\n",
       "      <th>5</th>\n",
       "      <td>16.873692</td>\n",
       "      <td>16.732751</td>\n",
       "      <td>0.691325</td>\n",
       "      <td>10.959337</td>\n",
       "      <td>188.071237</td>\n",
       "      <td>11.892754</td>\n",
       "      <td>0.0</td>\n",
       "      <td>1003.499530</td>\n",
       "      <td>2011.000000</td>\n",
       "      <td>19.894428</td>\n",
       "    </tr>\n",
       "    <tr>\n",
       "      <th>6</th>\n",
       "      <td>20.715617</td>\n",
       "      <td>20.742264</td>\n",
       "      <td>0.686470</td>\n",
       "      <td>9.626471</td>\n",
       "      <td>202.780808</td>\n",
       "      <td>11.990266</td>\n",
       "      <td>0.0</td>\n",
       "      <td>1001.883742</td>\n",
       "      <td>2011.000000</td>\n",
       "      <td>24.254545</td>\n",
       "    </tr>\n",
       "    <tr>\n",
       "      <th>7</th>\n",
       "      <td>22.963943</td>\n",
       "      <td>22.976086</td>\n",
       "      <td>0.639657</td>\n",
       "      <td>9.639907</td>\n",
       "      <td>202.812248</td>\n",
       "      <td>12.187820</td>\n",
       "      <td>0.0</td>\n",
       "      <td>1008.566431</td>\n",
       "      <td>2010.998900</td>\n",
       "      <td>28.609828</td>\n",
       "    </tr>\n",
       "    <tr>\n",
       "      <th>8</th>\n",
       "      <td>22.345031</td>\n",
       "      <td>22.270497</td>\n",
       "      <td>0.635542</td>\n",
       "      <td>8.933431</td>\n",
       "      <td>195.329800</td>\n",
       "      <td>12.455549</td>\n",
       "      <td>0.0</td>\n",
       "      <td>1001.716944</td>\n",
       "      <td>2010.997076</td>\n",
       "      <td>33.032164</td>\n",
       "    </tr>\n",
       "    <tr>\n",
       "      <th>9</th>\n",
       "      <td>17.516790</td>\n",
       "      <td>17.404283</td>\n",
       "      <td>0.688790</td>\n",
       "      <td>9.621813</td>\n",
       "      <td>187.667424</td>\n",
       "      <td>11.602874</td>\n",
       "      <td>0.0</td>\n",
       "      <td>1000.565347</td>\n",
       "      <td>2011.000000</td>\n",
       "      <td>37.396970</td>\n",
       "    </tr>\n",
       "    <tr>\n",
       "      <th>10</th>\n",
       "      <td>11.342247</td>\n",
       "      <td>10.694346</td>\n",
       "      <td>0.774554</td>\n",
       "      <td>10.000153</td>\n",
       "      <td>176.912630</td>\n",
       "      <td>9.741691</td>\n",
       "      <td>0.0</td>\n",
       "      <td>1003.243458</td>\n",
       "      <td>2011.000000</td>\n",
       "      <td>41.755339</td>\n",
       "    </tr>\n",
       "    <tr>\n",
       "      <th>11</th>\n",
       "      <td>6.589907</td>\n",
       "      <td>5.023180</td>\n",
       "      <td>0.827828</td>\n",
       "      <td>10.944266</td>\n",
       "      <td>173.139015</td>\n",
       "      <td>8.191229</td>\n",
       "      <td>0.0</td>\n",
       "      <td>1012.297027</td>\n",
       "      <td>2011.000000</td>\n",
       "      <td>46.109091</td>\n",
       "    </tr>\n",
       "    <tr>\n",
       "      <th>12</th>\n",
       "      <td>1.633742</td>\n",
       "      <td>-0.951272</td>\n",
       "      <td>0.870390</td>\n",
       "      <td>11.098682</td>\n",
       "      <td>181.191838</td>\n",
       "      <td>6.773288</td>\n",
       "      <td>0.0</td>\n",
       "      <td>985.901753</td>\n",
       "      <td>2011.000000</td>\n",
       "      <td>48.944282</td>\n",
       "    </tr>\n",
       "  </tbody>\n",
       "</table>\n",
       "</div>"
      ],
      "text/plain": [
       "            temp   temp_app  ...         year       week\n",
       "            mean       mean  ...         mean       mean\n",
       "month                        ...                        \n",
       "1       0.813890  -1.939615  ...  2011.000000   4.255132\n",
       "2       2.159699  -0.565343  ...  2011.009646   6.948553\n",
       "3       6.906599   5.074268  ...  2011.000000  11.180105\n",
       "4      12.756417  12.141164  ...  2011.000000  15.539394\n",
       "5      16.873692  16.732751  ...  2011.000000  19.894428\n",
       "6      20.715617  20.742264  ...  2011.000000  24.254545\n",
       "7      22.963943  22.976086  ...  2010.998900  28.609828\n",
       "8      22.345031  22.270497  ...  2010.997076  33.032164\n",
       "9      17.516790  17.404283  ...  2011.000000  37.396970\n",
       "10     11.342247  10.694346  ...  2011.000000  41.755339\n",
       "11      6.589907   5.023180  ...  2011.000000  46.109091\n",
       "12      1.633742  -0.951272  ...  2011.000000  48.944282\n",
       "\n",
       "[12 rows x 10 columns]"
      ]
     },
     "execution_count": 12,
     "metadata": {
      "tags": []
     },
     "output_type": "execute_result"
    }
   ],
   "source": [
    "weather_hist.groupby('month').agg(['mean'])"
   ]
  },
  {
   "cell_type": "markdown",
   "metadata": {
    "colab_type": "text",
    "id": "1iZhd9lqAY8W"
   },
   "source": [
    "самый влажный год: 2010"
   ]
  },
  {
   "cell_type": "code",
   "execution_count": 13,
   "metadata": {
    "colab": {
     "base_uri": "https://localhost:8080/",
     "height": 432
    },
    "colab_type": "code",
    "id": "NAIdZNRnVJFP",
    "outputId": "eb6c8d74-39c2-4b4a-aa0c-8425666fb9ae"
   },
   "outputs": [
    {
     "data": {
      "text/html": [
       "<div>\n",
       "<style scoped>\n",
       "    .dataframe tbody tr th:only-of-type {\n",
       "        vertical-align: middle;\n",
       "    }\n",
       "\n",
       "    .dataframe tbody tr th {\n",
       "        vertical-align: top;\n",
       "    }\n",
       "\n",
       "    .dataframe thead tr th {\n",
       "        text-align: left;\n",
       "    }\n",
       "\n",
       "    .dataframe thead tr:last-of-type th {\n",
       "        text-align: right;\n",
       "    }\n",
       "</style>\n",
       "<table border=\"1\" class=\"dataframe\">\n",
       "  <thead>\n",
       "    <tr>\n",
       "      <th></th>\n",
       "      <th>temp</th>\n",
       "      <th>temp_app</th>\n",
       "      <th>humidity</th>\n",
       "      <th>wind_speed</th>\n",
       "      <th>Wind Bearing (degrees)</th>\n",
       "      <th>Visibility (km)</th>\n",
       "      <th>Loud Cover</th>\n",
       "      <th>Pressure (millibars)</th>\n",
       "      <th>month</th>\n",
       "      <th>week</th>\n",
       "    </tr>\n",
       "    <tr>\n",
       "      <th></th>\n",
       "      <th>mean</th>\n",
       "      <th>mean</th>\n",
       "      <th>mean</th>\n",
       "      <th>mean</th>\n",
       "      <th>mean</th>\n",
       "      <th>mean</th>\n",
       "      <th>mean</th>\n",
       "      <th>mean</th>\n",
       "      <th>mean</th>\n",
       "      <th>mean</th>\n",
       "    </tr>\n",
       "    <tr>\n",
       "      <th>year</th>\n",
       "      <th></th>\n",
       "      <th></th>\n",
       "      <th></th>\n",
       "      <th></th>\n",
       "      <th></th>\n",
       "      <th></th>\n",
       "      <th></th>\n",
       "      <th></th>\n",
       "      <th></th>\n",
       "      <th></th>\n",
       "    </tr>\n",
       "  </thead>\n",
       "  <tbody>\n",
       "    <tr>\n",
       "      <th>2006</th>\n",
       "      <td>11.215365</td>\n",
       "      <td>10.158215</td>\n",
       "      <td>0.767341</td>\n",
       "      <td>10.189852</td>\n",
       "      <td>189.342808</td>\n",
       "      <td>9.758083</td>\n",
       "      <td>0.0</td>\n",
       "      <td>992.543529</td>\n",
       "      <td>6.526826</td>\n",
       "      <td>26.573402</td>\n",
       "    </tr>\n",
       "    <tr>\n",
       "      <th>2007</th>\n",
       "      <td>12.135239</td>\n",
       "      <td>11.063135</td>\n",
       "      <td>0.689652</td>\n",
       "      <td>10.825392</td>\n",
       "      <td>194.119292</td>\n",
       "      <td>10.408191</td>\n",
       "      <td>0.0</td>\n",
       "      <td>1001.640226</td>\n",
       "      <td>6.526826</td>\n",
       "      <td>26.433676</td>\n",
       "    </tr>\n",
       "    <tr>\n",
       "      <th>2008</th>\n",
       "      <td>12.161876</td>\n",
       "      <td>11.053184</td>\n",
       "      <td>0.701237</td>\n",
       "      <td>11.303897</td>\n",
       "      <td>193.825250</td>\n",
       "      <td>10.267119</td>\n",
       "      <td>0.0</td>\n",
       "      <td>1007.734504</td>\n",
       "      <td>6.514458</td>\n",
       "      <td>26.364071</td>\n",
       "    </tr>\n",
       "    <tr>\n",
       "      <th>2009</th>\n",
       "      <td>12.267910</td>\n",
       "      <td>11.069337</td>\n",
       "      <td>0.707247</td>\n",
       "      <td>11.505948</td>\n",
       "      <td>180.496461</td>\n",
       "      <td>10.001370</td>\n",
       "      <td>0.0</td>\n",
       "      <td>1002.608735</td>\n",
       "      <td>6.526826</td>\n",
       "      <td>27.003425</td>\n",
       "    </tr>\n",
       "    <tr>\n",
       "      <th>2010</th>\n",
       "      <td>11.202061</td>\n",
       "      <td>10.098643</td>\n",
       "      <td>0.796858</td>\n",
       "      <td>11.015628</td>\n",
       "      <td>192.067509</td>\n",
       "      <td>9.140810</td>\n",
       "      <td>0.0</td>\n",
       "      <td>1004.811891</td>\n",
       "      <td>6.530852</td>\n",
       "      <td>26.593693</td>\n",
       "    </tr>\n",
       "    <tr>\n",
       "      <th>2011</th>\n",
       "      <td>11.524453</td>\n",
       "      <td>10.584294</td>\n",
       "      <td>0.736017</td>\n",
       "      <td>9.898262</td>\n",
       "      <td>189.342352</td>\n",
       "      <td>9.507929</td>\n",
       "      <td>0.0</td>\n",
       "      <td>1014.184075</td>\n",
       "      <td>6.526826</td>\n",
       "      <td>26.573402</td>\n",
       "    </tr>\n",
       "    <tr>\n",
       "      <th>2012</th>\n",
       "      <td>11.986726</td>\n",
       "      <td>10.753081</td>\n",
       "      <td>0.689500</td>\n",
       "      <td>11.264545</td>\n",
       "      <td>187.755692</td>\n",
       "      <td>10.363108</td>\n",
       "      <td>0.0</td>\n",
       "      <td>999.341481</td>\n",
       "      <td>6.514458</td>\n",
       "      <td>26.503529</td>\n",
       "    </tr>\n",
       "    <tr>\n",
       "      <th>2013</th>\n",
       "      <td>11.940719</td>\n",
       "      <td>10.825320</td>\n",
       "      <td>0.754209</td>\n",
       "      <td>10.969389</td>\n",
       "      <td>187.861758</td>\n",
       "      <td>10.892049</td>\n",
       "      <td>0.0</td>\n",
       "      <td>1004.950764</td>\n",
       "      <td>6.526826</td>\n",
       "      <td>26.433562</td>\n",
       "    </tr>\n",
       "    <tr>\n",
       "      <th>2014</th>\n",
       "      <td>12.529737</td>\n",
       "      <td>11.628703</td>\n",
       "      <td>0.748578</td>\n",
       "      <td>10.502473</td>\n",
       "      <td>178.226219</td>\n",
       "      <td>11.320806</td>\n",
       "      <td>0.0</td>\n",
       "      <td>987.394676</td>\n",
       "      <td>6.526664</td>\n",
       "      <td>26.432682</td>\n",
       "    </tr>\n",
       "    <tr>\n",
       "      <th>2015</th>\n",
       "      <td>12.311370</td>\n",
       "      <td>11.340911</td>\n",
       "      <td>0.732355</td>\n",
       "      <td>10.735247</td>\n",
       "      <td>184.098174</td>\n",
       "      <td>10.912786</td>\n",
       "      <td>0.0</td>\n",
       "      <td>1005.179401</td>\n",
       "      <td>6.526826</td>\n",
       "      <td>27.003425</td>\n",
       "    </tr>\n",
       "    <tr>\n",
       "      <th>2016</th>\n",
       "      <td>11.985292</td>\n",
       "      <td>10.832629</td>\n",
       "      <td>0.760874</td>\n",
       "      <td>10.703441</td>\n",
       "      <td>185.438069</td>\n",
       "      <td>11.249668</td>\n",
       "      <td>0.0</td>\n",
       "      <td>1015.162161</td>\n",
       "      <td>6.514458</td>\n",
       "      <td>26.651070</td>\n",
       "    </tr>\n",
       "  </tbody>\n",
       "</table>\n",
       "</div>"
      ],
      "text/plain": [
       "           temp   temp_app  humidity  ... Pressure (millibars)     month       week\n",
       "           mean       mean      mean  ...                 mean      mean       mean\n",
       "year                                  ...                                          \n",
       "2006  11.215365  10.158215  0.767341  ...           992.543529  6.526826  26.573402\n",
       "2007  12.135239  11.063135  0.689652  ...          1001.640226  6.526826  26.433676\n",
       "2008  12.161876  11.053184  0.701237  ...          1007.734504  6.514458  26.364071\n",
       "2009  12.267910  11.069337  0.707247  ...          1002.608735  6.526826  27.003425\n",
       "2010  11.202061  10.098643  0.796858  ...          1004.811891  6.530852  26.593693\n",
       "2011  11.524453  10.584294  0.736017  ...          1014.184075  6.526826  26.573402\n",
       "2012  11.986726  10.753081  0.689500  ...           999.341481  6.514458  26.503529\n",
       "2013  11.940719  10.825320  0.754209  ...          1004.950764  6.526826  26.433562\n",
       "2014  12.529737  11.628703  0.748578  ...           987.394676  6.526664  26.432682\n",
       "2015  12.311370  11.340911  0.732355  ...          1005.179401  6.526826  27.003425\n",
       "2016  11.985292  10.832629  0.760874  ...          1015.162161  6.514458  26.651070\n",
       "\n",
       "[11 rows x 10 columns]"
      ]
     },
     "execution_count": 13,
     "metadata": {
      "tags": []
     },
     "output_type": "execute_result"
    }
   ],
   "source": [
    "weather_hist.groupby('year').agg(['mean'])"
   ]
  },
  {
   "cell_type": "markdown",
   "metadata": {
    "colab_type": "text",
    "id": "8_PNlvAl-6PT"
   },
   "source": [
    "неделя с самой переменчивой погодой: 5-ая неделя"
   ]
  },
  {
   "cell_type": "code",
   "execution_count": 14,
   "metadata": {
    "colab": {},
    "colab_type": "code",
    "id": "PGiMtUzjVMtb"
   },
   "outputs": [],
   "source": [
    "week_range_data = weather_hist[['temp', 'temp_app', 'wind_speed', 'week']].\\\n",
    "    groupby('week').agg(['max', 'min'])\n",
    "weather_range = pd.Series([0.] * (len(week_range_data)))\n",
    "weather_range.index += 1\n",
    "week_range_data['range'] = weather_range"
   ]
  },
  {
   "cell_type": "code",
   "execution_count": 15,
   "metadata": {
    "colab": {},
    "colab_type": "code",
    "id": "nDWVrBw2VNMM"
   },
   "outputs": [],
   "source": [
    "for feature in ['temp', 'temp_app', 'wind_speed']:\n",
    "  feature_range = week_range_data[feature]['max'] - week_range_data[feature]['min']\n",
    "  mean = feature_range.mean()\n",
    "  std = feature_range.std()\n",
    "  week_range_data['range'] += (feature_range - mean) / std"
   ]
  },
  {
   "cell_type": "code",
   "execution_count": 16,
   "metadata": {
    "colab": {
     "base_uri": "https://localhost:8080/",
     "height": 254
    },
    "colab_type": "code",
    "id": "EkCyYZ1IVPV_",
    "outputId": "1799f830-e2cf-4f7b-f141-00410fdf0992"
   },
   "outputs": [
    {
     "data": {
      "text/html": [
       "<div>\n",
       "<style scoped>\n",
       "    .dataframe tbody tr th:only-of-type {\n",
       "        vertical-align: middle;\n",
       "    }\n",
       "\n",
       "    .dataframe tbody tr th {\n",
       "        vertical-align: top;\n",
       "    }\n",
       "\n",
       "    .dataframe thead tr th {\n",
       "        text-align: left;\n",
       "    }\n",
       "\n",
       "    .dataframe thead tr:last-of-type th {\n",
       "        text-align: right;\n",
       "    }\n",
       "</style>\n",
       "<table border=\"1\" class=\"dataframe\">\n",
       "  <thead>\n",
       "    <tr>\n",
       "      <th></th>\n",
       "      <th colspan=\"2\" halign=\"left\">temp</th>\n",
       "      <th colspan=\"2\" halign=\"left\">temp_app</th>\n",
       "      <th colspan=\"2\" halign=\"left\">wind_speed</th>\n",
       "      <th>range</th>\n",
       "    </tr>\n",
       "    <tr>\n",
       "      <th></th>\n",
       "      <th>max</th>\n",
       "      <th>min</th>\n",
       "      <th>max</th>\n",
       "      <th>min</th>\n",
       "      <th>max</th>\n",
       "      <th>min</th>\n",
       "      <th></th>\n",
       "    </tr>\n",
       "    <tr>\n",
       "      <th>week</th>\n",
       "      <th></th>\n",
       "      <th></th>\n",
       "      <th></th>\n",
       "      <th></th>\n",
       "      <th></th>\n",
       "      <th></th>\n",
       "      <th></th>\n",
       "    </tr>\n",
       "  </thead>\n",
       "  <tbody>\n",
       "    <tr>\n",
       "      <th>1</th>\n",
       "      <td>12.838889</td>\n",
       "      <td>-13.255556</td>\n",
       "      <td>12.838889</td>\n",
       "      <td>-19.472222</td>\n",
       "      <td>42.7938</td>\n",
       "      <td>0.0</td>\n",
       "      <td>-0.393012</td>\n",
       "    </tr>\n",
       "    <tr>\n",
       "      <th>2</th>\n",
       "      <td>15.738889</td>\n",
       "      <td>-15.000000</td>\n",
       "      <td>15.738889</td>\n",
       "      <td>-18.316667</td>\n",
       "      <td>44.6292</td>\n",
       "      <td>0.0</td>\n",
       "      <td>1.949189</td>\n",
       "    </tr>\n",
       "    <tr>\n",
       "      <th>3</th>\n",
       "      <td>13.888889</td>\n",
       "      <td>-11.977778</td>\n",
       "      <td>13.888889</td>\n",
       "      <td>-19.961111</td>\n",
       "      <td>46.8349</td>\n",
       "      <td>0.0</td>\n",
       "      <td>0.559251</td>\n",
       "    </tr>\n",
       "    <tr>\n",
       "      <th>4</th>\n",
       "      <td>14.772222</td>\n",
       "      <td>-14.088889</td>\n",
       "      <td>14.772222</td>\n",
       "      <td>-22.094444</td>\n",
       "      <td>55.9314</td>\n",
       "      <td>0.0</td>\n",
       "      <td>3.804308</td>\n",
       "    </tr>\n",
       "    <tr>\n",
       "      <th>5</th>\n",
       "      <td>14.927778</td>\n",
       "      <td>-17.777778</td>\n",
       "      <td>14.927778</td>\n",
       "      <td>-23.872222</td>\n",
       "      <td>63.8526</td>\n",
       "      <td>0.0</td>\n",
       "      <td>6.882768</td>\n",
       "    </tr>\n",
       "  </tbody>\n",
       "</table>\n",
       "</div>"
      ],
      "text/plain": [
       "           temp              temp_app            wind_speed          range\n",
       "            max        min        max        min        max  min          \n",
       "week                                                                      \n",
       "1     12.838889 -13.255556  12.838889 -19.472222    42.7938  0.0 -0.393012\n",
       "2     15.738889 -15.000000  15.738889 -18.316667    44.6292  0.0  1.949189\n",
       "3     13.888889 -11.977778  13.888889 -19.961111    46.8349  0.0  0.559251\n",
       "4     14.772222 -14.088889  14.772222 -22.094444    55.9314  0.0  3.804308\n",
       "5     14.927778 -17.777778  14.927778 -23.872222    63.8526  0.0  6.882768"
      ]
     },
     "execution_count": 16,
     "metadata": {
      "tags": []
     },
     "output_type": "execute_result"
    }
   ],
   "source": [
    "week_range_data.head()"
   ]
  },
  {
   "cell_type": "code",
   "execution_count": 17,
   "metadata": {
    "colab": {
     "base_uri": "https://localhost:8080/",
     "height": 34
    },
    "colab_type": "code",
    "id": "nushBHJhVRiI",
    "outputId": "a7ccc615-c9ec-44ee-891a-887d8f9332fc"
   },
   "outputs": [
    {
     "data": {
      "text/plain": [
       "5"
      ]
     },
     "execution_count": 17,
     "metadata": {
      "tags": []
     },
     "output_type": "execute_result"
    }
   ],
   "source": [
    "week_range_data.range.idxmax()"
   ]
  },
  {
   "cell_type": "code",
   "execution_count": 18,
   "metadata": {
    "colab": {
     "base_uri": "https://localhost:8080/",
     "height": 50
    },
    "colab_type": "code",
    "id": "ujhEs2zaVURn",
    "outputId": "2248849b-4cfb-4e28-80e2-54fbf388ece9"
   },
   "outputs": [
    {
     "data": {
      "text/plain": [
       "    6.882768\n",
       "Name: 5, dtype: float64"
      ]
     },
     "execution_count": 18,
     "metadata": {
      "tags": []
     },
     "output_type": "execute_result"
    }
   ],
   "source": [
    "week_range_data.loc[week_range_data.range.idxmax()].range"
   ]
  },
  {
   "cell_type": "markdown",
   "metadata": {
    "colab_type": "text",
    "id": "2_78aFKOaNbV"
   },
   "source": [
    "## Задание 2"
   ]
  },
  {
   "cell_type": "code",
   "execution_count": 31,
   "metadata": {
    "colab": {},
    "colab_type": "code",
    "id": "u2iO9ePCaRBX"
   },
   "outputs": [],
   "source": [
    "import re\n",
    "import numpy as np\n",
    "from scipy.sparse import hstack\n",
    "\n",
    "from sklearn.metrics import mean_squared_error\n",
    "from sklearn.model_selection import train_test_split\n",
    "from sklearn.linear_model import ElasticNet, SGDRegressor\n",
    "from sklearn.feature_extraction.text import CountVectorizer, TfidfVectorizer"
   ]
  },
  {
   "cell_type": "markdown",
   "metadata": {
    "colab_type": "text",
    "id": "ptov0DJfbGzW"
   },
   "source": [
    "Попробуйте придумать признаки (как минимум 5), которые можно извлечь из текста, помимо тех 4, которые мы уже использовали. Обучите модель на них и проверьте, улучашается ли качество. Опишите признаки, которое придумали и почему считаете, что они должны показывать вероятность покупки.\n",
    "\n",
    "Побробуйте подобрать параметры векторизатора (TfidfVectorizer или CountVectorizer, или обоих) и параметры алгоритма так, чтобы качество, которое у нас получилось (0.248) улучшилось. Опишите то, что попробовали.\n",
    "\n",
    "除了我们已经使用的4个符号外，还尝试提出可以从文本中提取的符号（至少5个）。 在它们上训练模型，并检查质量是否正在提高。 描述您想出的迹象，以及为什么您认为它们应该显示购买的可能性。\n",
    "\n",
    "尝试选择矢量化器的参数（TfidfVectorizer或CountVectorizer或两者）和算法的参数，以便提高获得的质量（0.248）。 描述您尝试过的方法。"
   ]
  },
  {
   "cell_type": "code",
   "execution_count": 4,
   "metadata": {
    "colab": {},
    "colab_type": "code",
    "id": "SZ_vw7MLbPC8"
   },
   "outputs": [],
   "source": [
    "data = pd.read_csv('data/data.csv')"
   ]
  },
  {
   "cell_type": "markdown",
   "metadata": {},
   "source": [
    "### старые признаки"
   ]
  },
  {
   "cell_type": "code",
   "execution_count": 5,
   "metadata": {},
   "outputs": [],
   "source": [
    "data['text_len'] = data['description'].apply(len)\n",
    "data['text_len_tokens'] = data['description'].apply(lambda x: len(x.split()))\n",
    "data['number_of_caps'] = data['description'].apply(lambda x: len([ch for ch in x if ch.isupper()]))\n",
    "data['number_of_nonalphanum'] = data['description'].apply(lambda x: len([ch for ch in x if not ch.isalnum()]))"
   ]
  },
  {
   "cell_type": "markdown",
   "metadata": {},
   "source": [
    "### новые признаки"
   ]
  },
  {
   "cell_type": "markdown",
   "metadata": {},
   "source": [
    "Количество цифр. \n",
    "\n",
    "Цифры могут сделать подробнее описание."
   ]
  },
  {
   "cell_type": "code",
   "execution_count": 7,
   "metadata": {},
   "outputs": [],
   "source": [
    "data['digits'] = data['description'].apply(lambda x: len([ch for ch in x if not ch.isalpha()]))"
   ]
  },
  {
   "cell_type": "markdown",
   "metadata": {},
   "source": [
    "Количество латинских символов и токенов. \n",
    "\n",
    "Обычно они названия брендов или моделей."
   ]
  },
  {
   "cell_type": "code",
   "execution_count": 16,
   "metadata": {},
   "outputs": [],
   "source": [
    "data['latin'] = data.description.apply(\n",
    "    lambda x: len([ch for ch in x if re.search(r'[a-z]', ch.lower()) is not None]))\n",
    "data['latin_tokens'] = data.description.apply(\n",
    "    lambda x: len([token for token in x.split() if re.search(r'^[a-z]+$', token.lower()) is not None]))"
   ]
  },
  {
   "cell_type": "code",
   "execution_count": null,
   "metadata": {},
   "outputs": [],
   "source": [
    "Количество кириллических символов и токенов. \n",
    "\n",
    "Чем  больше текст, тем подробнее описание."
   ]
  },
  {
   "cell_type": "code",
   "execution_count": 17,
   "metadata": {},
   "outputs": [],
   "source": [
    "data['cyrillic'] = data.description.apply(\n",
    "    lambda x: len([ch for ch in x if re.search(r'[а-яё]', ch.lower()) is not None]))\n",
    "data['cyrillic_tokens'] = data.description.apply(\n",
    "    lambda x: len([token for token in x.split() if re.search(r'^[а-яё]+$', token.lower()) is not None]))"
   ]
  },
  {
   "cell_type": "markdown",
   "metadata": {},
   "source": [
    "Количество символов и токенов в заголовке.\n",
    "\n",
    "Слишком длинные заголовки не имеют фокуса, а слишком короткие заголовки лишены информации"
   ]
  },
  {
   "cell_type": "code",
   "execution_count": 18,
   "metadata": {},
   "outputs": [],
   "source": [
    "data['title_len'] = data.title.apply(len)\n",
    "data['title_len_tokens'] = data.title.apply(lambda x: len(x.split()))"
   ]
  },
  {
   "cell_type": "code",
   "execution_count": 19,
   "metadata": {},
   "outputs": [],
   "source": [
    "X = data[['text_len', 'text_len_tokens', 'number_of_caps', 'number_of_nonalphanum',\n",
    "          'digits', 'latin', 'latin_tokens',\n",
    "          'cyrillic', 'cyrillic_tokens', 'title_len', 'title_len_tokens']].values\n",
    "y = data.deal_probability.values"
   ]
  },
  {
   "cell_type": "code",
   "execution_count": 20,
   "metadata": {},
   "outputs": [],
   "source": [
    "X_train, X_test, y_train, y_test = train_test_split(X, y, random_state=42)"
   ]
  },
  {
   "cell_type": "code",
   "execution_count": 21,
   "metadata": {},
   "outputs": [
    {
     "data": {
      "text/plain": [
       "0.26367317664827983"
      ]
     },
     "execution_count": 21,
     "metadata": {},
     "output_type": "execute_result"
    }
   ],
   "source": [
    "regressor = ElasticNet(alpha=1)\n",
    "regressor.fit(X_train, y_train)\n",
    "preds = regressor.predict(X_test)\n",
    "np.sqrt(mean_squared_error(y_test, preds))"
   ]
  },
  {
   "cell_type": "markdown",
   "metadata": {},
   "source": [
    "Стало немного лучше."
   ]
  },
  {
   "cell_type": "markdown",
   "metadata": {},
   "source": [
    "### CountVectorizer, TfidfVectorizer"
   ]
  },
  {
   "cell_type": "markdown",
   "metadata": {},
   "source": [
    "нграммы TfidfVectorizer"
   ]
  },
  {
   "cell_type": "code",
   "execution_count": 42,
   "metadata": {},
   "outputs": [],
   "source": [
    "cv = CountVectorizer(max_features=1000, min_df=5, max_df=0.4, ngram_range=(1, 2))\n",
    "tfidf = TfidfVectorizer(max_features=1000, min_df=5, max_df=0.4, analyzer='char', ngram_range=(3, 4))\n",
    "\n",
    "X_cv = cv.fit_transform(data.description)\n",
    "X_tfidf = tfidf.fit_transform(data.description)\n",
    "\n",
    "X = hstack([X_cv, X_tfidf])"
   ]
  },
  {
   "cell_type": "code",
   "execution_count": 43,
   "metadata": {},
   "outputs": [],
   "source": [
    "X_train, X_test, y_train, y_test = train_test_split(X, y, random_state=42)"
   ]
  },
  {
   "cell_type": "code",
   "execution_count": 44,
   "metadata": {},
   "outputs": [
    {
     "data": {
      "text/plain": [
       "0.25055503172999183"
      ]
     },
     "execution_count": 44,
     "metadata": {},
     "output_type": "execute_result"
    }
   ],
   "source": [
    "regressor = SGDRegressor(max_iter=50, alpha=0.00001)\n",
    "regressor.fit(X_train, y_train)\n",
    "preds = regressor.predict(X_test)\n",
    "np.sqrt(mean_squared_error(y_test, preds))"
   ]
  },
  {
   "cell_type": "markdown",
   "metadata": {},
   "source": [
    "увеличить alpha SGDRegressor"
   ]
  },
  {
   "cell_type": "code",
   "execution_count": 45,
   "metadata": {},
   "outputs": [
    {
     "data": {
      "text/plain": [
       "0.2637259014878597"
      ]
     },
     "execution_count": 45,
     "metadata": {},
     "output_type": "execute_result"
    }
   ],
   "source": [
    "regressor = SGDRegressor(max_iter=50, alpha=1000)\n",
    "regressor.fit(X_train, y_train)\n",
    "preds = regressor.predict(X_test)\n",
    "np.sqrt(mean_squared_error(y_test, preds))"
   ]
  },
  {
   "cell_type": "markdown",
   "metadata": {},
   "source": [
    "уменьшить max_df"
   ]
  },
  {
   "cell_type": "code",
   "execution_count": 46,
   "metadata": {},
   "outputs": [],
   "source": [
    "cv = CountVectorizer(max_features=1000, min_df=5, max_df=0.25, ngram_range=(1, 2))\n",
    "tfidf = TfidfVectorizer(max_features=1000, min_df=5, max_df=0.25, analyzer='char', ngram_range=(3, 4))\n",
    "\n",
    "X_cv = cv.fit_transform(data.description)\n",
    "X_tfidf = tfidf.fit_transform(data.description)\n",
    "\n",
    "X = hstack([X_cv, X_tfidf])"
   ]
  },
  {
   "cell_type": "code",
   "execution_count": 47,
   "metadata": {},
   "outputs": [],
   "source": [
    "X_train, X_test, y_train, y_test = train_test_split(X, y, random_state=42)"
   ]
  },
  {
   "cell_type": "code",
   "execution_count": 48,
   "metadata": {},
   "outputs": [
    {
     "data": {
      "text/plain": [
       "0.2637259062524335"
      ]
     },
     "execution_count": 48,
     "metadata": {},
     "output_type": "execute_result"
    }
   ],
   "source": [
    "regressor = SGDRegressor(max_iter=50, alpha=1000)\n",
    "regressor.fit(X_train, y_train)\n",
    "preds = regressor.predict(X_test)\n",
    "np.sqrt(mean_squared_error(y_test, preds))"
   ]
  },
  {
   "cell_type": "markdown",
   "metadata": {},
   "source": [
    "увеличить min_df"
   ]
  },
  {
   "cell_type": "code",
   "execution_count": 49,
   "metadata": {},
   "outputs": [],
   "source": [
    "cv = CountVectorizer(max_features=1000, min_df=10, max_df=0.25, ngram_range=(1, 2))\n",
    "tfidf = TfidfVectorizer(max_features=1000, min_df=10, max_df=0.25, analyzer='char', ngram_range=(3, 4))\n",
    "\n",
    "X_cv = cv.fit_transform(data.description)\n",
    "X_tfidf = tfidf.fit_transform(data.description)\n",
    "\n",
    "X = hstack([X_cv, X_tfidf])"
   ]
  },
  {
   "cell_type": "code",
   "execution_count": 50,
   "metadata": {},
   "outputs": [],
   "source": [
    "X_train, X_test, y_train, y_test = train_test_split(X, y, random_state=42)"
   ]
  },
  {
   "cell_type": "code",
   "execution_count": 51,
   "metadata": {},
   "outputs": [
    {
     "data": {
      "text/plain": [
       "0.26372637627019296"
      ]
     },
     "execution_count": 51,
     "metadata": {},
     "output_type": "execute_result"
    }
   ],
   "source": [
    "regressor = SGDRegressor(max_iter=50, alpha=1000)\n",
    "regressor.fit(X_train, y_train)\n",
    "preds = regressor.predict(X_test)\n",
    "np.sqrt(mean_squared_error(y_test, preds))"
   ]
  },
  {
   "cell_type": "markdown",
   "metadata": {},
   "source": [
    "Результаты стали лучше."
   ]
  }
 ],
 "metadata": {
  "colab": {
   "name": "HW01.ipynb",
   "provenance": []
  },
  "kernelspec": {
   "display_name": "Python 3",
   "language": "python",
   "name": "python3"
  },
  "language_info": {
   "codemirror_mode": {
    "name": "ipython",
    "version": 3
   },
   "file_extension": ".py",
   "mimetype": "text/x-python",
   "name": "python",
   "nbconvert_exporter": "python",
   "pygments_lexer": "ipython3",
   "version": "3.7.6"
  }
 },
 "nbformat": 4,
 "nbformat_minor": 1
}
