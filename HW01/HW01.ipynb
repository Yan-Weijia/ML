{
  "nbformat": 4,
  "nbformat_minor": 0,
  "metadata": {
    "colab": {
      "name": "HW01.ipynb",
      "provenance": [],
      "authorship_tag": "ABX9TyNBF4b7kLe9DioS8WweRAEd",
      "include_colab_link": true
    },
    "kernelspec": {
      "name": "python3",
      "display_name": "Python 3"
    }
  },
  "cells": [
    {
      "cell_type": "markdown",
      "metadata": {
        "id": "view-in-github",
        "colab_type": "text"
      },
      "source": [
        "<a href=\"https://colab.research.google.com/github/Yan-Weijia/ML/blob/master/HW01/HW01.ipynb\" target=\"_parent\"><img src=\"https://colab.research.google.com/assets/colab-badge.svg\" alt=\"Open In Colab\"/></a>"
      ]
    },
    {
      "cell_type": "markdown",
      "metadata": {
        "id": "lOUWjJUbNKIj",
        "colab_type": "text"
      },
      "source": [
        "## Домашнее задание 1\n",
        "Проанализируйте данные и найдите самый холодный и самый ветренный дни в Сегеде за всю имеющуюся историю.\n",
        "\n",
        "找到历史上最冷的和风最大的日子\n",
        "\n",
        "Узнайте сколько раз шел дождь летом 2014 года.\n",
        "\n",
        "2014年下了几次雨\n",
        "\n",
        "Сгруппируйтей данные по годам, месяцам и неделям (по отдельности) и найдите:\n",
        "\n",
        "按照年、月、周把数据分组并找到：\n",
        "\n",
        "1) самый ветрянный месяц 风最大的月\n",
        "\n",
        "2) самый влажный год 最湿润的年\n",
        "\n",
        "3) неделю с самой переменчивой погодой 天气变化差异最大的周"
      ]
    },
    {
      "cell_type": "code",
      "metadata": {
        "id": "7A7ffF31NJnn",
        "colab_type": "code",
        "colab": {}
      },
      "source": [
        "import pandas as pd"
      ],
      "execution_count": 0,
      "outputs": []
    },
    {
      "cell_type": "code",
      "metadata": {
        "id": "0D8rv35WNnwE",
        "colab_type": "code",
        "colab": {}
      },
      "source": [
        "!wget https://raw.githubusercontent.com/Yan-Weijia/ML/master/1_intro_regression/weatherHistory.csv"
      ],
      "execution_count": 0,
      "outputs": []
    },
    {
      "cell_type": "code",
      "metadata": {
        "id": "QoJj0CNINJon",
        "colab_type": "code",
        "colab": {}
      },
      "source": [
        "weather_hist = pd.read_csv('weatherHistory.csv')"
      ],
      "execution_count": 0,
      "outputs": []
    },
    {
      "cell_type": "code",
      "metadata": {
        "id": "LbyTTJyrNJyd",
        "colab_type": "code",
        "colab": {}
      },
      "source": [
        "# можно переименовать колонки\n",
        "weather_hist.rename({'Formatted Date':'date', 'Temperature (C)':'temp', 'Apparent Temperature (C)':'temp_app',\n",
        "                    'Precip Type':'weather_type', 'Wind Speed (km/h)':'wind_speed', 'Humidity':'humidity',\n",
        "                    'Daily Summary':'summary'}, \n",
        "                    axis=1, inplace=True)"
      ],
      "execution_count": 0,
      "outputs": []
    },
    {
      "cell_type": "code",
      "metadata": {
        "id": "l7MGDAmDNJzb",
        "colab_type": "code",
        "colab": {}
      },
      "source": [
        "# а можно создать новую колонку и присвоить ей значение старой, а затем отбросить старую\n",
        "weather_hist['visibility'] = weather_hist['Visibility (km)']\n",
        "weather_hist['wind_bearing'] = weather_hist['Wind Bearing (degrees)']\n",
        "weather_hist['pressure'] = weather_hist['Pressure (millibars)']\n",
        "weather_hist.drop(['Visibility (km)', 'Wind Bearing (degrees)', 'Pressure (millibars)'], axis=1, inplace=True)"
      ],
      "execution_count": 0,
      "outputs": []
    },
    {
      "cell_type": "code",
      "metadata": {
        "colab_type": "code",
        "id": "AaCcS3u8VuWl",
        "colab": {}
      },
      "source": [
        "weather_hist.head(5)"
      ],
      "execution_count": 0,
      "outputs": []
    },
    {
      "cell_type": "code",
      "metadata": {
        "id": "bSjvTbWzNJ1W",
        "colab_type": "code",
        "outputId": "d60dc9aa-5e65-4d68-aa46-43e227eaa783",
        "colab": {
          "base_uri": "https://localhost:8080/",
          "height": 35
        }
      },
      "source": [
        "# кроме нулей ничего нет\n",
        "weather_hist['Loud Cover'].unique()"
      ],
      "execution_count": 7,
      "outputs": [
        {
          "output_type": "execute_result",
          "data": {
            "text/plain": [
              "array([0.])"
            ]
          },
          "metadata": {
            "tags": []
          },
          "execution_count": 7
        }
      ]
    },
    {
      "cell_type": "code",
      "metadata": {
        "id": "kUJ_lX2CNJ26",
        "colab_type": "code",
        "colab": {}
      },
      "source": [
        "weather_hist.drop(['Loud Cover'], axis=1, inplace=True)"
      ],
      "execution_count": 0,
      "outputs": []
    },
    {
      "cell_type": "code",
      "metadata": {
        "colab_type": "code",
        "outputId": "aa64163b-3387-4bbd-cb0d-dd8ff726e8ac",
        "id": "ei6jxywPVocj",
        "colab": {
          "base_uri": "https://localhost:8080/",
          "height": 371
        }
      },
      "source": [
        "weather_hist.head(5)"
      ],
      "execution_count": 9,
      "outputs": [
        {
          "output_type": "execute_result",
          "data": {
            "text/html": [
              "<div>\n",
              "<style scoped>\n",
              "    .dataframe tbody tr th:only-of-type {\n",
              "        vertical-align: middle;\n",
              "    }\n",
              "\n",
              "    .dataframe tbody tr th {\n",
              "        vertical-align: top;\n",
              "    }\n",
              "\n",
              "    .dataframe thead th {\n",
              "        text-align: right;\n",
              "    }\n",
              "</style>\n",
              "<table border=\"1\" class=\"dataframe\">\n",
              "  <thead>\n",
              "    <tr style=\"text-align: right;\">\n",
              "      <th></th>\n",
              "      <th>date</th>\n",
              "      <th>Summary</th>\n",
              "      <th>weather_type</th>\n",
              "      <th>temp</th>\n",
              "      <th>temp_app</th>\n",
              "      <th>humidity</th>\n",
              "      <th>wind_speed</th>\n",
              "      <th>summary</th>\n",
              "      <th>visibility</th>\n",
              "      <th>wind_bearing</th>\n",
              "      <th>pressure</th>\n",
              "    </tr>\n",
              "  </thead>\n",
              "  <tbody>\n",
              "    <tr>\n",
              "      <th>0</th>\n",
              "      <td>2006-04-01 00:00:00.000 +0200</td>\n",
              "      <td>Partly Cloudy</td>\n",
              "      <td>rain</td>\n",
              "      <td>9.472222</td>\n",
              "      <td>7.388889</td>\n",
              "      <td>0.89</td>\n",
              "      <td>14.1197</td>\n",
              "      <td>Partly cloudy throughout the day.</td>\n",
              "      <td>15.8263</td>\n",
              "      <td>251.0</td>\n",
              "      <td>1015.13</td>\n",
              "    </tr>\n",
              "    <tr>\n",
              "      <th>1</th>\n",
              "      <td>2006-04-01 01:00:00.000 +0200</td>\n",
              "      <td>Partly Cloudy</td>\n",
              "      <td>rain</td>\n",
              "      <td>9.355556</td>\n",
              "      <td>7.227778</td>\n",
              "      <td>0.86</td>\n",
              "      <td>14.2646</td>\n",
              "      <td>Partly cloudy throughout the day.</td>\n",
              "      <td>15.8263</td>\n",
              "      <td>259.0</td>\n",
              "      <td>1015.63</td>\n",
              "    </tr>\n",
              "    <tr>\n",
              "      <th>2</th>\n",
              "      <td>2006-04-01 02:00:00.000 +0200</td>\n",
              "      <td>Mostly Cloudy</td>\n",
              "      <td>rain</td>\n",
              "      <td>9.377778</td>\n",
              "      <td>9.377778</td>\n",
              "      <td>0.89</td>\n",
              "      <td>3.9284</td>\n",
              "      <td>Partly cloudy throughout the day.</td>\n",
              "      <td>14.9569</td>\n",
              "      <td>204.0</td>\n",
              "      <td>1015.94</td>\n",
              "    </tr>\n",
              "    <tr>\n",
              "      <th>3</th>\n",
              "      <td>2006-04-01 03:00:00.000 +0200</td>\n",
              "      <td>Partly Cloudy</td>\n",
              "      <td>rain</td>\n",
              "      <td>8.288889</td>\n",
              "      <td>5.944444</td>\n",
              "      <td>0.83</td>\n",
              "      <td>14.1036</td>\n",
              "      <td>Partly cloudy throughout the day.</td>\n",
              "      <td>15.8263</td>\n",
              "      <td>269.0</td>\n",
              "      <td>1016.41</td>\n",
              "    </tr>\n",
              "    <tr>\n",
              "      <th>4</th>\n",
              "      <td>2006-04-01 04:00:00.000 +0200</td>\n",
              "      <td>Mostly Cloudy</td>\n",
              "      <td>rain</td>\n",
              "      <td>8.755556</td>\n",
              "      <td>6.977778</td>\n",
              "      <td>0.83</td>\n",
              "      <td>11.0446</td>\n",
              "      <td>Partly cloudy throughout the day.</td>\n",
              "      <td>15.8263</td>\n",
              "      <td>259.0</td>\n",
              "      <td>1016.51</td>\n",
              "    </tr>\n",
              "  </tbody>\n",
              "</table>\n",
              "</div>"
            ],
            "text/plain": [
              "                            date        Summary  ... wind_bearing  pressure\n",
              "0  2006-04-01 00:00:00.000 +0200  Partly Cloudy  ...        251.0   1015.13\n",
              "1  2006-04-01 01:00:00.000 +0200  Partly Cloudy  ...        259.0   1015.63\n",
              "2  2006-04-01 02:00:00.000 +0200  Mostly Cloudy  ...        204.0   1015.94\n",
              "3  2006-04-01 03:00:00.000 +0200  Partly Cloudy  ...        269.0   1016.41\n",
              "4  2006-04-01 04:00:00.000 +0200  Mostly Cloudy  ...        259.0   1016.51\n",
              "\n",
              "[5 rows x 11 columns]"
            ]
          },
          "metadata": {
            "tags": []
          },
          "execution_count": 9
        }
      ]
    },
    {
      "cell_type": "code",
      "metadata": {
        "id": "_Mw2BJZqZP2e",
        "colab_type": "code",
        "colab": {}
      },
      "source": [
        "weather_hist['date'] = pd.to_datetime(weather_hist['date'], utc=True)"
      ],
      "execution_count": 0,
      "outputs": []
    },
    {
      "cell_type": "code",
      "metadata": {
        "id": "0U4WYTZdZcp1",
        "colab_type": "code",
        "colab": {
          "base_uri": "https://localhost:8080/",
          "height": 35
        },
        "outputId": "a103c561-eaa0-4bee-cd35-1d7e9f37b18b"
      },
      "source": [
        "weather_hist['date'].dtypes"
      ],
      "execution_count": 39,
      "outputs": [
        {
          "output_type": "execute_result",
          "data": {
            "text/plain": [
              "datetime64[ns, UTC]"
            ]
          },
          "metadata": {
            "tags": []
          },
          "execution_count": 39
        }
      ]
    },
    {
      "cell_type": "code",
      "metadata": {
        "id": "Q8xw66gdaAuU",
        "colab_type": "code",
        "colab": {}
      },
      "source": [
        "weather_hist['year'] = weather_hist['date'].dt.year\n",
        "weather_hist['month'] = weather_hist['date'].dt.month\n",
        "weather_hist['week'] = weather_hist['date'].dt.week\n",
        "weather_hist['day'] = weather_hist['date'].dt.day\n",
        "weather_hist['ymd'] = weather_hist['date'].dt.date"
      ],
      "execution_count": 0,
      "outputs": []
    },
    {
      "cell_type": "code",
      "metadata": {
        "id": "_q5p6xVvzI9W",
        "colab_type": "code",
        "colab": {}
      },
      "source": [
        "weather_hist.dtypes"
      ],
      "execution_count": 0,
      "outputs": []
    },
    {
      "cell_type": "code",
      "metadata": {
        "id": "ImwJecILadtN",
        "colab_type": "code",
        "colab": {
          "base_uri": "https://localhost:8080/",
          "height": 477
        },
        "outputId": "ec4ca9cd-7322-4bb2-fe78-01a8e5526ed0"
      },
      "source": [
        "weather_hist.head(5)"
      ],
      "execution_count": 25,
      "outputs": [
        {
          "output_type": "execute_result",
          "data": {
            "text/html": [
              "<div>\n",
              "<style scoped>\n",
              "    .dataframe tbody tr th:only-of-type {\n",
              "        vertical-align: middle;\n",
              "    }\n",
              "\n",
              "    .dataframe tbody tr th {\n",
              "        vertical-align: top;\n",
              "    }\n",
              "\n",
              "    .dataframe thead th {\n",
              "        text-align: right;\n",
              "    }\n",
              "</style>\n",
              "<table border=\"1\" class=\"dataframe\">\n",
              "  <thead>\n",
              "    <tr style=\"text-align: right;\">\n",
              "      <th></th>\n",
              "      <th>date</th>\n",
              "      <th>Summary</th>\n",
              "      <th>weather_type</th>\n",
              "      <th>temp</th>\n",
              "      <th>temp_app</th>\n",
              "      <th>humidity</th>\n",
              "      <th>wind_speed</th>\n",
              "      <th>summary</th>\n",
              "      <th>visibility</th>\n",
              "      <th>wind_bearing</th>\n",
              "      <th>pressure</th>\n",
              "      <th>year</th>\n",
              "      <th>month</th>\n",
              "      <th>week</th>\n",
              "      <th>day</th>\n",
              "      <th>ymd</th>\n",
              "    </tr>\n",
              "  </thead>\n",
              "  <tbody>\n",
              "    <tr>\n",
              "      <th>0</th>\n",
              "      <td>2006-03-31 22:00:00+00:00</td>\n",
              "      <td>Partly Cloudy</td>\n",
              "      <td>rain</td>\n",
              "      <td>9.472222</td>\n",
              "      <td>7.388889</td>\n",
              "      <td>0.89</td>\n",
              "      <td>14.1197</td>\n",
              "      <td>Partly cloudy throughout the day.</td>\n",
              "      <td>15.8263</td>\n",
              "      <td>251.0</td>\n",
              "      <td>1015.13</td>\n",
              "      <td>2006</td>\n",
              "      <td>3</td>\n",
              "      <td>13</td>\n",
              "      <td>31</td>\n",
              "      <td>2006-03-31</td>\n",
              "    </tr>\n",
              "    <tr>\n",
              "      <th>1</th>\n",
              "      <td>2006-03-31 23:00:00+00:00</td>\n",
              "      <td>Partly Cloudy</td>\n",
              "      <td>rain</td>\n",
              "      <td>9.355556</td>\n",
              "      <td>7.227778</td>\n",
              "      <td>0.86</td>\n",
              "      <td>14.2646</td>\n",
              "      <td>Partly cloudy throughout the day.</td>\n",
              "      <td>15.8263</td>\n",
              "      <td>259.0</td>\n",
              "      <td>1015.63</td>\n",
              "      <td>2006</td>\n",
              "      <td>3</td>\n",
              "      <td>13</td>\n",
              "      <td>31</td>\n",
              "      <td>2006-03-31</td>\n",
              "    </tr>\n",
              "    <tr>\n",
              "      <th>2</th>\n",
              "      <td>2006-04-01 00:00:00+00:00</td>\n",
              "      <td>Mostly Cloudy</td>\n",
              "      <td>rain</td>\n",
              "      <td>9.377778</td>\n",
              "      <td>9.377778</td>\n",
              "      <td>0.89</td>\n",
              "      <td>3.9284</td>\n",
              "      <td>Partly cloudy throughout the day.</td>\n",
              "      <td>14.9569</td>\n",
              "      <td>204.0</td>\n",
              "      <td>1015.94</td>\n",
              "      <td>2006</td>\n",
              "      <td>4</td>\n",
              "      <td>13</td>\n",
              "      <td>1</td>\n",
              "      <td>2006-04-01</td>\n",
              "    </tr>\n",
              "    <tr>\n",
              "      <th>3</th>\n",
              "      <td>2006-04-01 01:00:00+00:00</td>\n",
              "      <td>Partly Cloudy</td>\n",
              "      <td>rain</td>\n",
              "      <td>8.288889</td>\n",
              "      <td>5.944444</td>\n",
              "      <td>0.83</td>\n",
              "      <td>14.1036</td>\n",
              "      <td>Partly cloudy throughout the day.</td>\n",
              "      <td>15.8263</td>\n",
              "      <td>269.0</td>\n",
              "      <td>1016.41</td>\n",
              "      <td>2006</td>\n",
              "      <td>4</td>\n",
              "      <td>13</td>\n",
              "      <td>1</td>\n",
              "      <td>2006-04-01</td>\n",
              "    </tr>\n",
              "    <tr>\n",
              "      <th>4</th>\n",
              "      <td>2006-04-01 02:00:00+00:00</td>\n",
              "      <td>Mostly Cloudy</td>\n",
              "      <td>rain</td>\n",
              "      <td>8.755556</td>\n",
              "      <td>6.977778</td>\n",
              "      <td>0.83</td>\n",
              "      <td>11.0446</td>\n",
              "      <td>Partly cloudy throughout the day.</td>\n",
              "      <td>15.8263</td>\n",
              "      <td>259.0</td>\n",
              "      <td>1016.51</td>\n",
              "      <td>2006</td>\n",
              "      <td>4</td>\n",
              "      <td>13</td>\n",
              "      <td>1</td>\n",
              "      <td>2006-04-01</td>\n",
              "    </tr>\n",
              "  </tbody>\n",
              "</table>\n",
              "</div>"
            ],
            "text/plain": [
              "                       date        Summary weather_type  ...  week  day         ymd\n",
              "0 2006-03-31 22:00:00+00:00  Partly Cloudy         rain  ...    13   31  2006-03-31\n",
              "1 2006-03-31 23:00:00+00:00  Partly Cloudy         rain  ...    13   31  2006-03-31\n",
              "2 2006-04-01 00:00:00+00:00  Mostly Cloudy         rain  ...    13    1  2006-04-01\n",
              "3 2006-04-01 01:00:00+00:00  Partly Cloudy         rain  ...    13    1  2006-04-01\n",
              "4 2006-04-01 02:00:00+00:00  Mostly Cloudy         rain  ...    13    1  2006-04-01\n",
              "\n",
              "[5 rows x 16 columns]"
            ]
          },
          "metadata": {
            "tags": []
          },
          "execution_count": 25
        }
      ]
    },
    {
      "cell_type": "markdown",
      "metadata": {
        "id": "yBbSfjMftzLB",
        "colab_type": "text"
      },
      "source": [
        "самый холодный день за всю имеющуюся историю:"
      ]
    },
    {
      "cell_type": "code",
      "metadata": {
        "id": "1foytfozKbGX",
        "colab_type": "code",
        "colab": {}
      },
      "source": [
        "cold_ymd = weather_hist.groupby('ymd')['temp'].mean().to_frame().reset_index().sort_values(by='temp').head(1)"
      ],
      "execution_count": 0,
      "outputs": []
    },
    {
      "cell_type": "code",
      "metadata": {
        "id": "a59-gBInKl7t",
        "colab_type": "code",
        "colab": {
          "base_uri": "https://localhost:8080/",
          "height": 78
        },
        "outputId": "aecf6ec7-e76b-4ba7-e72c-576988e535e7"
      },
      "source": [
        "cold_ymd"
      ],
      "execution_count": 105,
      "outputs": [
        {
          "output_type": "execute_result",
          "data": {
            "text/html": [
              "<div>\n",
              "<style scoped>\n",
              "    .dataframe tbody tr th:only-of-type {\n",
              "        vertical-align: middle;\n",
              "    }\n",
              "\n",
              "    .dataframe tbody tr th {\n",
              "        vertical-align: top;\n",
              "    }\n",
              "\n",
              "    .dataframe thead th {\n",
              "        text-align: right;\n",
              "    }\n",
              "</style>\n",
              "<table border=\"1\" class=\"dataframe\">\n",
              "  <thead>\n",
              "    <tr style=\"text-align: right;\">\n",
              "      <th></th>\n",
              "      <th>ymd</th>\n",
              "      <th>temp</th>\n",
              "    </tr>\n",
              "  </thead>\n",
              "  <tbody>\n",
              "    <tr>\n",
              "      <th>2232</th>\n",
              "      <td>2012-02-10</td>\n",
              "      <td>-15.958796</td>\n",
              "    </tr>\n",
              "  </tbody>\n",
              "</table>\n",
              "</div>"
            ],
            "text/plain": [
              "             ymd       temp\n",
              "2232  2012-02-10 -15.958796"
            ]
          },
          "metadata": {
            "tags": []
          },
          "execution_count": 105
        }
      ]
    },
    {
      "cell_type": "code",
      "metadata": {
        "id": "LXcRFRnIsNxw",
        "colab_type": "code",
        "colab": {}
      },
      "source": [
        "coldest_date = str(cold_ymd['ymd'].min())"
      ],
      "execution_count": 0,
      "outputs": []
    },
    {
      "cell_type": "code",
      "metadata": {
        "id": "9YsnmDeCI7hA",
        "colab_type": "code",
        "colab": {}
      },
      "source": [
        "coldest_temp = weather_hist.groupby('ymd')['temp'].mean().to_frame()['temp'].min()"
      ],
      "execution_count": 0,
      "outputs": []
    },
    {
      "cell_type": "code",
      "metadata": {
        "id": "CB3OYyTdsrzv",
        "colab_type": "code",
        "colab": {
          "base_uri": "https://localhost:8080/",
          "height": 35
        },
        "outputId": "f8a627ae-10cd-413c-8699-7eecc2efeedf"
      },
      "source": [
        "coldest_date, coldest_temp"
      ],
      "execution_count": 112,
      "outputs": [
        {
          "output_type": "execute_result",
          "data": {
            "text/plain": [
              "('2012-02-10', -15.958796296296297)"
            ]
          },
          "metadata": {
            "tags": []
          },
          "execution_count": 112
        }
      ]
    },
    {
      "cell_type": "markdown",
      "metadata": {
        "id": "UJuP7NaSuHUP",
        "colab_type": "text"
      },
      "source": [
        "самый ветренный день за всю имеющуюся историю:"
      ]
    },
    {
      "cell_type": "code",
      "metadata": {
        "id": "VI-3O49_NJ5D",
        "colab_type": "code",
        "colab": {}
      },
      "source": [
        "wind_ymd = weather_hist.groupby('ymd')['wind_speed'].mean().to_frame().reset_index().sort_values(by='wind_speed', ascending=False).head(1)"
      ],
      "execution_count": 0,
      "outputs": []
    },
    {
      "cell_type": "code",
      "metadata": {
        "id": "-ZnDgPBAub91",
        "colab_type": "code",
        "colab": {
          "base_uri": "https://localhost:8080/",
          "height": 78
        },
        "outputId": "4a84f12c-9c0e-4986-e539-5e0b0bb1518d"
      },
      "source": [
        "wind_ymd"
      ],
      "execution_count": 110,
      "outputs": [
        {
          "output_type": "execute_result",
          "data": {
            "text/html": [
              "<div>\n",
              "<style scoped>\n",
              "    .dataframe tbody tr th:only-of-type {\n",
              "        vertical-align: middle;\n",
              "    }\n",
              "\n",
              "    .dataframe tbody tr th {\n",
              "        vertical-align: top;\n",
              "    }\n",
              "\n",
              "    .dataframe thead th {\n",
              "        text-align: right;\n",
              "    }\n",
              "</style>\n",
              "<table border=\"1\" class=\"dataframe\">\n",
              "  <thead>\n",
              "    <tr style=\"text-align: right;\">\n",
              "      <th></th>\n",
              "      <th>ymd</th>\n",
              "      <th>wind_speed</th>\n",
              "    </tr>\n",
              "  </thead>\n",
              "  <tbody>\n",
              "    <tr>\n",
              "      <th>757</th>\n",
              "      <td>2008-01-27</td>\n",
              "      <td>37.929588</td>\n",
              "    </tr>\n",
              "  </tbody>\n",
              "</table>\n",
              "</div>"
            ],
            "text/plain": [
              "            ymd  wind_speed\n",
              "757  2008-01-27   37.929588"
            ]
          },
          "metadata": {
            "tags": []
          },
          "execution_count": 110
        }
      ]
    },
    {
      "cell_type": "code",
      "metadata": {
        "id": "aiOxeXDJLP22",
        "colab_type": "code",
        "colab": {}
      },
      "source": [
        "fastest_date = str(wind_ymd['ymd'].max())"
      ],
      "execution_count": 0,
      "outputs": []
    },
    {
      "cell_type": "code",
      "metadata": {
        "id": "A6WipsVeLxwr",
        "colab_type": "code",
        "colab": {}
      },
      "source": [
        "fastest_speed = weather_hist.groupby('ymd')['wind_speed'].mean().to_frame()['wind_speed'].max()"
      ],
      "execution_count": 0,
      "outputs": []
    },
    {
      "cell_type": "code",
      "metadata": {
        "id": "28nm6OPqMDZe",
        "colab_type": "code",
        "colab": {
          "base_uri": "https://localhost:8080/",
          "height": 35
        },
        "outputId": "6d5ffa4a-346b-4ff7-a341-7698df1acb1b"
      },
      "source": [
        "fastest_date, fastest_speed"
      ],
      "execution_count": 117,
      "outputs": [
        {
          "output_type": "execute_result",
          "data": {
            "text/plain": [
              "('2008-01-27', 37.929587500000004)"
            ]
          },
          "metadata": {
            "tags": []
          },
          "execution_count": 117
        }
      ]
    },
    {
      "cell_type": "markdown",
      "metadata": {
        "id": "kh1QRBc2163v",
        "colab_type": "text"
      },
      "source": [
        "сколько раз шел дождь летом 2014 года:"
      ]
    },
    {
      "cell_type": "code",
      "metadata": {
        "id": "W2y2UR_u1JZM",
        "colab_type": "code",
        "colab": {}
      },
      "source": [
        "rain_2014 = weather_hist[weather_hist['year'].isin([2014])]\n",
        "rain_2014 = rain_2014[rain_2014['weather_type'].isin(['rain'])]\n",
        "rain_2014 = rain_2014[rain_2014['month'].isin([6, 7, 8])]"
      ],
      "execution_count": 0,
      "outputs": []
    },
    {
      "cell_type": "code",
      "metadata": {
        "id": "zJy2L-JY9ybK",
        "colab_type": "code",
        "colab": {}
      },
      "source": [
        "rain_2014.head(5)"
      ],
      "execution_count": 0,
      "outputs": []
    },
    {
      "cell_type": "code",
      "metadata": {
        "id": "uxv1M1Rc2osd",
        "colab_type": "code",
        "colab": {
          "base_uri": "https://localhost:8080/",
          "height": 35
        },
        "outputId": "b5ad8789-4544-48d2-f081-0c65d497aeec"
      },
      "source": [
        "len(rain_2014['ymd'].unique())"
      ],
      "execution_count": 78,
      "outputs": [
        {
          "output_type": "execute_result",
          "data": {
            "text/plain": [
              "92"
            ]
          },
          "metadata": {
            "tags": []
          },
          "execution_count": 78
        }
      ]
    },
    {
      "cell_type": "markdown",
      "metadata": {
        "id": "8_PNlvAl-6PT",
        "colab_type": "text"
      },
      "source": [
        "Сгруппируйтей данные по годам, месяцам и неделям (по отдельности) и найдите:\n",
        "\n",
        "按照年、月、周把数据分组并找到：\n",
        "\n",
        "1) самый ветрянный месяц 风最大的月\n",
        "\n",
        "2) самый влажный год 最湿润的年\n",
        "\n",
        "3) неделю с самой переменчивой погодой 天气变化差异最大的周"
      ]
    },
    {
      "cell_type": "markdown",
      "metadata": {
        "id": "FyxIPBVc_RkU",
        "colab_type": "text"
      },
      "source": [
        "самый ветрянный месяц:"
      ]
    },
    {
      "cell_type": "code",
      "metadata": {
        "id": "el6QHo36GAIc",
        "colab_type": "code",
        "colab": {}
      },
      "source": [
        "dict_wind = {}\n",
        "\n",
        "for i in range(2006, 2017):\n",
        "  wind_year = weather_hist[weather_hist['year'].isin([i])]\n",
        "  wind_month = wind_year.groupby('month')['wind_speed'].mean().to_frame().reset_index().sort_values(by='wind_speed', ascending=False)"
      ],
      "execution_count": 0,
      "outputs": []
    },
    {
      "cell_type": "code",
      "metadata": {
        "colab_type": "code",
        "id": "Ti0BwuUo_PcU",
        "colab": {}
      },
      "source": [
        "wind_month = weather_hist.groupby('month')['wind_speed'].mean().to_frame()['wind_speed'].max()"
      ],
      "execution_count": 0,
      "outputs": []
    },
    {
      "cell_type": "code",
      "metadata": {
        "id": "Hst7n8A6-7ef",
        "colab_type": "code",
        "colab": {
          "base_uri": "https://localhost:8080/",
          "height": 35
        },
        "outputId": "79d062f5-3ba8-43e6-88cc-d6e49b3254aa"
      },
      "source": [
        "wind_month"
      ],
      "execution_count": 98,
      "outputs": [
        {
          "output_type": "execute_result",
          "data": {
            "text/plain": [
              "13.415824682307008"
            ]
          },
          "metadata": {
            "tags": []
          },
          "execution_count": 98
        }
      ]
    },
    {
      "cell_type": "markdown",
      "metadata": {
        "id": "1iZhd9lqAY8W",
        "colab_type": "text"
      },
      "source": [
        "самый влажный год:"
      ]
    },
    {
      "cell_type": "code",
      "metadata": {
        "colab_type": "code",
        "id": "WJXBfIzpAYLK",
        "colab": {}
      },
      "source": [
        "wet_year = weather_hist.groupby('year')['weather_type'].mean().to_frame().reset_index().sort_values(by='wind_speed', ascending=False)"
      ],
      "execution_count": 0,
      "outputs": []
    },
    {
      "cell_type": "code",
      "metadata": {
        "id": "_kOnDj1PAWgy",
        "colab_type": "code",
        "colab": {
          "base_uri": "https://localhost:8080/",
          "height": 52
        },
        "outputId": "b88d0a22-ed24-4528-8269-331c5ae606fd"
      },
      "source": [
        "weather_hist['year'].unique()"
      ],
      "execution_count": 85,
      "outputs": [
        {
          "output_type": "execute_result",
          "data": {
            "text/plain": [
              "array([2006, 2005, 2010, 2007, 2008, 2009, 2011, 2012, 2013, 2014, 2015,\n",
              "       2016])"
            ]
          },
          "metadata": {
            "tags": []
          },
          "execution_count": 85
        }
      ]
    }
  ]
}