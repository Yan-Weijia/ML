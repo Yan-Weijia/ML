{
  "nbformat": 4,
  "nbformat_minor": 0,
  "metadata": {
    "colab": {
      "name": "ML-HW02.ipynb",
      "provenance": [],
      "collapsed_sections": [],
      "authorship_tag": "ABX9TyNdoRD7Dv2rv4VQ5fzNYluA",
      "include_colab_link": true
    },
    "kernelspec": {
      "name": "python3",
      "display_name": "Python 3"
    }
  },
  "cells": [
    {
      "cell_type": "markdown",
      "metadata": {
        "id": "view-in-github",
        "colab_type": "text"
      },
      "source": [
        "<a href=\"https://colab.research.google.com/github/Yan-Weijia/ML/blob/master/ML-HW02/ML-HW02.ipynb\" target=\"_parent\"><img src=\"https://colab.research.google.com/assets/colab-badge.svg\" alt=\"Open In Colab\"/></a>"
      ]
    },
    {
      "cell_type": "markdown",
      "metadata": {
        "id": "qikT5KHvDckF",
        "colab_type": "text"
      },
      "source": [
        "решить задачу бинарной классификации на большом корпусе imdb рецензий на фильмы. \n",
        "Корпус скачать http://ai.stanford.edu/~amaas/data/sentiment/\n",
        "\n",
        "Ваша задача в sklearn, \n",
        "\n",
        "используя **три разных алгоритма**, \n",
        "\n",
        "**построить и обучить классификаторы**, \n",
        "\n",
        "для каждого из них **посчитать метрики качества**. \n",
        "\n",
        "Постройте **ROC кривую** и посчитайте **величину ROC AUC**. \n",
        "\n",
        "Выберите **лучший** классификатор.\n",
        "\n",
        "Используя **предсказания вероятностей класса**, \n",
        "\n",
        "найдите **15** самых негативных и самых позитивных рецензий по мнению модели.  - 7 баллов\n",
        "\n",
        "Написать **свои функции**, которые бы считали **tp, fp, tn, fn**, \n",
        "\n",
        "и возвращали **точность, полноту и ф-меру** \n",
        "\n",
        "и **применить их к результатам**, полученным вашими классификаторами \n",
        "\n",
        "(если все сделано правильно, то результаты должны **совпадать** с полученными  sklearn метриками). - 3 балла"
      ]
    },
    {
      "cell_type": "markdown",
      "metadata": {
        "colab_type": "text",
        "id": "qOVfWJjZtBUU",
        "nbpresent": {
          "id": "6b3223ce-4331-46e4-be4e-b21d9f70b579"
        }
      },
      "source": [
        "### Пример. 情感倾向分类Классификация по тональности на $C = <+,->$\n",
        "\t\n",
        "Используем индикаторные признаки 指示标志\n",
        "\t\n",
        "\n",
        "*\"... there are virtually no surprises, and the writing is second-rate. So why did I enjoy it so much? For one thing, the cast is great ...\"*\n",
        "\t \n",
        "\n",
        "<table>\n",
        "  <tr>\n",
        "    <th>признак</th>\n",
        "    <th>значение</th>\n",
        "    <th></th>\n",
        "    <th>вес</th>\n",
        "  </tr>\n",
        "  <tr>\n",
        "    <td>$f_1$</td>\n",
        "    <td>1</td>\n",
        "    <td> \"great\" $\\in d$ и $c=+$</td>\n",
        "    <td rowspan=\"2\">1.9</td>\n",
        "  </tr>\n",
        "  <tr>\n",
        "    <td></td>\n",
        "    <td>0</td>\n",
        "    <td>иначе</td>\n",
        "  </tr>\n",
        "  \n",
        "   <tr>\n",
        "    <td>$f_2$</td>\n",
        "    <td>1</td>\n",
        "    <td>\"second-rate\" $\\in d$ и $c=-$</td>\n",
        "    <td rowspan=\"2\">0.9</td>\n",
        "  </tr>\n",
        "  <tr>\n",
        "    <td></td>\n",
        "    <td>0</td>\n",
        "    <td>иначе</td>\n",
        "  </tr>\n",
        "\n",
        "   <tr>\n",
        "    <td>$f_3$</td>\n",
        "    <td>1</td>\n",
        "    <td>\"no\" $\\in d$ и $c=-$ </td>\n",
        "    <td rowspan=\"2\">0.7</td>\n",
        "  </tr>\n",
        "  <tr>\n",
        "    <td></td>\n",
        "    <td>0</td>\n",
        "    <td>иначе</td>\n",
        "  </tr>\n",
        "  \n",
        "   <tr>\n",
        "    <td>$f_4$</td>\n",
        "    <td>1</td>\n",
        "    <td>\"enjoy\" $\\in d$ и $c=-$ </td>\n",
        "    <td rowspan=\"2\">-0.8</td>\n",
        "  </tr>\n",
        "  <tr>\n",
        "    <td></td>\n",
        "    <td>0</td>\n",
        "    <td>иначе</td>\n",
        "  </tr>\n",
        "\n",
        "   <tr>\n",
        "    <td>$f_4$</td>\n",
        "    <td>1</td>\n",
        "    <td>\"great\" $\\in d$ и $c=-$ </td>\n",
        "    <td rowspan=\"2\">-0.6</td>\n",
        "  </tr>\n",
        "  <tr>\n",
        "    <td></td>\n",
        "    <td>0</td>\n",
        "    <td>иначе</td>\n",
        "  </tr>\n",
        "\n",
        "\n",
        "\n",
        "\n",
        "</table>\n",
        "\t\n",
        "\n",
        "\n",
        "\n",
        "\n"
      ]
    },
    {
      "cell_type": "code",
      "metadata": {
        "id": "NawiJ0D76Q5d",
        "colab_type": "code",
        "colab": {}
      },
      "source": [
        "!wget http://ai.stanford.edu/~amaas/data/sentiment/aclImdb_v1.tar.gz"
      ],
      "execution_count": 0,
      "outputs": []
    },
    {
      "cell_type": "code",
      "metadata": {
        "id": "E4InnvbFHZND",
        "colab_type": "code",
        "colab": {}
      },
      "source": [
        "!wget https://github.com/Yan-Weijia/ML/raw/master/ML_HW02/data/test.zip\n",
        "!wget https://github.com/Yan-Weijia/ML/raw/master/ML_HW02/data/train.zip"
      ],
      "execution_count": 0,
      "outputs": []
    },
    {
      "cell_type": "code",
      "metadata": {
        "id": "CoGnsHysHdDu",
        "colab_type": "code",
        "colab": {
          "base_uri": "https://localhost:8080/",
          "height": 381
        },
        "outputId": "89cd9f20-5ac0-4126-de08-c9933aa95826"
      },
      "source": [
        "import zipfile\n",
        "f = zipfile.ZipFile(\"test.zip\", \"r\")\n",
        "f.extract(\"test.zip\")\n",
        "f.close()\n",
        "\n",
        "f = zipfile.ZipFile(\"train.zip\", \"r\")\n",
        "f.extract(\"train.zip\")\n",
        "f.close()"
      ],
      "execution_count": 17,
      "outputs": [
        {
          "output_type": "error",
          "ename": "KeyError",
          "evalue": "ignored",
          "traceback": [
            "\u001b[0;31m---------------------------------------------------------------------------\u001b[0m",
            "\u001b[0;31mKeyError\u001b[0m                                  Traceback (most recent call last)",
            "\u001b[0;32m<ipython-input-17-0f0f8d6e18cf>\u001b[0m in \u001b[0;36m<module>\u001b[0;34m()\u001b[0m\n\u001b[1;32m      1\u001b[0m \u001b[0;32mimport\u001b[0m \u001b[0mzipfile\u001b[0m\u001b[0;34m\u001b[0m\u001b[0;34m\u001b[0m\u001b[0m\n\u001b[1;32m      2\u001b[0m \u001b[0mf\u001b[0m \u001b[0;34m=\u001b[0m \u001b[0mzipfile\u001b[0m\u001b[0;34m.\u001b[0m\u001b[0mZipFile\u001b[0m\u001b[0;34m(\u001b[0m\u001b[0;34m\"test.zip\"\u001b[0m\u001b[0;34m,\u001b[0m \u001b[0;34m\"r\"\u001b[0m\u001b[0;34m)\u001b[0m\u001b[0;34m\u001b[0m\u001b[0;34m\u001b[0m\u001b[0m\n\u001b[0;32m----> 3\u001b[0;31m \u001b[0mf\u001b[0m\u001b[0;34m.\u001b[0m\u001b[0mextract\u001b[0m\u001b[0;34m(\u001b[0m\u001b[0;34m\"test.zip\"\u001b[0m\u001b[0;34m)\u001b[0m\u001b[0;34m\u001b[0m\u001b[0;34m\u001b[0m\u001b[0m\n\u001b[0m\u001b[1;32m      4\u001b[0m \u001b[0mf\u001b[0m\u001b[0;34m.\u001b[0m\u001b[0mclose\u001b[0m\u001b[0;34m(\u001b[0m\u001b[0;34m)\u001b[0m\u001b[0;34m\u001b[0m\u001b[0;34m\u001b[0m\u001b[0m\n\u001b[1;32m      5\u001b[0m \u001b[0;34m\u001b[0m\u001b[0m\n",
            "\u001b[0;32m/usr/lib/python3.6/zipfile.py\u001b[0m in \u001b[0;36mextract\u001b[0;34m(self, member, path, pwd)\u001b[0m\n\u001b[1;32m   1505\u001b[0m             \u001b[0mpath\u001b[0m \u001b[0;34m=\u001b[0m \u001b[0mos\u001b[0m\u001b[0;34m.\u001b[0m\u001b[0mfspath\u001b[0m\u001b[0;34m(\u001b[0m\u001b[0mpath\u001b[0m\u001b[0;34m)\u001b[0m\u001b[0;34m\u001b[0m\u001b[0;34m\u001b[0m\u001b[0m\n\u001b[1;32m   1506\u001b[0m \u001b[0;34m\u001b[0m\u001b[0m\n\u001b[0;32m-> 1507\u001b[0;31m         \u001b[0;32mreturn\u001b[0m \u001b[0mself\u001b[0m\u001b[0;34m.\u001b[0m\u001b[0m_extract_member\u001b[0m\u001b[0;34m(\u001b[0m\u001b[0mmember\u001b[0m\u001b[0;34m,\u001b[0m \u001b[0mpath\u001b[0m\u001b[0;34m,\u001b[0m \u001b[0mpwd\u001b[0m\u001b[0;34m)\u001b[0m\u001b[0;34m\u001b[0m\u001b[0;34m\u001b[0m\u001b[0m\n\u001b[0m\u001b[1;32m   1508\u001b[0m \u001b[0;34m\u001b[0m\u001b[0m\n\u001b[1;32m   1509\u001b[0m     \u001b[0;32mdef\u001b[0m \u001b[0mextractall\u001b[0m\u001b[0;34m(\u001b[0m\u001b[0mself\u001b[0m\u001b[0;34m,\u001b[0m \u001b[0mpath\u001b[0m\u001b[0;34m=\u001b[0m\u001b[0;32mNone\u001b[0m\u001b[0;34m,\u001b[0m \u001b[0mmembers\u001b[0m\u001b[0;34m=\u001b[0m\u001b[0;32mNone\u001b[0m\u001b[0;34m,\u001b[0m \u001b[0mpwd\u001b[0m\u001b[0;34m=\u001b[0m\u001b[0;32mNone\u001b[0m\u001b[0;34m)\u001b[0m\u001b[0;34m:\u001b[0m\u001b[0;34m\u001b[0m\u001b[0;34m\u001b[0m\u001b[0m\n",
            "\u001b[0;32m/usr/lib/python3.6/zipfile.py\u001b[0m in \u001b[0;36m_extract_member\u001b[0;34m(self, member, targetpath, pwd)\u001b[0m\n\u001b[1;32m   1544\u001b[0m         \"\"\"\n\u001b[1;32m   1545\u001b[0m         \u001b[0;32mif\u001b[0m \u001b[0;32mnot\u001b[0m \u001b[0misinstance\u001b[0m\u001b[0;34m(\u001b[0m\u001b[0mmember\u001b[0m\u001b[0;34m,\u001b[0m \u001b[0mZipInfo\u001b[0m\u001b[0;34m)\u001b[0m\u001b[0;34m:\u001b[0m\u001b[0;34m\u001b[0m\u001b[0;34m\u001b[0m\u001b[0m\n\u001b[0;32m-> 1546\u001b[0;31m             \u001b[0mmember\u001b[0m \u001b[0;34m=\u001b[0m \u001b[0mself\u001b[0m\u001b[0;34m.\u001b[0m\u001b[0mgetinfo\u001b[0m\u001b[0;34m(\u001b[0m\u001b[0mmember\u001b[0m\u001b[0;34m)\u001b[0m\u001b[0;34m\u001b[0m\u001b[0;34m\u001b[0m\u001b[0m\n\u001b[0m\u001b[1;32m   1547\u001b[0m \u001b[0;34m\u001b[0m\u001b[0m\n\u001b[1;32m   1548\u001b[0m         \u001b[0;31m# build the destination pathname, replacing\u001b[0m\u001b[0;34m\u001b[0m\u001b[0;34m\u001b[0m\u001b[0;34m\u001b[0m\u001b[0m\n",
            "\u001b[0;32m/usr/lib/python3.6/zipfile.py\u001b[0m in \u001b[0;36mgetinfo\u001b[0;34m(self, name)\u001b[0m\n\u001b[1;32m   1302\u001b[0m         \u001b[0;32mif\u001b[0m \u001b[0minfo\u001b[0m \u001b[0;32mis\u001b[0m \u001b[0;32mNone\u001b[0m\u001b[0;34m:\u001b[0m\u001b[0;34m\u001b[0m\u001b[0;34m\u001b[0m\u001b[0m\n\u001b[1;32m   1303\u001b[0m             raise KeyError(\n\u001b[0;32m-> 1304\u001b[0;31m                 'There is no item named %r in the archive' % name)\n\u001b[0m\u001b[1;32m   1305\u001b[0m \u001b[0;34m\u001b[0m\u001b[0m\n\u001b[1;32m   1306\u001b[0m         \u001b[0;32mreturn\u001b[0m \u001b[0minfo\u001b[0m\u001b[0;34m\u001b[0m\u001b[0;34m\u001b[0m\u001b[0m\n",
            "\u001b[0;31mKeyError\u001b[0m: \"There is no item named 'test.zip' in the archive\""
          ]
        }
      ]
    },
    {
      "cell_type": "code",
      "metadata": {
        "id": "uQ_HTQYZ6kEo",
        "colab_type": "code",
        "colab": {}
      },
      "source": [
        "import tarfile\n",
        "imdb = tarfile.open(\"aclImdb_v1.tar.gz\", \"r\")\n",
        "imdb.extractall()"
      ],
      "execution_count": 0,
      "outputs": []
    },
    {
      "cell_type": "code",
      "metadata": {
        "id": "8Ul_0W4X7hJn",
        "colab_type": "code",
        "colab": {}
      },
      "source": [
        "!apt-get --yes install git"
      ],
      "execution_count": 0,
      "outputs": []
    },
    {
      "cell_type": "code",
      "metadata": {
        "id": "kTUK9xIP7tq9",
        "colab_type": "code",
        "colab": {
          "base_uri": "https://localhost:8080/",
          "height": 185
        },
        "outputId": "fd654aa2-d68f-4028-92f4-2148d8123528"
      },
      "source": [
        "rm /content/aclImdb/test/test.zip\n",
        "rm /content/aclImdb/test/train.zip"
      ],
      "execution_count": 22,
      "outputs": [
        {
          "output_type": "error",
          "ename": "NameError",
          "evalue": "ignored",
          "traceback": [
            "\u001b[0;31m---------------------------------------------------------------------------\u001b[0m",
            "\u001b[0;31mNameError\u001b[0m                                 Traceback (most recent call last)",
            "\u001b[0;32m<ipython-input-22-f772fdc90084>\u001b[0m in \u001b[0;36m<module>\u001b[0;34m()\u001b[0m\n\u001b[0;32m----> 1\u001b[0;31m \u001b[0mrm\u001b[0m \u001b[0;34m/\u001b[0m\u001b[0mcontent\u001b[0m\u001b[0;34m/\u001b[0m\u001b[0maclImdb\u001b[0m\u001b[0;34m/\u001b[0m\u001b[0mtest\u001b[0m\u001b[0;34m/\u001b[0m\u001b[0mtest\u001b[0m\u001b[0;34m.\u001b[0m\u001b[0mzip\u001b[0m\u001b[0;34m\u001b[0m\u001b[0;34m\u001b[0m\u001b[0m\n\u001b[0m\u001b[1;32m      2\u001b[0m \u001b[0mrm\u001b[0m \u001b[0;34m/\u001b[0m\u001b[0mcontent\u001b[0m\u001b[0;34m/\u001b[0m\u001b[0maclImdb\u001b[0m\u001b[0;34m/\u001b[0m\u001b[0mtest\u001b[0m\u001b[0;34m/\u001b[0m\u001b[0mtrain\u001b[0m\u001b[0;34m.\u001b[0m\u001b[0mzip\u001b[0m\u001b[0;34m\u001b[0m\u001b[0;34m\u001b[0m\u001b[0m\n",
            "\u001b[0;31mNameError\u001b[0m: name 'rm' is not defined"
          ]
        }
      ]
    },
    {
      "cell_type": "markdown",
      "metadata": {
        "id": "ZgWmNyDtTiyn",
        "colab_type": "text"
      },
      "source": [
        "把dataset变成矩阵"
      ]
    },
    {
      "cell_type": "code",
      "metadata": {
        "colab_type": "code",
        "id": "fl3eW8nNtBT1",
        "nbpresent": {
          "id": "c61eae59-38c2-43dc-8b1a-03c2661a8aea"
        },
        "outputId": "7fd646ba-de24-4d97-ceed-cfc57d7fd5ac",
        "colab": {
          "base_uri": "https://localhost:8080/",
          "height": 35
        }
      },
      "source": [
        "from sklearn.feature_extraction.text import CountVectorizer\n",
        "count_vect = CountVectorizer()\n",
        "X_train_counts = count_vect.fit_transform(twenty_train.data) #Learn the vocabulary dictionary and return term-document matrix.\n",
        "# 学习词汇词典并返回术语文档矩阵。\n",
        "X_train_counts.shape"
      ],
      "execution_count": 0,
      "outputs": [
        {
          "output_type": "execute_result",
          "data": {
            "text/plain": [
              "(2257, 35788)"
            ]
          },
          "metadata": {
            "tags": []
          },
          "execution_count": 5
        }
      ]
    },
    {
      "cell_type": "markdown",
      "metadata": {
        "id": "ijZbMoFo6R06",
        "colab_type": "text"
      },
      "source": [
        "# Метод ближайшего соседа"
      ]
    },
    {
      "cell_type": "code",
      "metadata": {
        "colab_type": "code",
        "id": "7T6o13agtBT3",
        "nbpresent": {
          "id": "94e77975-2978-4bdc-a96b-2715d4c83194"
        },
        "colab": {}
      },
      "source": [
        "from sklearn.neighbors import KNeighborsClassifier\n",
        "clf = KNeighborsClassifier().fit(X_train_counts, twenty_train.target) # clf, classifier, 分类器"
      ],
      "execution_count": 0,
      "outputs": []
    },
    {
      "cell_type": "code",
      "metadata": {
        "colab_type": "code",
        "id": "ELZOCmkmtBT4",
        "nbpresent": {
          "id": "98a6b75c-c890-4f8d-96fd-2fac84d824b8"
        },
        "outputId": "0c908394-c3b5-45c8-db29-8302a735ac58",
        "colab": {
          "base_uri": "https://localhost:8080/",
          "height": 121
        }
      },
      "source": [
        "from sklearn.metrics import *\n",
        "# 把test测试集变成矩阵\n",
        "twenty_test = fetch_20newsgroups(subset='test', categories=categories, \n",
        "                                 shuffle=True, random_state=0) \n",
        "X_test = count_vect.transform(twenty_test.data) # Extract token counts out of raw text documents using the vocabulary fitted with fit\n",
        "# 使用适合的词汇从原始文本文档中提取令牌计数 \n",
        "print(X_test.shape)\n",
        "predicted = clf.predict(X_test) # 用train好的预测模型预测test\n",
        "predicted_proba = clf.predict_proba(X_test)\n",
        "predicted_proba[:5]"
      ],
      "execution_count": 0,
      "outputs": [
        {
          "output_type": "stream",
          "text": [
            "(1502, 35788)\n"
          ],
          "name": "stdout"
        },
        {
          "output_type": "execute_result",
          "data": {
            "text/plain": [
              "array([[0. , 0.6, 0. , 0.4],\n",
              "       [0.2, 0. , 0. , 0.8],\n",
              "       [0. , 0. , 0. , 1. ],\n",
              "       [0.2, 0. , 0. , 0.8],\n",
              "       [0. , 0.4, 0.4, 0.2]])"
            ]
          },
          "metadata": {
            "tags": []
          },
          "execution_count": 8
        }
      ]
    },
    {
      "cell_type": "markdown",
      "metadata": {
        "id": "FE_AYlFP-jDr",
        "colab_type": "text"
      },
      "source": [
        ""
      ]
    },
    {
      "cell_type": "code",
      "metadata": {
        "colab_type": "code",
        "id": "lT8YgH84tBT8",
        "nbpresent": {
          "id": "37e726e5-36e8-40ec-ba41-74fe6e3613d2"
        },
        "outputId": "bfbe0e23-36ac-4e9d-9d7f-4fea2689f7b7",
        "colab": {
          "base_uri": "https://localhost:8080/",
          "height": 85
        }
      },
      "source": [
        "# 精确率：sum正反向预测对的 / sum正反向预测错的和对的\n",
        "acc = accuracy_score(predicted, twenty_test.target)\n",
        "print('acc={0:1.4f}'.format(acc))\n",
        "\n",
        "micro_f1 = f1_score(predicted, twenty_test.target, average = 'micro')\n",
        "micro_p = precision_score(predicted, twenty_test.target, average = 'micro')\n",
        "micro_r = recall_score(predicted, twenty_test.target, average = 'micro')\n",
        "print('micro F1={0:1.4f}, micro P={1:1.4f}, micro R={2:1.4f}'.format(micro_f1, micro_p, micro_r))\n",
        "\n",
        "macro_f1 = f1_score(predicted, twenty_test.target, average = 'macro')\n",
        "macro_p = precision_score(predicted, twenty_test.target, average = 'macro')\n",
        "macro_r = recall_score(predicted, twenty_test.target, average = 'macro')\n",
        "print('macro F1={0:1.4f}, macro P={1:1.4f}, macro R={2:1.4f}\\n'.format(macro_f1, macro_p, macro_r))"
      ],
      "execution_count": 0,
      "outputs": [
        {
          "output_type": "stream",
          "text": [
            "acc=0.5599\n",
            "micro F1=0.5599, micro P=0.5599, micro R=0.5599\n",
            "macro F1=0.5507, macro P=0.5580, macro R=0.5963\n",
            "\n"
          ],
          "name": "stdout"
        }
      ]
    },
    {
      "cell_type": "markdown",
      "metadata": {
        "id": "9-DsUFFc-hqp",
        "colab_type": "text"
      },
      "source": [
        ""
      ]
    },
    {
      "cell_type": "code",
      "metadata": {
        "colab_type": "code",
        "nbpresent": {
          "id": "c299e1d2-b14f-4cd9-89af-9ad4c3374247"
        },
        "outputId": "94da36e3-ae4b-4524-ad59-29cb9b206151",
        "id": "ZR5ZRhnOE0OO",
        "colab": {
          "base_uri": "https://localhost:8080/",
          "height": 376
        }
      },
      "source": [
        "import seaborn as sns \n",
        "import matplotlib.pyplot as plt\n",
        "%matplotlib inline\n",
        "\n",
        "# 热图（data=混淆矩阵（行标准数据，列预测数据），）\n",
        "sns.heatmap(data=confusion_matrix(twenty_test.target, predicted), annot=True, fmt=\"d\", cbar=False, xticklabels=categories, yticklabels=categories)\n",
        "plt.title(\"Confusion matrix\")\n",
        "plt.show()"
      ],
      "execution_count": 0,
      "outputs": [
        {
          "output_type": "display_data",
          "data": {
            "image/png": "[encoded data removed]",
            "text/plain": [
              "<Figure size 432x288 with 1 Axes>"
            ]
          },
          "metadata": {
            "tags": []
          }
        }
      ]
    },
    {
      "cell_type": "markdown",
      "metadata": {
        "id": "Xamd_9tYFDnv",
        "colab_type": "text"
      },
      "source": [
        ""
      ]
    },
    {
      "cell_type": "code",
      "metadata": {
        "id": "WfOcYCAlcSuh",
        "colab_type": "code",
        "outputId": "69360818-dad0-471e-d0f6-60c88fc394e0",
        "colab": {
          "base_uri": "https://localhost:8080/",
          "height": 279
        }
      },
      "source": [
        "import numpy as np\n",
        "from sklearn.metrics import roc_auc_score, roc_curve\n",
        "from matplotlib import pyplot\n",
        "\n",
        "y_true = np.array([0, 1, 1, 1, 0])\n",
        "y_predicted = np.array([0.1, 0.7, 0.4, 0.2, 0.27])\n",
        "fpr, tpr, _ = roc_curve(y_true, y_predicted)\n",
        "pyplot.plot(fpr, tpr, marker='.', label='Test')\n",
        "# axis labels\n",
        "pyplot.xlabel('False Positive Rate')\n",
        "pyplot.ylabel('True Positive Rate')\n",
        "# show the legend\n",
        "pyplot.legend()\n",
        "# show the plot\n",
        "pyplot.show()"
      ],
      "execution_count": 0,
      "outputs": [
        {
          "output_type": "display_data",
          "data": {
            "image/png": "[encoded data removed]",
            "text/plain": [
              "<Figure size 432x288 with 1 Axes>"
            ]
          },
          "metadata": {
            "tags": []
          }
        }
      ]
    },
    {
      "cell_type": "markdown",
      "metadata": {
        "id": "SjCIaayk-rtv",
        "colab_type": "text"
      },
      "source": [
        "# Метод наивного Байеса"
      ]
    },
    {
      "cell_type": "code",
      "metadata": {
        "id": "rJGkx-9KA9GM",
        "colab_type": "code",
        "colab": {}
      },
      "source": [
        "from sklearn.naive_bayes import MultinomialNB\n",
        "clf = MultinomialNB().fit(X_train_counts, twenty_train.target)\n",
        "predicted = clf.predict(X_test)"
      ],
      "execution_count": 0,
      "outputs": []
    },
    {
      "cell_type": "markdown",
      "metadata": {
        "id": "nIsM8aXZBGyi",
        "colab_type": "text"
      },
      "source": [
        ""
      ]
    },
    {
      "cell_type": "code",
      "metadata": {
        "id": "uVgDKGcdBBHM",
        "colab_type": "code",
        "colab": {}
      },
      "source": [
        "acc = accuracy_score(predicted, twenty_test.target)\n",
        "print('acc={0:1.4f}'.format(acc))\n",
        "\n",
        "micro_f1 = f1_score(predicted, twenty_test.target, average = 'micro')\n",
        "micro_p = precision_score(predicted, twenty_test.target, average = 'micro')\n",
        "micro_r = recall_score(predicted, twenty_test.target, average = 'micro')\n",
        "print('micro F1={0:1.4f}, micro P={1:1.4f}, micro R={2:1.4f}'.format(micro_f1, micro_p, micro_r))\n",
        "\n",
        "macro_f1 = f1_score(predicted, twenty_test.target, average = 'macro')\n",
        "macro_p = precision_score(predicted, twenty_test.target, average = 'macro')\n",
        "macro_r = recall_score(predicted, twenty_test.target, average = 'macro')\n",
        "print('macro F1={0:1.4f}, macro P={1:1.4f}, macro R={2:1.4f}\\n'.format(macro_f1, macro_p, macro_r))"
      ],
      "execution_count": 0,
      "outputs": []
    },
    {
      "cell_type": "markdown",
      "metadata": {
        "id": "1cj_bYeIBIqn",
        "colab_type": "text"
      },
      "source": [
        ""
      ]
    },
    {
      "cell_type": "code",
      "metadata": {
        "id": "CIOAFXgzBFQ5",
        "colab_type": "code",
        "colab": {}
      },
      "source": [
        "sns.heatmap(data=confusion_matrix(twenty_test.target, predicted), annot=True, fmt=\"d\", cbar=False, xticklabels=categories, yticklabels=categories)\n",
        "plt.title(\"Confusion matrix\")\n",
        "plt.show()"
      ],
      "execution_count": 0,
      "outputs": []
    },
    {
      "cell_type": "markdown",
      "metadata": {
        "id": "A4lVD6aEBW3O",
        "colab_type": "text"
      },
      "source": [
        "# Логистическая регрессия"
      ]
    },
    {
      "cell_type": "code",
      "metadata": {
        "colab_type": "code",
        "id": "-wAmHq1MtBUW",
        "nbpresent": {
          "id": "df977cc2-ab45-4767-9ed7-d00bf9a37d21"
        },
        "outputId": "edd366f0-a964-4372-cbc6-e075ccf1834f",
        "colab": {
          "base_uri": "https://localhost:8080/",
          "height": 153
        }
      },
      "source": [
        "from sklearn.linear_model import LogisticRegression\n",
        "clf = LogisticRegression().fit(X_train_counts, twenty_train.target)\n",
        "predicted = clf.predict(X_test)"
      ],
      "execution_count": 0,
      "outputs": [
        {
          "output_type": "stream",
          "text": [
            "/usr/local/lib/python3.6/dist-packages/sklearn/linear_model/_logistic.py:940: ConvergenceWarning: lbfgs failed to converge (status=1):\n",
            "STOP: TOTAL NO. of ITERATIONS REACHED LIMIT.\n",
            "\n",
            "Increase the number of iterations (max_iter) or scale the data as shown in:\n",
            "    https://scikit-learn.org/stable/modules/preprocessing.html\n",
            "Please also refer to the documentation for alternative solver options:\n",
            "    https://scikit-learn.org/stable/modules/linear_model.html#logistic-regression\n",
            "  extra_warning_msg=_LOGISTIC_SOLVER_CONVERGENCE_MSG)\n"
          ],
          "name": "stderr"
        }
      ]
    },
    {
      "cell_type": "markdown",
      "metadata": {
        "id": "ZRdAA6trCAf8",
        "colab_type": "text"
      },
      "source": [
        ""
      ]
    },
    {
      "cell_type": "code",
      "metadata": {
        "colab_type": "code",
        "id": "ZgCIqD9qtBUY",
        "nbpresent": {
          "id": "f554fe06-a094-4366-9dfe-4ddae5469f49"
        },
        "outputId": "1d579d75-de5f-4857-cea2-9fdb4165e4b8",
        "colab": {
          "base_uri": "https://localhost:8080/",
          "height": 85
        }
      },
      "source": [
        "acc = accuracy_score(predicted, twenty_test.target)\n",
        "print('acc={0:1.4f}'.format(acc))\n",
        "\n",
        "micro_f1 = f1_score(predicted, twenty_test.target, average = 'micro')\n",
        "micro_p = precision_score(predicted, twenty_test.target, average = 'micro')\n",
        "micro_r = recall_score(predicted, twenty_test.target, average = 'micro')\n",
        "print('micro F1={0:1.4f}, micro P={1:1.4f}, micro R={2:1.4f}'.format(micro_f1, micro_p, micro_r))\n",
        "\n",
        "macro_f1 = f1_score(predicted, twenty_test.target, average = 'macro')\n",
        "macro_p = precision_score(predicted, twenty_test.target, average = 'macro')\n",
        "macro_r = recall_score(predicted, twenty_test.target, average = 'macro')\n",
        "print('macro F1={0:1.4f}, macro P={1:1.4f}, macro R={2:1.4f}\\n'.format(macro_f1, macro_p, macro_r))"
      ],
      "execution_count": 0,
      "outputs": [
        {
          "output_type": "stream",
          "text": [
            "acc=0.8915\n",
            "micro F1=0.8915, micro P=0.8915, micro R=0.8915\n",
            "macro F1=0.8885, macro P=0.8874, macro R=0.8949\n",
            "\n"
          ],
          "name": "stdout"
        }
      ]
    },
    {
      "cell_type": "markdown",
      "metadata": {
        "id": "oAN5kyUeCJgJ",
        "colab_type": "text"
      },
      "source": [
        ""
      ]
    },
    {
      "cell_type": "code",
      "metadata": {
        "colab_type": "code",
        "id": "Vr5U-NMDtBUa",
        "nbpresent": {
          "id": "46b10c7c-bd00-4736-bda2-19a1196640d3"
        },
        "outputId": "3d241b49-75f7-4e83-d017-0f555aad9f1f",
        "colab": {
          "base_uri": "https://localhost:8080/",
          "height": 376
        }
      },
      "source": [
        "\n",
        "sns.heatmap(data=confusion_matrix(twenty_test.target, predicted), annot=True, fmt=\"d\", cbar=False, xticklabels=categories, yticklabels=categories)\n",
        "plt.title(\"Confusion matrix\")\n",
        "plt.show()"
      ],
      "execution_count": 0,
      "outputs": [
        {
          "output_type": "display_data",
          "data": {
            "image/png": "[encoded data removed]",
            "text/plain": [
              "<Figure size 432x288 with 1 Axes>"
            ]
          },
          "metadata": {
            "tags": []
          }
        }
      ]
    },
    {
      "cell_type": "code",
      "metadata": {
        "id": "AKs_0tP-BYaK",
        "colab_type": "code",
        "colab": {}
      },
      "source": [
        ""
      ],
      "execution_count": 0,
      "outputs": []
    }
  ]
}