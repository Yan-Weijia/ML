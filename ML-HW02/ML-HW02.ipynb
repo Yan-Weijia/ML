{
  "nbformat": 4,
  "nbformat_minor": 0,
  "metadata": {
    "colab": {
      "name": "ML-HW02.ipynb",
      "provenance": [],
      "collapsed_sections": [],
      "authorship_tag": "ABX9TyPgYLP8Tb1TQJRae1Hxj+Um",
      "include_colab_link": true
    },
    "kernelspec": {
      "name": "python3",
      "display_name": "Python 3"
    }
  },
  "cells": [
    {
      "cell_type": "markdown",
      "metadata": {
        "id": "view-in-github",
        "colab_type": "text"
      },
      "source": [
        "<a href=\"https://colab.research.google.com/github/Yan-Weijia/ML/blob/master/ML-HW02/ML-HW02.ipynb\" target=\"_parent\"><img src=\"https://colab.research.google.com/assets/colab-badge.svg\" alt=\"Open In Colab\"/></a>"
      ]
    },
    {
      "cell_type": "markdown",
      "metadata": {
        "id": "qikT5KHvDckF",
        "colab_type": "text"
      },
      "source": [
        "решить задачу бинарной классификации на большом корпусе imdb рецензий на фильмы. \n",
        "Корпус скачать http://ai.stanford.edu/~amaas/data/sentiment/\n",
        "\n",
        "Ваша задача в sklearn, \n",
        "\n",
        "используя **три разных алгоритма**, \n",
        "\n",
        "**построить и обучить классификаторы**, \n",
        "\n",
        "для каждого из них **посчитать метрики качества**. \n",
        "\n",
        "Постройте **ROC кривую** и посчитайте **величину ROC AUC**. \n",
        "\n",
        "Выберите **лучший** классификатор.\n",
        "\n",
        "Используя **предсказания вероятностей класса**, \n",
        "\n",
        "найдите **15** самых негативных и самых позитивных рецензий по мнению модели.  - 7 баллов\n",
        "\n",
        "Написать **свои функции**, которые бы считали **tp, fp, tn, fn**, \n",
        "\n",
        "и возвращали **точность, полноту и ф-меру** \n",
        "\n",
        "и **применить их к результатам**, полученным вашими классификаторами \n",
        "\n",
        "(если все сделано правильно, то результаты должны **совпадать** с полученными  sklearn метриками). - 3 балла"
      ]
    },
    {
      "cell_type": "markdown",
      "metadata": {
        "id": "JX2jctlhvU6H",
        "colab_type": "text"
      },
      "source": [
        "## предобработка"
      ]
    },
    {
      "cell_type": "code",
      "metadata": {
        "id": "E4InnvbFHZND",
        "colab_type": "code",
        "colab": {}
      },
      "source": [
        "!wget https://github.com/Yan-Weijia/ML/raw/master/ML_HW02/data/test.zip\n",
        "!wget https://github.com/Yan-Weijia/ML/raw/master/ML_HW02/data/train.zip"
      ],
      "execution_count": 0,
      "outputs": []
    },
    {
      "cell_type": "code",
      "metadata": {
        "id": "CoGnsHysHdDu",
        "colab_type": "code",
        "colab": {}
      },
      "source": [
        "import zipfile\n",
        "fz = zipfile.ZipFile(\"test.zip\", \"r\")\n",
        "for f in fz.namelist():\n",
        "  fz.extract(f)\n",
        "fz.close()\n",
        "\n",
        "fz = zipfile.ZipFile(\"train.zip\", \"r\")\n",
        "for f in fz.namelist():\n",
        "  fz.extract(f)\n",
        "fz.close()"
      ],
      "execution_count": 0,
      "outputs": []
    },
    {
      "cell_type": "code",
      "metadata": {
        "id": "_g72zLOxL4Fj",
        "colab_type": "code",
        "colab": {
          "base_uri": "https://localhost:8080/",
          "height": 259
        },
        "outputId": "6c74c087-d5f6-4712-f591-9f31584da5cc"
      },
      "source": [
        "import pandas as pd\n",
        "df_train = pd.read_csv(\"train.csv\")\n",
        "df_test = pd.read_csv(\"test.csv\")\n",
        "print(df_train)"
      ],
      "execution_count": 16,
      "outputs": [
        {
          "output_type": "stream",
          "text": [
            "       Unnamed: 0                                               Text Polarity\n",
            "0               1  Bromwell High is a cartoon comedy. It ran at t...      pos\n",
            "1               2  Homelessness (or Houselessness as George Carli...      pos\n",
            "2               3  Brilliant over-acting by Lesley Ann Warren. Be...      pos\n",
            "3               4  This is easily the most underrated film inn th...      pos\n",
            "4               5  This is not the typical Mel Brooks film. It wa...      pos\n",
            "...           ...                                                ...      ...\n",
            "24995       24996  Towards the end of the movie, I felt it was to...      neg\n",
            "24996       24997  This is the kind of movie that my enemies cont...      neg\n",
            "24997       24998  I saw 'Descent' last night at the Stockholm Fi...      neg\n",
            "24998       24999  Some films that you pick up for a pound turn o...      neg\n",
            "24999       25000  This is one of the dumbest films, I've ever se...      neg\n",
            "\n",
            "[25000 rows x 3 columns]\n"
          ],
          "name": "stdout"
        }
      ]
    },
    {
      "cell_type": "code",
      "metadata": {
        "id": "Jg7pC6axbuIm",
        "colab_type": "code",
        "colab": {
          "base_uri": "https://localhost:8080/",
          "height": 55
        },
        "outputId": "872da66d-4b1d-407b-bad2-f7c6a70ba1ad"
      },
      "source": [
        "train_data = []\n",
        "for t in df_train.Text.values:\n",
        "  train_data.append(t)\n",
        "print(train_data[0])"
      ],
      "execution_count": 22,
      "outputs": [
        {
          "output_type": "stream",
          "text": [
            "Bromwell High is a cartoon comedy. It ran at the same time as some other programs about school life, such as \"Teachers\". My 35 years in the teaching profession lead me to believe that Bromwell High's satire is much closer to reality than is \"Teachers\". The scramble to survive financially, the insightful students who can see right through their pathetic teachers' pomp, the pettiness of the whole situation, all remind me of the schools I knew and their students. When I saw the episode in which a student repeatedly tried to burn down the school, I immediately recalled ......... at .......... High. A classic line: INSPECTOR: I'm here to sack one of your teachers. STUDENT: Welcome to Bromwell High. I expect that many adults of my age think that Bromwell High is far fetched. What a pity that it isn't!\n"
          ],
          "name": "stdout"
        }
      ]
    },
    {
      "cell_type": "code",
      "metadata": {
        "id": "E1gXvI2FdCoI",
        "colab_type": "code",
        "colab": {}
      },
      "source": [
        "test_data = []\n",
        "for t in df_test.Text.values:\n",
        "  test_data.append(t)"
      ],
      "execution_count": 0,
      "outputs": []
    },
    {
      "cell_type": "code",
      "metadata": {
        "id": "Eoth047ej_n8",
        "colab_type": "code",
        "colab": {}
      },
      "source": [
        "import numpy as np"
      ],
      "execution_count": 0,
      "outputs": []
    },
    {
      "cell_type": "code",
      "metadata": {
        "id": "YWt98ZE3mCsw",
        "colab_type": "code",
        "colab": {}
      },
      "source": [
        "def mk_target(df):\n",
        "  target_lst = []\n",
        "\n",
        "  for p in df:\n",
        "    if p == \"pos\":\n",
        "      target_lst.append(1)\n",
        "    if p == \"neg\":\n",
        "      target_lst.append(0)\n",
        "\n",
        "  target_array = np.array(target_lst)\n",
        "  return target_array"
      ],
      "execution_count": 0,
      "outputs": []
    },
    {
      "cell_type": "code",
      "metadata": {
        "id": "6V10WnqlbOx9",
        "colab_type": "code",
        "colab": {}
      },
      "source": [
        "train_target = mk_target(df_train.Polarity.values)\n",
        "test_target = mk_target(df_test.Polarity.values)"
      ],
      "execution_count": 0,
      "outputs": []
    },
    {
      "cell_type": "code",
      "metadata": {
        "id": "9YtU6S7Oer6q",
        "colab_type": "code",
        "colab": {
          "base_uri": "https://localhost:8080/",
          "height": 35
        },
        "outputId": "3b336ad0-bf4d-481c-a831-27ad50cab6b4"
      },
      "source": [
        "train_target"
      ],
      "execution_count": 51,
      "outputs": [
        {
          "output_type": "execute_result",
          "data": {
            "text/plain": [
              "array([1, 1, 1, ..., 0, 0, 0])"
            ]
          },
          "metadata": {
            "tags": []
          },
          "execution_count": 51
        }
      ]
    },
    {
      "cell_type": "code",
      "metadata": {
        "colab_type": "code",
        "id": "fl3eW8nNtBT1",
        "nbpresent": {
          "id": "c61eae59-38c2-43dc-8b1a-03c2661a8aea"
        },
        "outputId": "fca33a5e-f560-4fb7-f48a-087b3c7d94b1",
        "colab": {
          "base_uri": "https://localhost:8080/",
          "height": 35
        }
      },
      "source": [
        "from sklearn.feature_extraction.text import CountVectorizer\n",
        "count_vect = CountVectorizer()\n",
        "\n",
        "X_train_counts = count_vect.fit_transform(train_data) \n",
        "X_train_counts.shape"
      ],
      "execution_count": 52,
      "outputs": [
        {
          "output_type": "execute_result",
          "data": {
            "text/plain": [
              "(25000, 74849)"
            ]
          },
          "metadata": {
            "tags": []
          },
          "execution_count": 52
        }
      ]
    },
    {
      "cell_type": "code",
      "metadata": {
        "id": "ECisgAOAgMIG",
        "colab_type": "code",
        "colab": {
          "base_uri": "https://localhost:8080/",
          "height": 35
        },
        "outputId": "9894178c-c657-45f8-a85a-2f08f7b2f9d4"
      },
      "source": [
        "X_test = count_vect.transform(test_data)\n",
        "print(X_test.shape)"
      ],
      "execution_count": 53,
      "outputs": [
        {
          "output_type": "stream",
          "text": [
            "(25000, 74849)\n"
          ],
          "name": "stdout"
        }
      ]
    },
    {
      "cell_type": "markdown",
      "metadata": {
        "id": "ijZbMoFo6R06",
        "colab_type": "text"
      },
      "source": [
        "## Метод ближайшего соседа"
      ]
    },
    {
      "cell_type": "code",
      "metadata": {
        "colab_type": "code",
        "id": "7T6o13agtBT3",
        "nbpresent": {
          "id": "94e77975-2978-4bdc-a96b-2715d4c83194"
        },
        "colab": {}
      },
      "source": [
        "from sklearn.neighbors import KNeighborsClassifier\n",
        "clf_K = KNeighborsClassifier().fit(X_train_counts, train_target)"
      ],
      "execution_count": 0,
      "outputs": []
    },
    {
      "cell_type": "code",
      "metadata": {
        "colab_type": "code",
        "id": "ELZOCmkmtBT4",
        "nbpresent": {
          "id": "98a6b75c-c890-4f8d-96fd-2fac84d824b8"
        },
        "outputId": "6921a43d-f420-4b1e-f556-1d6b31c7a072",
        "colab": {
          "base_uri": "https://localhost:8080/",
          "height": 104
        }
      },
      "source": [
        "from sklearn.metrics import *\n",
        "\n",
        "predicted_K = clf_K.predict(X_test) # 用train好的预测模型预测test\n",
        "predicted_proba_K = clf_K.predict_proba(X_test)\n",
        "predicted_proba_K[:5]"
      ],
      "execution_count": 86,
      "outputs": [
        {
          "output_type": "execute_result",
          "data": {
            "text/plain": [
              "array([[0.8, 0.2],\n",
              "       [0.4, 0.6],\n",
              "       [0. , 1. ],\n",
              "       [0.8, 0.2],\n",
              "       [0.2, 0.8]])"
            ]
          },
          "metadata": {
            "tags": []
          },
          "execution_count": 86
        }
      ]
    },
    {
      "cell_type": "markdown",
      "metadata": {
        "id": "FE_AYlFP-jDr",
        "colab_type": "text"
      },
      "source": [
        "Меры качества"
      ]
    },
    {
      "cell_type": "code",
      "metadata": {
        "colab_type": "code",
        "id": "lT8YgH84tBT8",
        "nbpresent": {
          "id": "37e726e5-36e8-40ec-ba41-74fe6e3613d2"
        },
        "outputId": "b4d48226-dac9-4eb4-cbcd-53975336b269",
        "colab": {
          "base_uri": "https://localhost:8080/",
          "height": 52
        }
      },
      "source": [
        "acc_K = accuracy_score(y_true = test_target, y_pred = predicted_K)\n",
        "print('acc_K={0:1.4f}'.format(acc_K))\n",
        "\n",
        "f1_K = f1_score(y_true = test_target, y_pred = predicted_K, average = 'binary')\n",
        "p_K = precision_score(y_true = test_target, y_pred = predicted_K, average = 'binary')\n",
        "r_K = recall_score(y_true = test_target, y_pred = predicted_K, average = 'binary')\n",
        "print('K F1={0:1.4f}, K P={1:1.4f}, K R={2:1.4f}'.format(f1_K, p_K, r_K))"
      ],
      "execution_count": 87,
      "outputs": [
        {
          "output_type": "stream",
          "text": [
            "acc_K=0.6242\n",
            "K F1=0.6489, K P=0.6088, K R=0.6947\n"
          ],
          "name": "stdout"
        }
      ]
    },
    {
      "cell_type": "markdown",
      "metadata": {
        "id": "9-DsUFFc-hqp",
        "colab_type": "text"
      },
      "source": [
        "ROC"
      ]
    },
    {
      "cell_type": "code",
      "metadata": {
        "id": "WfOcYCAlcSuh",
        "colab_type": "code",
        "outputId": "6da951f0-219a-4226-f753-477d98b779f1",
        "colab": {
          "base_uri": "https://localhost:8080/",
          "height": 279
        }
      },
      "source": [
        "from sklearn.metrics import roc_auc_score, roc_curve\n",
        "from matplotlib import pyplot\n",
        "\n",
        "y_true = test_target\n",
        "y_predicted = predicted_K\n",
        "fpr, tpr, _ = roc_curve(y_true, y_predicted)\n",
        "pyplot.plot(fpr, tpr, marker='.', label='Test')\n",
        "# axis labels\n",
        "pyplot.xlabel('False Positive Rate')\n",
        "pyplot.ylabel('True Positive Rate')\n",
        "# show the legend\n",
        "pyplot.legend()\n",
        "# show the plot\n",
        "pyplot.show()"
      ],
      "execution_count": 88,
      "outputs": [
        {
          "output_type": "display_data",
          "data": {
            "image/png": "[encoded data removed]",
            "text/plain": [
              "<Figure size 432x288 with 1 Axes>"
            ]
          },
          "metadata": {
            "tags": []
          }
        }
      ]
    },
    {
      "cell_type": "markdown",
      "metadata": {
        "id": "3-KuMLZtuCtc",
        "colab_type": "text"
      },
      "source": [
        "ROC AUC"
      ]
    },
    {
      "cell_type": "code",
      "metadata": {
        "id": "_5X1YGowp_Jf",
        "colab_type": "code",
        "colab": {
          "base_uri": "https://localhost:8080/",
          "height": 35
        },
        "outputId": "537ad0de-c7d8-4eff-b137-6a7814256e7a"
      },
      "source": [
        "print(roc_auc_score(y_true, y_predicted))"
      ],
      "execution_count": 89,
      "outputs": [
        {
          "output_type": "stream",
          "text": [
            "0.62416\n"
          ],
          "name": "stdout"
        }
      ]
    },
    {
      "cell_type": "markdown",
      "metadata": {
        "id": "SjCIaayk-rtv",
        "colab_type": "text"
      },
      "source": [
        "## Метод наивного Байеса"
      ]
    },
    {
      "cell_type": "code",
      "metadata": {
        "id": "rJGkx-9KA9GM",
        "colab_type": "code",
        "colab": {}
      },
      "source": [
        "from sklearn.naive_bayes import MultinomialNB\n",
        "clf_MNB = MultinomialNB().fit(X_train_counts, train_target)\n",
        "predicted_MNB = clf_MNB.predict(X_test)"
      ],
      "execution_count": 0,
      "outputs": []
    },
    {
      "cell_type": "markdown",
      "metadata": {
        "id": "nIsM8aXZBGyi",
        "colab_type": "text"
      },
      "source": [
        "Меры качества"
      ]
    },
    {
      "cell_type": "code",
      "metadata": {
        "id": "uVgDKGcdBBHM",
        "colab_type": "code",
        "colab": {
          "base_uri": "https://localhost:8080/",
          "height": 52
        },
        "outputId": "43d6efe8-90d8-4f0f-e1e5-59a6c1683916"
      },
      "source": [
        "acc_MNB = accuracy_score(y_true = test_target, y_pred = predicted_MNB)\n",
        "print('acc_MNB={0:1.4f}'.format(acc_MNB))\n",
        "\n",
        "f1_MNB = f1_score(y_true = test_target, y_pred = predicted_MNB, average = 'binary')\n",
        "p_MNB = precision_score(y_true = test_target, y_pred = predicted_MNB, average = 'binary')\n",
        "r_MNB = recall_score(y_true = test_target, y_pred = predicted_MNB, average = 'binary')\n",
        "print('MNB F1={0:1.4f}, MNB P={1:1.4f}, MNB R={2:1.4f}'.format(f1_MNB, p_MNB, r_MNB))"
      ],
      "execution_count": 91,
      "outputs": [
        {
          "output_type": "stream",
          "text": [
            "acc_MNB=0.8136\n",
            "MNB F1=0.8006, MNB P=0.8605, MNB R=0.7484\n"
          ],
          "name": "stdout"
        }
      ]
    },
    {
      "cell_type": "markdown",
      "metadata": {
        "id": "1cj_bYeIBIqn",
        "colab_type": "text"
      },
      "source": [
        "ROC"
      ]
    },
    {
      "cell_type": "code",
      "metadata": {
        "colab_type": "code",
        "outputId": "1624710b-c035-49fd-bb17-bb9ef7868f96",
        "id": "LtT_qv4_rOd5",
        "colab": {
          "base_uri": "https://localhost:8080/",
          "height": 279
        }
      },
      "source": [
        "y_true = test_target\n",
        "y_predicted = predicted_MNB\n",
        "fpr, tpr, _ = roc_curve(y_true, y_predicted)\n",
        "pyplot.plot(fpr, tpr, marker='.', label='Test')\n",
        "# axis labels\n",
        "pyplot.xlabel('False Positive Rate')\n",
        "pyplot.ylabel('True Positive Rate')\n",
        "# show the legend\n",
        "pyplot.legend()\n",
        "# show the plot\n",
        "pyplot.show()"
      ],
      "execution_count": 92,
      "outputs": [
        {
          "output_type": "display_data",
          "data": {
            "image/png": "[encoded data removed]",
            "text/plain": [
              "<Figure size 432x288 with 1 Axes>"
            ]
          },
          "metadata": {
            "tags": []
          }
        }
      ]
    },
    {
      "cell_type": "markdown",
      "metadata": {
        "id": "30M_a4UOuUK7",
        "colab_type": "text"
      },
      "source": [
        "ROC AUC"
      ]
    },
    {
      "cell_type": "code",
      "metadata": {
        "colab_type": "code",
        "outputId": "43011ad9-8614-447a-fe35-7d834ea9fd59",
        "id": "Vnw8y_78rinO",
        "colab": {
          "base_uri": "https://localhost:8080/",
          "height": 35
        }
      },
      "source": [
        "print(roc_auc_score(y_true, y_predicted))"
      ],
      "execution_count": 93,
      "outputs": [
        {
          "output_type": "stream",
          "text": [
            "0.81356\n"
          ],
          "name": "stdout"
        }
      ]
    },
    {
      "cell_type": "markdown",
      "metadata": {
        "id": "A4lVD6aEBW3O",
        "colab_type": "text"
      },
      "source": [
        "## Логистическая регрессия"
      ]
    },
    {
      "cell_type": "code",
      "metadata": {
        "colab_type": "code",
        "id": "-wAmHq1MtBUW",
        "nbpresent": {
          "id": "df977cc2-ab45-4767-9ed7-d00bf9a37d21"
        },
        "colab": {}
      },
      "source": [
        "from sklearn.linear_model import LogisticRegression\n",
        "clf_LR = LogisticRegression().fit(X_train_counts, train_target)\n",
        "predicted_LR = clf_LR.predict(X_test)"
      ],
      "execution_count": 0,
      "outputs": []
    },
    {
      "cell_type": "markdown",
      "metadata": {
        "id": "ZRdAA6trCAf8",
        "colab_type": "text"
      },
      "source": [
        "Меры качества"
      ]
    },
    {
      "cell_type": "code",
      "metadata": {
        "colab_type": "code",
        "outputId": "1c7d22a1-42da-495a-8e35-6bd22c6a1253",
        "id": "TCMtTTCGrxUB",
        "colab": {
          "base_uri": "https://localhost:8080/",
          "height": 52
        }
      },
      "source": [
        "acc_LR = accuracy_score(y_true = test_target, y_pred = predicted_LR)\n",
        "print('acc_LR={0:1.4f}'.format(acc_LR))\n",
        "\n",
        "f1_LR = f1_score(y_true = test_target, y_pred = predicted_LR, average = 'binary')\n",
        "p_LR = precision_score(y_true = test_target, y_pred = predicted_LR, average = 'binary')\n",
        "r_LR = recall_score(y_true = test_target, y_pred = predicted_LR, average = 'binary')\n",
        "print('LR F1={0:1.4f}, LR P={1:1.4f}, LR R={2:1.4f}'.format(f1_LR, p_LR, r_LR))"
      ],
      "execution_count": 95,
      "outputs": [
        {
          "output_type": "stream",
          "text": [
            "acc_LR=0.8646\n",
            "LR F1=0.8635, LR P=0.8707, LR R=0.8563\n"
          ],
          "name": "stdout"
        }
      ]
    },
    {
      "cell_type": "markdown",
      "metadata": {
        "id": "oAN5kyUeCJgJ",
        "colab_type": "text"
      },
      "source": [
        "ROC"
      ]
    },
    {
      "cell_type": "code",
      "metadata": {
        "colab_type": "code",
        "outputId": "0a607df1-cf7d-4e44-ae1f-fd54a8e8621e",
        "id": "l9VNM31JsxvT",
        "colab": {
          "base_uri": "https://localhost:8080/",
          "height": 279
        }
      },
      "source": [
        "y_true = test_target\n",
        "y_predicted = predicted_LR\n",
        "fpr, tpr, _ = roc_curve(y_true, y_predicted)\n",
        "pyplot.plot(fpr, tpr, marker='.', label='Test')\n",
        "# axis labels\n",
        "pyplot.xlabel('False Positive Rate')\n",
        "pyplot.ylabel('True Positive Rate')\n",
        "# show the legend\n",
        "pyplot.legend()\n",
        "# show the plot\n",
        "pyplot.show()"
      ],
      "execution_count": 96,
      "outputs": [
        {
          "output_type": "display_data",
          "data": {
            "image/png": "[encoded data removed]",
            "text/plain": [
              "<Figure size 432x288 with 1 Axes>"
            ]
          },
          "metadata": {
            "tags": []
          }
        }
      ]
    },
    {
      "cell_type": "markdown",
      "metadata": {
        "id": "xaGDdM3OukNe",
        "colab_type": "text"
      },
      "source": [
        "ROC AUC"
      ]
    },
    {
      "cell_type": "code",
      "metadata": {
        "id": "AKs_0tP-BYaK",
        "colab_type": "code",
        "colab": {
          "base_uri": "https://localhost:8080/",
          "height": 35
        },
        "outputId": "77ec1849-cc2d-46fa-823b-6c2ee03af064"
      },
      "source": [
        "print(roc_auc_score(y_true, y_predicted))"
      ],
      "execution_count": 97,
      "outputs": [
        {
          "output_type": "stream",
          "text": [
            "0.8646\n"
          ],
          "name": "stdout"
        }
      ]
    },
    {
      "cell_type": "markdown",
      "metadata": {
        "id": "pvXsWTvMuzAi",
        "colab_type": "text"
      },
      "source": [
        "**лучший классификатор: логистическая регрессия**"
      ]
    },
    {
      "cell_type": "markdown",
      "metadata": {
        "id": "zPKAjmrXxlWG",
        "colab_type": "text"
      },
      "source": [
        "## 15 самых негативных и самых позитивных рецензий по мнению LR"
      ]
    },
    {
      "cell_type": "code",
      "metadata": {
        "id": "zIt1BYto1ZhC",
        "colab_type": "code",
        "colab": {}
      },
      "source": [
        "predicted_proba_LR = clf_LR.predict_proba(X_test)\n",
        "lst_proba = predicted_proba_LR.tolist()\n",
        "\n",
        "lst_pos = [p[1] for p in lst_proba]\n",
        "\n",
        "dic_pos = {}\n",
        "for i, n in enumerate(lst_pos):\n",
        "  dic_pos[i] = n\n",
        "\n",
        "dic_pos = sorted(dic_pos.items(), key=lambda e:e[1], reverse=True)"
      ],
      "execution_count": 0,
      "outputs": []
    },
    {
      "cell_type": "markdown",
      "metadata": {
        "id": "frM6nXMR7hVs",
        "colab_type": "text"
      },
      "source": [
        "15 топ позитивных"
      ]
    },
    {
      "cell_type": "code",
      "metadata": {
        "id": "P06ghA6G7iEk",
        "colab_type": "code",
        "colab": {
          "base_uri": "https://localhost:8080/",
          "height": 276
        },
        "outputId": "8b4b6687-c773-4bf4-a273-d7e2b77b881b"
      },
      "source": [
        "pos_index = [i[0] for i in dic_pos[:15]]\n",
        "pos_index"
      ],
      "execution_count": 122,
      "outputs": [
        {
          "output_type": "execute_result",
          "data": {
            "text/plain": [
              "[214,\n",
              " 1743,\n",
              " 2421,\n",
              " 3521,\n",
              " 4452,\n",
              " 7879,\n",
              " 8824,\n",
              " 9007,\n",
              " 9528,\n",
              " 5632,\n",
              " 8149,\n",
              " 7341,\n",
              " 879,\n",
              " 10852,\n",
              " 2690]"
            ]
          },
          "metadata": {
            "tags": []
          },
          "execution_count": 122
        }
      ]
    },
    {
      "cell_type": "markdown",
      "metadata": {
        "id": "eo8aRFkD7joq",
        "colab_type": "text"
      },
      "source": [
        "15 топ негативных"
      ]
    },
    {
      "cell_type": "code",
      "metadata": {
        "id": "J6HwaFhn7mjK",
        "colab_type": "code",
        "colab": {
          "base_uri": "https://localhost:8080/",
          "height": 276
        },
        "outputId": "88a4ab3e-6595-4d3a-aea0-a9bde5b94e43"
      },
      "source": [
        "neg_index = [i[0] for i in dic_pos[-15:]]\n",
        "neg_index"
      ],
      "execution_count": 120,
      "outputs": [
        {
          "output_type": "execute_result",
          "data": {
            "text/plain": [
              "[19163,\n",
              " 19851,\n",
              " 16149,\n",
              " 16868,\n",
              " 13721,\n",
              " 19157,\n",
              " 19422,\n",
              " 18734,\n",
              " 24494,\n",
              " 14267,\n",
              " 23531,\n",
              " 16007,\n",
              " 17909,\n",
              " 17752,\n",
              " 18921]"
            ]
          },
          "metadata": {
            "tags": []
          },
          "execution_count": 120
        }
      ]
    },
    {
      "cell_type": "markdown",
      "metadata": {
        "id": "j7s4YxBm9XSE",
        "colab_type": "text"
      },
      "source": [
        "## свои функции"
      ]
    },
    {
      "cell_type": "code",
      "metadata": {
        "id": "w1BqvXUZ9gqe",
        "colab_type": "code",
        "colab": {}
      },
      "source": [
        "def quality(predicted, test_target):\n",
        "  pre = predicted.tolist()\n",
        "  tar = test_target.tolist()\n",
        "\n",
        "  tn = 0\n",
        "  fn = 0\n",
        "  fp = 0\n",
        "  tp = 0\n",
        "\n",
        "  for i, p in enumerate(pre):\n",
        "    if p == 0 and tar[i] == 0:\n",
        "      tn += 1\n",
        "    if p == 0 and tar[i] == 1:\n",
        "      fn += 1\n",
        "    if p == 1 and tar[i] == 0:\n",
        "      fp += 1\n",
        "    if p == 1 and tar[i] == 1:\n",
        "      tp += 1\n",
        "  \n",
        "  Pr = tp / (tp + fp)\n",
        "  R = tp / (tp + fn)\n",
        "  F1 = (2 * Pr * R) / (Pr + R)\n",
        "  \n",
        "  results = 'Pr={0:1.4f}, R={1:1.4f}, F1={2:1.4f}'.format(Pr, R, F1)\n",
        "\n",
        "  return results"
      ],
      "execution_count": 0,
      "outputs": []
    },
    {
      "cell_type": "markdown",
      "metadata": {
        "id": "Qx4xcVyMAIKG",
        "colab_type": "text"
      },
      "source": [
        "оценки метода ближайщего соседа"
      ]
    },
    {
      "cell_type": "code",
      "metadata": {
        "id": "DwaO0VZDAcSA",
        "colab_type": "code",
        "colab": {
          "base_uri": "https://localhost:8080/",
          "height": 35
        },
        "outputId": "4283ccbb-820a-488a-b933-a7d578b13432"
      },
      "source": [
        "print(quality(predicted_K, test_target))"
      ],
      "execution_count": 134,
      "outputs": [
        {
          "output_type": "stream",
          "text": [
            "Pr=0.6088, R=0.6947, F1=0.6489\n"
          ],
          "name": "stdout"
        }
      ]
    },
    {
      "cell_type": "markdown",
      "metadata": {
        "id": "7LOzRCb6Acxw",
        "colab_type": "text"
      },
      "source": [
        "оценки метода наивного Байеса"
      ]
    },
    {
      "cell_type": "code",
      "metadata": {
        "id": "4dUzwny-Ahvw",
        "colab_type": "code",
        "colab": {
          "base_uri": "https://localhost:8080/",
          "height": 35
        },
        "outputId": "e63f0d12-8e1b-404a-ca6e-3cf0e5b5c583"
      },
      "source": [
        "print(quality(predicted_MNB, test_target))"
      ],
      "execution_count": 131,
      "outputs": [
        {
          "output_type": "stream",
          "text": [
            "Pr=0.8605, R=0.7484, F1=0.8006\n"
          ],
          "name": "stdout"
        }
      ]
    },
    {
      "cell_type": "markdown",
      "metadata": {
        "id": "zsHgJUqwAiQF",
        "colab_type": "text"
      },
      "source": [
        "оценки логистической регрессии"
      ]
    },
    {
      "cell_type": "code",
      "metadata": {
        "id": "0e3KO7q9A3OI",
        "colab_type": "code",
        "colab": {
          "base_uri": "https://localhost:8080/",
          "height": 35
        },
        "outputId": "5f6cdf9e-36e7-4e1c-97b5-a468d02dbbdf"
      },
      "source": [
        "print(quality(predicted_LR, test_target))"
      ],
      "execution_count": 132,
      "outputs": [
        {
          "output_type": "stream",
          "text": [
            "Pr=0.8707, R=0.8563, F1=0.8635\n"
          ],
          "name": "stdout"
        }
      ]
    },
    {
      "cell_type": "markdown",
      "metadata": {
        "id": "qCWKcRtuBrHS",
        "colab_type": "text"
      },
      "source": [
        "**результаты совпадают с полученными sklearn метриками**"
      ]
    }
  ]
}