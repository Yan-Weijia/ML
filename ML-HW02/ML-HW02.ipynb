{
  "nbformat": 4,
  "nbformat_minor": 0,
  "metadata": {
    "colab": {
      "name": "ML-HW02.ipynb",
      "provenance": [],
      "collapsed_sections": [],
      "authorship_tag": "ABX9TyOHXAmpkBtL8leBZwd0spSQ",
      "include_colab_link": true
    },
    "kernelspec": {
      "name": "python3",
      "display_name": "Python 3"
    }
  },
  "cells": [
    {
      "cell_type": "markdown",
      "metadata": {
        "id": "view-in-github",
        "colab_type": "text"
      },
      "source": [
        "<a href=\"https://colab.research.google.com/github/Yan-Weijia/ML/blob/master/ML-HW02/ML-HW02.ipynb\" target=\"_parent\"><img src=\"https://colab.research.google.com/assets/colab-badge.svg\" alt=\"Open In Colab\"/></a>"
      ]
    },
    {
      "cell_type": "markdown",
      "metadata": {
        "id": "qikT5KHvDckF",
        "colab_type": "text"
      },
      "source": [
        "решить задачу бинарной классификации на большом корпусе imdb рецензий на фильмы. \n",
        "Корпус скачать http://ai.stanford.edu/~amaas/data/sentiment/\n",
        "\n",
        "Ваша задача в sklearn, \n",
        "\n",
        "используя **три разных алгоритма**, \n",
        "\n",
        "**построить и обучить классификаторы**, \n",
        "\n",
        "для каждого из них **посчитать метрики качества**. \n",
        "\n",
        "Постройте **ROC кривую** и посчитайте **величину ROC AUC**. \n",
        "\n",
        "Выберите **лучший** классификатор.\n",
        "\n",
        "Используя **предсказания вероятностей класса**, \n",
        "\n",
        "найдите **15** самых негативных и самых позитивных рецензий по мнению модели.  - 7 баллов\n",
        "\n",
        "Написать **свои функции**, которые бы считали **tp, fp, tn, fn**, \n",
        "\n",
        "и возвращали **точность, полноту и ф-меру** \n",
        "\n",
        "и **применить их к результатам**, полученным вашими классификаторами \n",
        "\n",
        "(если все сделано правильно, то результаты должны **совпадать** с полученными  sklearn метриками). - 3 балла"
      ]
    },
    {
      "cell_type": "markdown",
      "metadata": {
        "id": "JX2jctlhvU6H",
        "colab_type": "text"
      },
      "source": [
        "## предобработка"
      ]
    },
    {
      "cell_type": "code",
      "metadata": {
        "id": "E4InnvbFHZND",
        "colab_type": "code",
        "colab": {}
      },
      "source": [
        "!wget https://github.com/Yan-Weijia/ML/raw/master/ML_HW02/data/test.zip\n",
        "!wget https://github.com/Yan-Weijia/ML/raw/master/ML_HW02/data/train.zip"
      ],
      "execution_count": 0,
      "outputs": []
    },
    {
      "cell_type": "code",
      "metadata": {
        "id": "CoGnsHysHdDu",
        "colab_type": "code",
        "colab": {}
      },
      "source": [
        "import zipfile\n",
        "fz = zipfile.ZipFile(\"test.zip\", \"r\")\n",
        "for f in fz.namelist():\n",
        "  fz.extract(f)\n",
        "fz.close()\n",
        "\n",
        "fz = zipfile.ZipFile(\"train.zip\", \"r\")\n",
        "for f in fz.namelist():\n",
        "  fz.extract(f)\n",
        "fz.close()"
      ],
      "execution_count": 0,
      "outputs": []
    },
    {
      "cell_type": "code",
      "metadata": {
        "id": "_g72zLOxL4Fj",
        "colab_type": "code",
        "colab": {
          "base_uri": "https://localhost:8080/",
          "height": 259
        },
        "outputId": "6c74c087-d5f6-4712-f591-9f31584da5cc"
      },
      "source": [
        "import pandas as pd\n",
        "df_train = pd.read_csv(\"train.csv\")\n",
        "df_test = pd.read_csv(\"test.csv\")\n",
        "print(df_train)"
      ],
      "execution_count": 16,
      "outputs": [
        {
          "output_type": "stream",
          "text": [
            "       Unnamed: 0                                               Text Polarity\n",
            "0               1  Bromwell High is a cartoon comedy. It ran at t...      pos\n",
            "1               2  Homelessness (or Houselessness as George Carli...      pos\n",
            "2               3  Brilliant over-acting by Lesley Ann Warren. Be...      pos\n",
            "3               4  This is easily the most underrated film inn th...      pos\n",
            "4               5  This is not the typical Mel Brooks film. It wa...      pos\n",
            "...           ...                                                ...      ...\n",
            "24995       24996  Towards the end of the movie, I felt it was to...      neg\n",
            "24996       24997  This is the kind of movie that my enemies cont...      neg\n",
            "24997       24998  I saw 'Descent' last night at the Stockholm Fi...      neg\n",
            "24998       24999  Some films that you pick up for a pound turn o...      neg\n",
            "24999       25000  This is one of the dumbest films, I've ever se...      neg\n",
            "\n",
            "[25000 rows x 3 columns]\n"
          ],
          "name": "stdout"
        }
      ]
    },
    {
      "cell_type": "code",
      "metadata": {
        "id": "Jg7pC6axbuIm",
        "colab_type": "code",
        "colab": {
          "base_uri": "https://localhost:8080/",
          "height": 55
        },
        "outputId": "872da66d-4b1d-407b-bad2-f7c6a70ba1ad"
      },
      "source": [
        "train_data = []\n",
        "for t in df_train.Text.values:\n",
        "  train_data.append(t)\n",
        "print(train_data[0])"
      ],
      "execution_count": 22,
      "outputs": [
        {
          "output_type": "stream",
          "text": [
            "Bromwell High is a cartoon comedy. It ran at the same time as some other programs about school life, such as \"Teachers\". My 35 years in the teaching profession lead me to believe that Bromwell High's satire is much closer to reality than is \"Teachers\". The scramble to survive financially, the insightful students who can see right through their pathetic teachers' pomp, the pettiness of the whole situation, all remind me of the schools I knew and their students. When I saw the episode in which a student repeatedly tried to burn down the school, I immediately recalled ......... at .......... High. A classic line: INSPECTOR: I'm here to sack one of your teachers. STUDENT: Welcome to Bromwell High. I expect that many adults of my age think that Bromwell High is far fetched. What a pity that it isn't!\n"
          ],
          "name": "stdout"
        }
      ]
    },
    {
      "cell_type": "code",
      "metadata": {
        "id": "E1gXvI2FdCoI",
        "colab_type": "code",
        "colab": {}
      },
      "source": [
        "test_data = []\n",
        "for t in df_test.Text.values:\n",
        "  test_data.append(t)"
      ],
      "execution_count": 0,
      "outputs": []
    },
    {
      "cell_type": "code",
      "metadata": {
        "id": "Eoth047ej_n8",
        "colab_type": "code",
        "colab": {}
      },
      "source": [
        "import numpy as np"
      ],
      "execution_count": 0,
      "outputs": []
    },
    {
      "cell_type": "code",
      "metadata": {
        "id": "YWt98ZE3mCsw",
        "colab_type": "code",
        "colab": {}
      },
      "source": [
        "def mk_target(df):\n",
        "  target_lst = []\n",
        "\n",
        "  for p in df:\n",
        "    if p == \"pos\":\n",
        "      target_lst.append(1)\n",
        "    if p == \"neg\":\n",
        "      target_lst.append(0)\n",
        "\n",
        "  target_array = np.array(target_lst)\n",
        "  return target_array"
      ],
      "execution_count": 0,
      "outputs": []
    },
    {
      "cell_type": "code",
      "metadata": {
        "id": "6V10WnqlbOx9",
        "colab_type": "code",
        "colab": {}
      },
      "source": [
        "train_target = mk_target(df_train.Polarity.values)\n",
        "test_target = mk_target(df_test.Polarity.values)"
      ],
      "execution_count": 0,
      "outputs": []
    },
    {
      "cell_type": "code",
      "metadata": {
        "id": "9YtU6S7Oer6q",
        "colab_type": "code",
        "colab": {
          "base_uri": "https://localhost:8080/",
          "height": 35
        },
        "outputId": "3b336ad0-bf4d-481c-a831-27ad50cab6b4"
      },
      "source": [
        "train_target"
      ],
      "execution_count": 51,
      "outputs": [
        {
          "output_type": "execute_result",
          "data": {
            "text/plain": [
              "array([1, 1, 1, ..., 0, 0, 0])"
            ]
          },
          "metadata": {
            "tags": []
          },
          "execution_count": 51
        }
      ]
    },
    {
      "cell_type": "code",
      "metadata": {
        "colab_type": "code",
        "id": "fl3eW8nNtBT1",
        "nbpresent": {
          "id": "c61eae59-38c2-43dc-8b1a-03c2661a8aea"
        },
        "outputId": "fca33a5e-f560-4fb7-f48a-087b3c7d94b1",
        "colab": {
          "base_uri": "https://localhost:8080/",
          "height": 35
        }
      },
      "source": [
        "from sklearn.feature_extraction.text import CountVectorizer\n",
        "count_vect = CountVectorizer()\n",
        "\n",
        "X_train_counts = count_vect.fit_transform(train_data) \n",
        "X_train_counts.shape"
      ],
      "execution_count": 52,
      "outputs": [
        {
          "output_type": "execute_result",
          "data": {
            "text/plain": [
              "(25000, 74849)"
            ]
          },
          "metadata": {
            "tags": []
          },
          "execution_count": 52
        }
      ]
    },
    {
      "cell_type": "code",
      "metadata": {
        "id": "ECisgAOAgMIG",
        "colab_type": "code",
        "colab": {
          "base_uri": "https://localhost:8080/",
          "height": 35
        },
        "outputId": "9894178c-c657-45f8-a85a-2f08f7b2f9d4"
      },
      "source": [
        "X_test = count_vect.transform(test_data)\n",
        "print(X_test.shape)"
      ],
      "execution_count": 53,
      "outputs": [
        {
          "output_type": "stream",
          "text": [
            "(25000, 74849)\n"
          ],
          "name": "stdout"
        }
      ]
    },
    {
      "cell_type": "markdown",
      "metadata": {
        "id": "ijZbMoFo6R06",
        "colab_type": "text"
      },
      "source": [
        "## Метод ближайшего соседа"
      ]
    },
    {
      "cell_type": "code",
      "metadata": {
        "colab_type": "code",
        "id": "7T6o13agtBT3",
        "nbpresent": {
          "id": "94e77975-2978-4bdc-a96b-2715d4c83194"
        },
        "colab": {}
      },
      "source": [
        "from sklearn.neighbors import KNeighborsClassifier\n",
        "clf_K = KNeighborsClassifier().fit(X_train_counts, train_target)"
      ],
      "execution_count": 0,
      "outputs": []
    },
    {
      "cell_type": "code",
      "metadata": {
        "colab_type": "code",
        "id": "ELZOCmkmtBT4",
        "nbpresent": {
          "id": "98a6b75c-c890-4f8d-96fd-2fac84d824b8"
        },
        "outputId": "6921a43d-f420-4b1e-f556-1d6b31c7a072",
        "colab": {
          "base_uri": "https://localhost:8080/",
          "height": 104
        }
      },
      "source": [
        "from sklearn.metrics import *\n",
        "\n",
        "predicted_K = clf_K.predict(X_test) # 用train好的预测模型预测test\n",
        "predicted_proba_K = clf_K.predict_proba(X_test)\n",
        "predicted_proba_K[:5]"
      ],
      "execution_count": 86,
      "outputs": [
        {
          "output_type": "execute_result",
          "data": {
            "text/plain": [
              "array([[0.8, 0.2],\n",
              "       [0.4, 0.6],\n",
              "       [0. , 1. ],\n",
              "       [0.8, 0.2],\n",
              "       [0.2, 0.8]])"
            ]
          },
          "metadata": {
            "tags": []
          },
          "execution_count": 86
        }
      ]
    },
    {
      "cell_type": "markdown",
      "metadata": {
        "id": "FE_AYlFP-jDr",
        "colab_type": "text"
      },
      "source": [
        "Меры качества"
      ]
    },
    {
      "cell_type": "code",
      "metadata": {
        "colab_type": "code",
        "id": "lT8YgH84tBT8",
        "nbpresent": {
          "id": "37e726e5-36e8-40ec-ba41-74fe6e3613d2"
        },
        "outputId": "b4d48226-dac9-4eb4-cbcd-53975336b269",
        "colab": {
          "base_uri": "https://localhost:8080/",
          "height": 52
        }
      },
      "source": [
        "acc_K = accuracy_score(y_true = test_target, y_pred = predicted_K)\n",
        "print('acc_K={0:1.4f}'.format(acc_K))\n",
        "\n",
        "f1_K = f1_score(y_true = test_target, y_pred = predicted_K, average = 'binary')\n",
        "p_K = precision_score(y_true = test_target, y_pred = predicted_K, average = 'binary')\n",
        "r_K = recall_score(y_true = test_target, y_pred = predicted_K, average = 'binary')\n",
        "print('K F1={0:1.4f}, K P={1:1.4f}, K R={2:1.4f}'.format(f1_K, p_K, r_K))"
      ],
      "execution_count": 87,
      "outputs": [
        {
          "output_type": "stream",
          "text": [
            "acc_K=0.6242\n",
            "K F1=0.6489, K P=0.6088, K R=0.6947\n"
          ],
          "name": "stdout"
        }
      ]
    },
    {
      "cell_type": "markdown",
      "metadata": {
        "id": "9-DsUFFc-hqp",
        "colab_type": "text"
      },
      "source": [
        "ROC"
      ]
    },
    {
      "cell_type": "code",
      "metadata": {
        "id": "WfOcYCAlcSuh",
        "colab_type": "code",
        "outputId": "6da951f0-219a-4226-f753-477d98b779f1",
        "colab": {
          "base_uri": "https://localhost:8080/",
          "height": 279
        }
      },
      "source": [
        "from sklearn.metrics import roc_auc_score, roc_curve\n",
        "from matplotlib import pyplot\n",
        "\n",
        "y_true = test_target\n",
        "y_predicted = predicted_K\n",
        "fpr, tpr, _ = roc_curve(y_true, y_predicted)\n",
        "pyplot.plot(fpr, tpr, marker='.', label='Test')\n",
        "# axis labels\n",
        "pyplot.xlabel('False Positive Rate')\n",
        "pyplot.ylabel('True Positive Rate')\n",
        "# show the legend\n",
        "pyplot.legend()\n",
        "# show the plot\n",
        "pyplot.show()"
      ],
      "execution_count": 88,
      "outputs": [
        {
          "output_type": "display_data",
          "data": {
            "image/png": "[encoded data removed]",
            "text/plain": [
              "<Figure size 432x288 with 1 Axes>"
            ]
          },
          "metadata": {
            "tags": []
          }
        }
      ]
    },
    {
      "cell_type": "markdown",
      "metadata": {
        "id": "3-KuMLZtuCtc",
        "colab_type": "text"
      },
      "source": [
        "ROC AUC"
      ]
    },
    {
      "cell_type": "code",
      "metadata": {
        "id": "_5X1YGowp_Jf",
        "colab_type": "code",
        "colab": {
          "base_uri": "https://localhost:8080/",
          "height": 35
        },
        "outputId": "537ad0de-c7d8-4eff-b137-6a7814256e7a"
      },
      "source": [
        "print(roc_auc_score(y_true, y_predicted))"
      ],
      "execution_count": 89,
      "outputs": [
        {
          "output_type": "stream",
          "text": [
            "0.62416\n"
          ],
          "name": "stdout"
        }
      ]
    },
    {
      "cell_type": "markdown",
      "metadata": {
        "id": "SjCIaayk-rtv",
        "colab_type": "text"
      },
      "source": [
        "## Метод наивного Байеса"
      ]
    },
    {
      "cell_type": "code",
      "metadata": {
        "id": "rJGkx-9KA9GM",
        "colab_type": "code",
        "colab": {}
      },
      "source": [
        "from sklearn.naive_bayes import MultinomialNB\n",
        "clf_MNB = MultinomialNB().fit(X_train_counts, train_target)\n",
        "predicted_MNB = clf_MNB.predict(X_test)"
      ],
      "execution_count": 0,
      "outputs": []
    },
    {
      "cell_type": "markdown",
      "metadata": {
        "id": "nIsM8aXZBGyi",
        "colab_type": "text"
      },
      "source": [
        "Меры качества"
      ]
    },
    {
      "cell_type": "code",
      "metadata": {
        "id": "uVgDKGcdBBHM",
        "colab_type": "code",
        "colab": {
          "base_uri": "https://localhost:8080/",
          "height": 52
        },
        "outputId": "43d6efe8-90d8-4f0f-e1e5-59a6c1683916"
      },
      "source": [
        "acc_MNB = accuracy_score(y_true = test_target, y_pred = predicted_MNB)\n",
        "print('acc_MNB={0:1.4f}'.format(acc_MNB))\n",
        "\n",
        "f1_MNB = f1_score(y_true = test_target, y_pred = predicted_MNB, average = 'binary')\n",
        "p_MNB = precision_score(y_true = test_target, y_pred = predicted_MNB, average = 'binary')\n",
        "r_MNB = recall_score(y_true = test_target, y_pred = predicted_MNB, average = 'binary')\n",
        "print('MNB F1={0:1.4f}, MNB P={1:1.4f}, MNB R={2:1.4f}'.format(f1_MNB, p_MNB, r_MNB))"
      ],
      "execution_count": 91,
      "outputs": [
        {
          "output_type": "stream",
          "text": [
            "acc_MNB=0.8136\n",
            "MNB F1=0.8006, MNB P=0.8605, MNB R=0.7484\n"
          ],
          "name": "stdout"
        }
      ]
    },
    {
      "cell_type": "markdown",
      "metadata": {
        "id": "1cj_bYeIBIqn",
        "colab_type": "text"
      },
      "source": [
        "ROC"
      ]
    },
    {
      "cell_type": "code",
      "metadata": {
        "colab_type": "code",
        "outputId": "1624710b-c035-49fd-bb17-bb9ef7868f96",
        "id": "LtT_qv4_rOd5",
        "colab": {
          "base_uri": "https://localhost:8080/",
          "height": 279
        }
      },
      "source": [
        "y_true = test_target\n",
        "y_predicted = predicted_MNB\n",
        "fpr, tpr, _ = roc_curve(y_true, y_predicted)\n",
        "pyplot.plot(fpr, tpr, marker='.', label='Test')\n",
        "# axis labels\n",
        "pyplot.xlabel('False Positive Rate')\n",
        "pyplot.ylabel('True Positive Rate')\n",
        "# show the legend\n",
        "pyplot.legend()\n",
        "# show the plot\n",
        "pyplot.show()"
      ],
      "execution_count": 92,
      "outputs": [
        {
          "output_type": "display_data",
          "data": {
            "image/png": "[encoded data removed]",
            "text/plain": [
              "<Figure size 432x288 with 1 Axes>"
            ]
          },
          "metadata": {
            "tags": []
          }
        }
      ]
    },
    {
      "cell_type": "markdown",
      "metadata": {
        "id": "30M_a4UOuUK7",
        "colab_type": "text"
      },
      "source": [
        "ROC AUC"
      ]
    },
    {
      "cell_type": "code",
      "metadata": {
        "colab_type": "code",
        "outputId": "43011ad9-8614-447a-fe35-7d834ea9fd59",
        "id": "Vnw8y_78rinO",
        "colab": {
          "base_uri": "https://localhost:8080/",
          "height": 35
        }
      },
      "source": [
        "print(roc_auc_score(y_true, y_predicted))"
      ],
      "execution_count": 93,
      "outputs": [
        {
          "output_type": "stream",
          "text": [
            "0.81356\n"
          ],
          "name": "stdout"
        }
      ]
    },
    {
      "cell_type": "markdown",
      "metadata": {
        "id": "A4lVD6aEBW3O",
        "colab_type": "text"
      },
      "source": [
        "## Логистическая регрессия"
      ]
    },
    {
      "cell_type": "code",
      "metadata": {
        "colab_type": "code",
        "id": "-wAmHq1MtBUW",
        "nbpresent": {
          "id": "df977cc2-ab45-4767-9ed7-d00bf9a37d21"
        },
        "colab": {}
      },
      "source": [
        "from sklearn.linear_model import LogisticRegression\n",
        "clf_LR = LogisticRegression().fit(X_train_counts, train_target)\n",
        "predicted_LR = clf_LR.predict(X_test)"
      ],
      "execution_count": 0,
      "outputs": []
    },
    {
      "cell_type": "markdown",
      "metadata": {
        "id": "ZRdAA6trCAf8",
        "colab_type": "text"
      },
      "source": [
        "Меры качества"
      ]
    },
    {
      "cell_type": "code",
      "metadata": {
        "colab_type": "code",
        "outputId": "1c7d22a1-42da-495a-8e35-6bd22c6a1253",
        "id": "TCMtTTCGrxUB",
        "colab": {
          "base_uri": "https://localhost:8080/",
          "height": 52
        }
      },
      "source": [
        "acc_LR = accuracy_score(y_true = test_target, y_pred = predicted_LR)\n",
        "print('acc_LR={0:1.4f}'.format(acc_LR))\n",
        "\n",
        "f1_LR = f1_score(y_true = test_target, y_pred = predicted_LR, average = 'binary')\n",
        "p_LR = precision_score(y_true = test_target, y_pred = predicted_LR, average = 'binary')\n",
        "r_LR = recall_score(y_true = test_target, y_pred = predicted_LR, average = 'binary')\n",
        "print('LR F1={0:1.4f}, LR P={1:1.4f}, LR R={2:1.4f}'.format(f1_LR, p_LR, r_LR))"
      ],
      "execution_count": 95,
      "outputs": [
        {
          "output_type": "stream",
          "text": [
            "acc_LR=0.8646\n",
            "LR F1=0.8635, LR P=0.8707, LR R=0.8563\n"
          ],
          "name": "stdout"
        }
      ]
    },
    {
      "cell_type": "markdown",
      "metadata": {
        "id": "oAN5kyUeCJgJ",
        "colab_type": "text"
      },
      "source": [
        "ROC"
      ]
    },
    {
      "cell_type": "code",
      "metadata": {
        "colab_type": "code",
        "outputId": "0a607df1-cf7d-4e44-ae1f-fd54a8e8621e",
        "id": "l9VNM31JsxvT",
        "colab": {
          "base_uri": "https://localhost:8080/",
          "height": 279
        }
      },
      "source": [
        "y_true = test_target\n",
        "y_predicted = predicted_LR\n",
        "fpr, tpr, _ = roc_curve(y_true, y_predicted)\n",
        "pyplot.plot(fpr, tpr, marker='.', label='Test')\n",
        "# axis labels\n",
        "pyplot.xlabel('False Positive Rate')\n",
        "pyplot.ylabel('True Positive Rate')\n",
        "# show the legend\n",
        "pyplot.legend()\n",
        "# show the plot\n",
        "pyplot.show()"
      ],
      "execution_count": 96,
      "outputs": [
        {
          "output_type": "display_data",
          "data": {
            "image/png": "[encoded data removed]",
            "text/plain": [
              "<Figure size 432x288 with 1 Axes>"
            ]
          },
          "metadata": {
            "tags": []
          }
        }
      ]
    },
    {
      "cell_type": "markdown",
      "metadata": {
        "id": "xaGDdM3OukNe",
        "colab_type": "text"
      },
      "source": [
        "ROC AUC"
      ]
    },
    {
      "cell_type": "code",
      "metadata": {
        "id": "AKs_0tP-BYaK",
        "colab_type": "code",
        "colab": {
          "base_uri": "https://localhost:8080/",
          "height": 35
        },
        "outputId": "77ec1849-cc2d-46fa-823b-6c2ee03af064"
      },
      "source": [
        "print(roc_auc_score(y_true, y_predicted))"
      ],
      "execution_count": 97,
      "outputs": [
        {
          "output_type": "stream",
          "text": [
            "0.8646\n"
          ],
          "name": "stdout"
        }
      ]
    },
    {
      "cell_type": "markdown",
      "metadata": {
        "id": "pvXsWTvMuzAi",
        "colab_type": "text"
      },
      "source": [
        "**лучший классификатор: логистическая регрессия**"
      ]
    },
    {
      "cell_type": "markdown",
      "metadata": {
        "id": "zPKAjmrXxlWG",
        "colab_type": "text"
      },
      "source": [
        "## 15 самых негативных и самых позитивных рецензий по мнению LR"
      ]
    },
    {
      "cell_type": "code",
      "metadata": {
        "id": "zIt1BYto1ZhC",
        "colab_type": "code",
        "colab": {}
      },
      "source": [
        "predicted_proba_LR = clf_LR.predict_proba(X_test)\n",
        "lst_proba = predicted_proba_LR.tolist()\n",
        "\n",
        "lst_pos = [p[1] for p in lst_proba]\n",
        "\n",
        "dic_pos = {}\n",
        "for i, n in enumerate(lst_pos):\n",
        "  dic_pos[i] = n\n",
        "\n",
        "dic_pos = sorted(dic_pos.items(), key=lambda e:e[1], reverse=True)"
      ],
      "execution_count": 0,
      "outputs": []
    },
    {
      "cell_type": "markdown",
      "metadata": {
        "id": "frM6nXMR7hVs",
        "colab_type": "text"
      },
      "source": [
        "15 топ позитивных"
      ]
    },
    {
      "cell_type": "code",
      "metadata": {
        "id": "P06ghA6G7iEk",
        "colab_type": "code",
        "colab": {
          "base_uri": "https://localhost:8080/",
          "height": 35
        },
        "outputId": "ff05bd83-8f45-4bc1-885a-b1c2523b7384"
      },
      "source": [
        "pos_index = [i[0] for i in dic_pos[:15]]\n",
        "print(pos_index)"
      ],
      "execution_count": 137,
      "outputs": [
        {
          "output_type": "stream",
          "text": [
            "[214, 1743, 2421, 3521, 4452, 7879, 8824, 9007, 9528, 5632, 8149, 7341, 879, 10852, 2690]\n"
          ],
          "name": "stdout"
        }
      ]
    },
    {
      "cell_type": "code",
      "metadata": {
        "id": "heYneo7MDcl2",
        "colab_type": "code",
        "colab": {
          "base_uri": "https://localhost:8080/",
          "height": 296
        },
        "outputId": "53d9b267-7aba-45bd-c00d-3f067f074d91"
      },
      "source": [
        "for i in pos_index:\n",
        "  print(test_data[i])"
      ],
      "execution_count": 135,
      "outputs": [
        {
          "output_type": "stream",
          "text": [
            "The Hand of Death aka Countdown in Kung Fu (1976) is a vastly underrated early work by director John Woo. The film stars Dorian Tan (Tan Tao-liang) and features Jackie Chan, Sammo Hung and James Tien in significant supporting roles. Many people believe, or have been lead to believe by deceptive advertising, that this is a Jackie Chan film. This is not a Jackie Chan film, Dorian Tan is the star but Jackie gives one of his best (most serious) early performances.<br /><br />The Hand of Death is about a Shaolin disciple named Yunfei (Tan) who is sent on a mission to assassinate a Shaolin traitor named Shih Xiaofeng (Tien) and protect a revolutionary named Zhang Yi (Woo). Along his journey Yunfei meets up with a young woodcutter named Tan (Chan) and a disgraced sword fighter (Chang Chung) known as \"the wanderer.\" Both men have suffered at the hands of Shih and want to take revenge. The three team up to defeat Shih and his eight bodyguards and escort the revolutionary to safety.<br /><br />The martial arts action is above average under the direction of Sammo Hung. Dorian Tan uses his trademark high kicks very effectively as the \"Northern eighteen styles kicks\" along with some \"Southern five styles boxing.\" Sammo Hung and Jackie Chan provide excellent martial arts performances as well. James Tien is not the greatest martial artist on the Jade screen but does an acceptable job. Some of the early fights are a bit slow and seem over choreographed but the final showdowns featuring Chan, Tan and Hung are very good.<br /><br />Director John Woo provides plenty of interesting character development in the film, which is refreshing. The cinematography by Leung Wing Kat is very stylish, unique and beautiful for a kung fu film of this era. Joseph Koo's music: a combination of soft flutes and 70's \"Shaft\" style orchestral pieces is kung fu cinema at its best. Hand of Death is not Jackie and Sammo's usual kung fu comedy. Hand of Death is a serious, straightforward revenge driven story.<br /><br />Hand of Death aka Countdown in Kung Fu is an underrated classic in the old school kung fu genre. The film is one of the best artistically of its time and a preview of the great things to come from Jackie Chan and Sammo Hung. Hung's great choreography is put on display here before his directorial debut and Chan's early charisma and talent can be clearly seen.<br /><br />Hand of Death is a solid, stylish old school kung fu film and a brilliant early work of the legendary John Woo.<br /><br />Kung Fu Genre Rating 7.5/10 <br /><br />Wanderer to Tan (referring to his new weapon): \"The Little Eagle Wing God Lance.\" <br /><br />Tan: \"Just a knickknack.\"\n",
            "1904. The North African nation of Morocco is hanging onto a tenuous Independence, as the various European powers - France, Germany, Britain, Russia, Spain, and now the United States - are vying for influence in the region. The Sultan (Marc Zuber) is a weak puppet; his uncle, the Bashaw (Vladek Sheybal), who is being manipulated by the French and Germans, is the real power behind the throne. Enter Berber Chieftan Raisuli (Sean Connery), the leader of the Rif tribe and \"the last of the Barbary Pirates\", who kidnaps an American missionary, Eden Pedecaris (Candice Bergen) and her two children and takes them hostage. Back in the US, President Theodore Roosevelt (Brian Keith) threatens to go to war over the issue: \"Pedecaris Alive or Raisuli Dead!\" - seeing the issue as the perfect way to exercise his \"Big Stick\" diplomacy, though Secretary of State John Hay (John Huston) is not so confident. However, the Raisuli has less sinister plans for the Pedecarises, who are more than capable of handling themselves in any event.<br /><br />John Milius's great historical film, based VERY loosely off of a true story (i.e. Pedecaris was a middle-aged man), is a wonderful bit of escapism. It has some amazing action scenes, a witty, well-written script, a fine cast enjoying themselves with the material, and does not overstay its welcome like, say, \"Pirates of the Caribbean\" or the \"Lord of the Rings\" movies. It's not really an \"epic\" film in the strictest sense, but it's one of the best pure action movies ever made.<br /><br />While the historical context is shaky, the storyline is interesting, and as some reviewers point out, it is even more pertinent today than it was when made. As President Roosevelt says, \"America is like a grizzly bear\" - fierce, strong, but a little blind and reckless at times. At the time of the film's setting, America has just been propelled onto the world stage as superpower, following their resounding victory in the Spanish-American War - and Roosevelt seizes this incident as a way to prove America's worth. In real life, it didn't quite work out that way, but allegorically it works well. While written from a right-wing perspective, Milius's screenplay is pretty accurate in assessing America and its place in the world. He admires Roosevelt and his method of \"big stick\" diplomacy, and correctly recognizes (in the words of Roosevelt) that while America may be feared and respected, they'll never be truly \"loved\" by the world, no matter what they do. And there are some scenes - like Roosevelt's target shooting of European leaders and the almost-comic surprise attack by Marines on the Bashaw's palace - which show America's reckless and violent side, while others - the climactic showdown with the Germans - show their heroism.<br /><br />The historical/political context of the film is, of course, merely meat on the bones of what is essentially a rousing action/adventure film. There are some brilliantly done action scenes, such as Raisuli's rescue of the Pedecaris's from double-crossing tribesmen, which features some of the best swordplay in any film. The opening entrance of the Raisuli and the aforementioned march and attack of the US Marines are brilliantly done bravura set pieces. And the final battle, which combines elements of \"Lawrence of Arabia\" and \"The Wild Bunch\", while a major historical fantasy (a three-way battle between Germans, Americans, and the Rifs), is a superbly staged, adrenaline-pumping sequence.<br /><br />The excellent cast gives some wonderful performances. Everyone seems to be having a fun time with the film, and it shows. Sean Connery is surprisingly convincing as a Berber with a Scottish accent, but manages to pull off his interesting, well-drawn and chivalrous character who comes to respect his hostage and abhors modern, uncivil warfare. Candice Bergen, an actress whom I've never been fond of, gives a fine performance as the feisty Eden Pedecaris, who is every bit as tough as her captor. Brian Keith is an amazingly convincing TR - you really feel he must have been like this, an athletic, blustering, yet practical and intelligent man with an admirable sense of self. The scenes of Roosevelt boxing and target-shooting while discussing foreign policy are some of the greatest \"bad ass\" moments in movie history - and who can forget lines like \"Why spoil the beauty of the thing with legality?\" John Huston provides solid support as the weary, cautious Hay, acting as a perfect foil to the much more impetuous Roosevelt. <br /><br />Among the fine supporting cast, the best are Geoffrey Lewis as Samuel Gummere, the cynical Ambassador caught in the middle of the political intrigue, and Steve Kanaly, as the gung-ho Marine Captain who cheerfully advocates (and carries out) \"Military intervention!\" as the blunt and simple solution to the whole complex situation. Other familiar faces such as Vladek Sheybal, Nadim Sawalha, Roy Jenson, Larry Cross, Marc Zuber, and Darrell Fetty also do fine work, no matter how small their role. Spaghetti Western fans will recognize Antoine Saint-John (\"A Fistful of Dynamite\") as the German general and Aldo Sambrell as one of Raisuli's tribesmen.<br /><br />\"The Wind and the Lion\" is, all around, a wonderfully done adventure film. It has something for everyone: wonderful gun- and swordplay, a lot of humor, a tough, feisty heroine (and her two cute children), a nice (if unconsummated) romance, and an interesting (if fanciful) political/historical context. It's not a masterpiece, but hey, it wasn't trying to be. I give \"The Wind and the Lion\" a stirring nine stars and my highest recommendation.\n",
            "The Hand of Death aka Countdown in Kung Fu (1976) is a vastly underrated early work by director John Woo. The film stars Dorian Tan (Tan Tao-liang) and features Jackie Chan, Sammo Hung and James Tien in significant supporting roles. Many people believe, or have been lead to believe by deceptive advertising, that this is a Jackie Chan film. This is not a Jackie Chan film, Dorian Tan is the star but Jackie gives one of his best (most serious) early performances.<br /><br />The Hand of Death is about a Shaolin disciple named Yunfei (Tan) who is sent on a mission to assassinate a Shaolin traitor named Shih Xiaofeng (Tien) and protect a revolutionary named Zhang Yi (Woo). Along his journey Yunfei meets up with a young woodcutter named Tan (Chan) and a disgraced sword fighter (Chang Chung) known as \"the wanderer.\" Both men have suffered at the hands of Shih and want to take revenge. The three team up to defeat Shih and his eight bodyguards and escort the revolutionary to safety.<br /><br />The martial arts action is above average under the direction of Sammo Hung. Dorian Tan uses his trademark high kicks very effectively as the \"Northern eighteen styles kicks\" along with some \"Southern five styles boxing.\" Sammo Hung and Jackie Chan provide excellent martial arts performances as well. James Tien is not the greatest martial artist on the Jade screen but does an acceptable job. Some of the early fights are a bit slow and seem over choreographed but the final showdowns featuring Chan, Tan and Hung are very good.<br /><br />Director John Woo provides plenty of interesting character development in the film, which is refreshing. The cinematography by Leung Wing Kat is very stylish, unique and beautiful for a kung fu film of this era. Joseph Koo's music: a combination of soft flutes and 70's \"Shaft\" style orchestral pieces is kung fu cinema at its best. Hand of Death is not Jackie and Sammo's usual kung fu comedy. Hand of Death is a serious, straightforward revenge driven story.<br /><br />Hand of Death aka Countdown in Kung Fu is an underrated classic in the old school kung fu genre. The film is one of the best artistically of its time and a preview of the great things to come from Jackie Chan and Sammo Hung. Hung's great choreography is put on display here before his directorial debut and Chan's early charisma and talent can be clearly seen.<br /><br />Hand of Death is a solid, stylish old school kung fu film and a brilliant early work of the legendary John Woo.<br /><br />Kung Fu Genre Rating 7.5/10 <br /><br />Wanderer to Tan (referring to his new weapon): \"The Little Eagle Wing God Lance.\" <br /><br />Tan: \"Just a knickknack.\"\n",
            "Director Mikhail Kalatozov's film The Cranes are Flying (Letyat zhuravli) is a glorious piece of cinema. From the screenplay by Viktor Rozov, based on his own play, Kalatozov shows us a vision of the heroism of war and the suffering by those left at home. Inundated with countless war movies showing us the frontlines and the carnage, the topic itself becomes tedious and avoidable. However, this Russian gem shows how the tale of hardship can be told in a different way; by telling us, straight from a soldier's mouth how war is hated by all, that they hope those who died did so for a cause that will allow for peace and the end of fighting, we see a new vision of WWII. We have young men volunteering to wage war for peace, to keep their families and loved ones safe at home rather than draftees fighting a battle they don't believe in. With so much hatred towards our current situation in the Middle East, and how people are dying for no reason, against their will, it's nice to see a film that shows just how selfless and heroic these soldiers are, as well as those awaiting their return.<br /><br />Communist Russia shows how involved all were in the war. While Boris may have volunteered to go to the frontlines, his father is head doctor of a hospital aiding in the mending of soldiers injured and his sister is helping him there as well as his girl Veronika, doing all she can to keep her mind off the fact that no letter has arrived from her love. An entire city comes out to send the boys off in celebration. Even the factory that Boris and his friend Stepan work for send representatives over with gifts of gratitude. Whether this is all a glorified look into Russia at the outset of WWII or not, I don't know. There are no protests or badmouthing of these boys risking their lives for a country, it is all praise and thanks. Some in America could learn a lesson from this because whether you agree with the war at hand or not, protesting and wreaking havoc in its name only sullies what these men and women are sacrificing each and everyday.<br /><br />The acting is top-notch throughout, but some deserve singling out. I really enjoyed Antonina Bogdanova in a small role as Boris' grandmother. She is the one family member he can trust and her sadness at his leaving is very evident on her face and through her body language. Vasili Merkuryev, as the patriarch Fyodor Ivanovich, brings what is perhaps the best performance. As spoken at the end, about fathers needing to choke back hidden tears, Merkuryev epitomizes those sentiments. He puts on a tough exterior, especially cracking jokes and riding his son hard when he finds out about his volunteering just hours before he must leave. But when Boris exits to go to the assembly station we see the true pain of the man, seated in sorrow at the table. He loves his son dearly and although he may not be able to show it to him, his actions throughout the film express it to the audience. Aleksey Batalov is effective as Boris, a happy-go-lucky young man, and idealist, doing what he believes is right, and Aleksandr Shvorin is good as the villainous Mark, staying home due to his talented piano skills, or maybe just to steal his cousin's love. That love, played by Tatyana Samojlova, really draws the audience in to her grief, dejection, and slim glimmer of hope. The true star of the film, she must go through many emotions on a journey where she does lose her way, needing to steer back on course, hoping that she did so soon enough for Boris' return.<br /><br />Besides the realism to the story, as well as being unafraid to use tragedy to get the theme across, I also loved the visual style of the film. Sergei Urusevsky's cinematography is amazing, especially when considering the movie was shot in fullscreen. It is one thing to create stunning compositions in a widescreen panorama; it is completely different to do so in a square frame. Right from the beginning we get a beautiful static shot of a winding walkway along water, a bridge in the background at the top, as our two lovers skip their way up the screen and into the distance. There are multiple instances of the camera being behind barriers yet still allowing for the action to be seen, creating unique spatial depth and interest at all times. Sharp angles are utilized, as well as careful blocking to allow for overhead shots and exaggerated juxtapositions of characters in frame together.<br /><br />The real feats, however, are those instances of the long shot. Used well towards the end to follow Veronika through the mass of returning soldiers, it is magnificent earlier on as she roams through those saying goodbye to their loved ones while she searches for Boris, her own farewell needing to be said. The planning for this shot must have been extensive because while she weaves in and out of people, the camera focuses on couples kisses, people yelling to one another, and more, all purposely in frame at specific moments while the camera moves through. Everyone needed to hit his mark precisely and it leads to a brilliant piece of cinema. It's just one part of an overall masterpiece of tone and style; The Cranes are Flying shows how successful placement and mise en scène can be in showing the audience what it needs in as simple a way as possible. Composition and professionalism from the actors and crew can work wonders, adding something that huge setpieces and special effects can never do.\n",
            "Tony Hawk's Pro Skater 2x, isn't much different at all from the previous games (excluding Tony Hawk 3). The only thing new that is featured in Tony Hawk's Pro Skater 2x, is the new selection of levels, and tweaked out graphics. Tony Hawk's Pro Skater 2x offers a new career mode, and that is the 2x career. The 2x career is basically Tony Hawk 1 career, because there is only about five challenges per level. If you missed Tony Hawk 1 and 2, I suggest that you buy Tony Hawk's Pro Skater 2x, but if you have played the first two games, you should still try this one. Overall, there really isn't anything new, but it is still very fun to go through the game. Hopefully this review benefits your needs.<br /><br />Graphics: 7 out of 10 Overall, the clean visuals isn't really one of Tony Hawk's Pro Skater 2x's main characteristics. The atmosphere has been changed around a lot from Tony Hawk 1 and 2, and the character models look a little bit improved. When you look back to Tony Hawk's Pro Skater 1 and 2 on the old PS1, the thought that those old graphics are ugly run through your head. In Tony Hawk's Pro Skater 2x, the graphics are rendered A LOT better. The character models are no longer filled with jaggys, the textures are more smooth, but not to the farthest extent. Tony Hawk's Pro Skater 2x's visuals do not compare to Tony Hawk 3's graphics, but Activision probably didn't want to make Tony Hawk's Pro Skater 2x have extraordinary graphics. Overall, the graphics deserve an average score of 7 because they did not put the full power of the Xbox to use in here. Graphics are nice, and clean, that's all I have to say.<br /><br />Sound: 8 out of 10 The sound effects don't deliver much to the imagination, but the skateboards popping off of the ground sound great. The main reason why I gave the sound factor a rating, was because you are not obligated to listen to the below average Tony Hawk soundtrack, because there is a custom soundtrack feature. The sound effects sound a lot better than the sounds in Tony Hawk 1 and 2, mainly because it is more clearer, and just the fact that everything sounds great. One of the main reasons why I bought this game, is because of the custom soundtrack. The grind sound effects still sound the same as the first two games did, just a little tweaked out. One of the major problems of the sound factor, is the fact that if the song is over, it will NOT proceed to the next track, the song that you have just listened to will just play over again. I don't like the in-game soundtrack, but like I said, you are not obligated to listen to it.<br /><br />Controls: 10 out of 10 The controls are the best part of Tony Hawk's Pro Skater 2x. The control set-up is marvelously comfortable, and easy to get used to. Back in the Playstation days, people thought that the controls were the best ever, but it looks like 2x has done a better job with the Xbox control. Surprisingly, it is very easy to use the control stick to execute tricks. Activision has done great work with Tony Hawk's Pro Skater 2x's controls. They have made the Xbox controller the best for Tony Hawk games. You will not be disappointed with the control style, and that is a guarantee.<br /><br />Game play: 10 out of 10 Excluding the fact that Tony Hawk's Pro Skater 2x is basically Tony Hawk 1 and 2 put together, the game play is still unbelievably fun. The game play factor has been changed around a bit. This time, you get A LOT more air than in the first two games, and it is a lot easier to perform tricks. In Tony Hawk's Pro Skater 2x, each character has three career modes, consisting of Tony Hawk 1 career, Tony Hawk 2 career, and the 2x career. Tony Hawk 1 career is rather easy because in the first game, you get NOTHING for air. The Tony Hawk 2 career delivers the same amount of difficulty as the playstation version did. The only amount of difficulty that applies to the 2x career, is finding out where all items are, but after you've done that, 2x career is no hard at all. In the 2x career, there is a total of 3 levels, and the first two levels consist of finding the secret tapes, collecting S-K-A-T-E, and doing whatever else is required for that particular level. The third level out of the three, is the competition level, where you have to get a certain amount of points to get the gold. In the first two levels, the secret tapes, and collecting the letters S-K-A-T-E, are featured in both of them. Overall, Tony Hawk's Pro Skater 2x still maintains the old Tony Hawk's Pro Skater vibe.<br /><br />Story: -<br /><br />Fun factor: 10 out of 10 Tony Hawk's Pro Skater 2x is by far, the most funnest game on Xbox today. I have played Tony Hawk's Pro Skater 1 and 2, and back then, I didn't like them, but for some reason, Tony Hawk's Pro Skater 2x is really fun. There really isn't much to say, except that Tony Hawk's Pro Skater 2x is by far, the best game on Xbox today. One problem, is that if you've already gone through the game once, you will play it a couple more times, but it will be repetitive.<br /><br />Replay value: 10 out of 10 Tony Hawk's Pro Skater 2x delivers a high amount of replay value. There is a lot of cheats to unlock, and a lot of character videos. Overall, Tony Hawk's Pro Skater 2x has lots of replay value, mainly because it is so fun.<br /><br />Best feature: You are not obligated to listen to the crappy in-game soundtrack. Worst feature: The custom soundtrack is a bit messed up.<br /><br />Final Statement: Lots of people have complained in the past that they didn't like Tony Hawk's Pro Skater 2x because there is nothing new, but they should stop complaining because your getting a lot of game for $50.00.<br /><br />Graphics: 7 out of 10. Sound: 8 out of 10. Control: 10 out of 10. Game play: 10 out of 10. Story: N/A Fun factor: 10 out of 10.<br /><br />Overall score: 9 out of 10.\n",
            "OZ is the greatest show ever mad full stop.OZ is the greatest show ever mad full stop.OZ is the greatest show ever mad full stop.OZ is the greatest show ever mad full stop.OZ is the greatest show ever mad full stop.OZ is the greatest show ever mad full stop.OZ is the greatest show ever mad full stop.OZ is the greatest show ever mad full stop.OZ is the greatest show ever mad full stop.OZ is the greatest show ever mad full stop.OZ is the greatest show ever mad full stop.OZ is the greatest show ever mad full stop.OZ is the greatest show ever mad full stop.OZ is the greatest show ever mad full stop.OZ is the greatest show ever mad full stop.OZ is the greatest show ever mad full stop.OZ is the greatest show ever mad full stop.OZ is the greatest show ever mad full stop.OZ is the greatest show ever mad full stop.OZ is the greatest show ever mad full stop.OZ is the greatest show ever mad full stop.OZ is the greatest show ever mad full stop.OZ is the greatest show ever mad full stop.OZ is the greatest show ever mad full\n",
            "Life is comprised of infinite possibilities; some known, others a mystery and destined to remain so. And what of the vast unknown, the realms beyond which knowledge has no established boundaries or parameters? Who is to say what exists or what is possible? Valid questions, all of which are raised and explored in the story of a particular individual's personal journey, a strange and dramatic odyssey that defies facts and logic, in `K-PAX,' directed by Iain Softley, and starring Kevin Spacey and Jeff Bridges. In the wake of an incident in New York's Central Station, a man named Prot (Spacey) is transported to a psychiatric hospital in Manhattan, where he is delivered into the care of Dr. Mark Powell (Bridges), who attempts to uncover the truth about his patient, who claims to be from the distant planet K-PAX. It quickly becomes a challenge for Dr. Powell, as Prot, with his calm, direct, forthcoming manner and a propensity for produce (he eats bananas peels and all, and Red Delicious Apples are his favorites) is quite convincing. But it's Powell's job, as well as his nature, to be skeptical. Prot's claims, however, remain intact and stand up even under the most intense probing and the watchful eye of Dr. Powell, who finds himself in something of a quandary-- Prot even tells him the exact date and time that he will depart for K-PAX, a scheduled return trip that allows Powell but a short time to sort it all out. And Powell just can't seem to get his mind around the idea that he is dealing with a real alien being; and it's something he is going to have to resolve quickly, if he is ever going to know the truth. And he has to know. The truth, after all, is the only thing that is going to set him free in his own mind.<br /><br />\tSoftley has created and delivered a sensitive, thought-provoking film that challenges the viewer by sustaining the mystery surrounding Prot while forcing you to reflect upon your own concepts of what is, in fact, possible. And as you never know for sure about Prot until the denouement, you are able to identify with Powell, seeing the situation from his point of view and trying to solve the riddle right along with him. Softley creates an atmosphere of wonder and a real sense of being confronted with something that is truly unique as the story unfolds and you begin to realize that Prot just may be what he says he is. And in the context of the reality to which the film is disposed, it's an engrossing matter to try to wrap your mind around. How do you react when all of the evidence is contrary to the physical limitations we've set for ourselves? While at the heart of the film there is a resounding depth of humanity that is evident, not only in Prot, but in Dr. Powell, as well. All of which makes for an extremely engaging and gripping drama.<br /><br />\tAs we've come to expect, Kevin Spacey gives a brilliant performance as Prot, presenting his character from the inside out, emotionally deep and physically convincing at the same time. This is a unique individual, and Spacey brings him to life with care and the ability to share those moments that are particularly revealing, which adds to the believability of the character and the credibility of the story itself. For this film to work, it is essential that we believe who and what Prot is; we do, and it does. Spacey simply pulls it off magnificently. It's a memorable performance, from which evolves a character that will stay with you for a long, long time.<br /><br />\tJeff Bridges, meanwhile, emerges on equal footing with Spacey, adeptly making a very real person of Dr. Powell. It's a fairly straightforward role, and the challenge for Bridges was to take this very normal and ordinary character and make him unique in his own right, which, opposite the character of Prot was no small task. And, again, for this film to work it was necessary for Bridges to rise to the occasion. And, with exceptional skill and being the consummate professional that he is, he succeeds without question. Bridges infuses Powell with an underlying complexity, and is so giving in his performance, that it makes the interaction between Powell and Prot vibrant, and at times intense. It's a demonstration of two of the finest actors in the business doing what they do best, creating a dynamic that is alive and inspiring. It's a great job by Bridges, who never attempts to steal the spotlight from Prot, which serves to raise the level of the film to an even higher notch.<br /><br />\tThe supporting cast includes Mary McCormack (Rachel), Alfre Woodard (Dr. Villers), Ajay Naidu (Dr. Naidiu), Vincent Laresca (Navarro), Kimberly Scott (Joyce), Conchata Ferrell (Betty) and Saul Williams (Ernie). An entertaining, emotionally involving film, `K-PAX' is a dissertation on possibilities, as well as an examination of the ever evolving complexities of the human condition. It's a film that demands an open mind and rewards those who are able to approach it on it's own terms and embrace it. In the end, it makes you realize just how real K-PAX is; and it makes you appreciate Prot's journey, and just how much we all share and have in common with those around us, human or alien. And it may just make you reflect upon your own journey-- where you've been and where you're going. And that's the magic of the movies. I rate this one 10/10. <br /><br />\n",
            "This is a great German slasher, that's often quite suspenseful, and creative, with a fun story and solid performances. All the characters are cool, and Benno Fürmann is great as the psycho killer, plus Franka Potente gives a fantastic performance as the main lead. It did take a little while to get going, but it was never boring, and it had some good death scenes as well, plus the music is wonderfully creepy. I was lucky enough to get the subtitled version, instead of the dubbed, and I thought all the characters were quite likable, plus it's very well made and written as well. It has some really good plot twists too, and the effects are extremely well done, plus the ending is great. The finale is especially suspenseful, and Franka Potente was the perfect casting choice in my opinion, plus I wish Arndt Schwering-Sohnrey(David) didn't get killed of so soon, because he was a really cool character. There were actually a couple of moments where I felt uncomfortable but in a good way, and I must say this film deserved all it's praise, plus while it does have plot holes, it's not enough to hamper the film. This is a great German slasher, that's often quite suspenseful, and creative, with a fun story, and solid performances, I highly recommend this one!. The Direction is great!. Stefan Ruzowitzky does a great! Job here with excellent camera work, very good angles, great close ups (see the opening sex scene), doing a great job of adding creepy atmosphere, and just keeping the film at a very fast pace.<br /><br />There is quite a bit of blood and gore. We get cadavers cut open,plenty of very gory surgery scenes,lots of bloody stabbings,people are dissected while still being conscious, severed finger, self mutilation, gutting's, bloody slit throat, lots of wicked looking frozen corpses, plenty of blood and more.<br /><br />The Acting is very solid!. Franka Potente is fantastic as the main lead, she was very likable, remained cool under pressure, was vulnerable, easy on the eyes, and we are able to care for her character, the only time she seemed to suffer, was when she had to spurt out some bad dialog here and there, but that wasn't very often, she was wonderful!. Benno Fürmann is excellent as the psycho killer, he was simply chilling, and wonderfully OTT, he really gave me the creeps, and was one effective killer!. Anna Loos played her role very well, as the smart slut, I dug her. Sebastian Blomberg was great here as Caspar, he was quite likable, and had a mysterious character,his chemistry with Potente was also on, and there was a great twists involving him at the end. Holger Speckhahn was good as the Idiot Phil and did his job well. Traugott Buhre is good as Prof. Grombek. Arndt Schwering-Sohnrey was great as David, he had a really cool character, and I wish he didn't get killed of so soon. Rest of the cast do fine.<br /><br />Overall I highly recommend this great German slasher!. ***1/2 out of 5\n",
            "Universal Studios version of \"Flipper\" (1996) is a great heartwarming film for the entire family with good values and sentimentality. It is the story of Sandy Ricks, a teenager from Chicago who reluctantly spends his vacation with his Uncle Porter Ricks in the Bahamas. This ultimately changes the teenagers life and he grows up in the process. He learns to appreciate nature and to have a respect for the environment. I grew up in the 1960's and the NBC television show \"Flipper\" was my favorite childhood show. Elijah Wood is perfectly cast as a 1990's Sandy Ricks and gives an excellent performance. As much as I liked the NBC television show and MGM theatrical feature films with Luke Halpin as Sandy in the 1960's I liked this feature the best! I feel Elijah Wood is the best Sandy Ricks. With respect to Luke Halpin I feel Elijah Wood has more of a range of acting talent and emotes more as an actor which makes his performance excellent and more believable. I think Elijah Wood is the best young actor working today in films. Director Alan Shapiro also wrote the screenplay and has done an excellent job as both writer and director of this film. Paul Hogan gives a comical and likable performance as Sandy's Uncle Porter Ricks. Mr. Hogan's performance perfectly offsets Elijah's role as Sandy. I am a big fan of underwater films. This film was beautifully shot in the Bahamas like \"Thunderball\" (1965 UA) was. The director of photography was Bill Butler A.S.C. who lensed the film \"Jaws\" in 1975. Mr. Butler is a very talented cinematographer. The underwater director of photography was Pete Romano. He did a superb job with the underwater cinematography. I enjoyed the film score by Joel McNeely. This good film score featured Crosby, Stills and Nash among other talented artists. This motion picture was shot in Panavision like \"Thunderball\" in the aspect ratio of 2.35:1 If possible try to see this film in a scope version as originally framed and visioned by Alan Shapiro and Bill Butler. Another very nice thing is that Mr. Shapiro gave the \"original\" Sandy Ricks (Luke Halpin) a small part in this remake. He portrayed Bounty Fisherman #3 in this film. This was a very kind gesture on Mr. Shapiro's part! As you can tell I am a real true fan of this film. Sadly this beautiful film was met with harsh words by the majority of movie critics. I originally saw this movie on my birthday, May 31st of 1996 in a movie theater. It meant a lot to me. I have it on numerous video versions. The VHS versions are in \"pan and scan\". The laserdisc version is \"letterboxed\" 2.35:1! I even have a VCD in 2.35:1 from Hong Kong which is \"letterboxed\". But my most prized possession is an \"original\" 16mm theatrical feature print which I will treasure for the rest of my life! Thank you Mr. Shapiro, Elijah Wood, Paul Hogan and everyone involved for making this a memorable movie for me to enjoy!<br /><br />P.S. I must add that the quality of the Universal DVD is superb! It is the best DVD as far as quality I have ever seen. The color and resolution is spectacular. The soundtrack is great. I think Universal must have used the same transfer for the DVD that they did for the laserdisc version. The 35mm scope print is \"mint\" and Alan's film really has a wonderful look to it. A great tribute to a wonderful film! The DVD's resolution is even superior to the laserdisc quality! It's just spectacular! Thank you Universal Home Video for the great quality control and transfer. Many thank's for doing a superb job on this wonderful family film. Also many thank's to you Alan for all your extreme kindness to me!!! It's a real honor to know you!!! (Review Revised/Updated June 27, 2005)\n",
            "Looking back at the career of Alfred Hitchcock, it never fails to be surprising how such a brilliant and visionary man could be denied sufficient recognition for how revolutionary he was for the film industry. It is likely a sign of how ahead of his time Hitchcock was, always attempting to push the envelope, and never coasting along with a film made simply for the purpose of being entertaining, but always with a deeper, more poignant motive on his mind. Strangers on a Train, one of Hitchcock's first and more underrated hits, is a perfect example of these traits - an entertaining and suspenseful story, even when viewed over 50 years later, yes, but so carefully and intelligently constructed it stands today as a masterpiece in film technique. <br /><br />Arguably one of the pioneering \"suspense thrillers\", Strangers on a Train may come across as slightly dated in certain aspects, but it retains every bit of superbly crafted tension as it did back in 1951 (if perhaps slightly less shocking). The brilliant use of cinematography and lighting as well as quick, careful editing are what really make the film stand out, drawing out every possible iota of tension and retaining the audience's focus even in slower scenes. If there was ever any doubt of what a simply masterful filmmaker Hitchcock was, simply watching five minutes of Strangers on a Train should be enough to disavow such sentiments; every shot is so carefully chosen and constructed, all serving to drive the storyline ahead in a particularly innovative fashion. Sadly enough, there are certain moments in the story which are screechingly out of place enough to jar our focus away from the superb cinematography and editing - Bruno being able to reach down to the bottom of a sewer grate is simply unbelievable, and the figure of a stereotypical old man crawling under a wildly out of control carousel provides unintentional comedic relief in what is meant to be the film's most tense and engaging scene. These are only brief moments, but they are enough to stand out as painfully weak in an otherwise stellar film.<br /><br />But what really makes Strangers on a Train stand out is the story premise. As Hollywood films of late run the risk of descending inescapably further and further into the vat of turgid clichée after clichée, it's wonderfully refreshing to see a 50 year old film with a premise which actually comes across as smart and original. Sure it's fairly straightforward, but the concept of \"swapping murders\" is simply one that would not fly in films of today's day and age, which makes it all the more entertaining to watch; the film's brilliant screenplay keeps the action flowing at a swift pace while providing us with some wonderfully memorable lines all the while. One can't help but notice the deeper themes Hitchcock is alluding to throughout as well, especially the concept of \"darkness in humanity's heart\", demonstrated by elderly ladies being fascinated and exhilarated by the prospect of murder, as well as Bruno's own cavalier attitude towards death. Hitch also works in many moments of dark humour (Bruno popping a child's balloon with his cigarette is priceless), and irony, shooting suspenseful scenes in happy, easy-going environments, such as the iconic carnival scenes, to create an even more eerie atmosphere. This may be a suspense thriller, yes, but to overlook the brain concealed beneath it would be simply inexcusable. <br /><br />The antagonistic figure of Bruno (essayed to perverse perfection by Robert Walker, sadly in his last film role, but easily stealing the film from his admittably very talented fellow cast members) is without a doubt what makes Strangers on a Train so memorable, as the character is a marvel to behold. Here we have a simply superbly crafted villainous figure, all the more intriguing by how ordinary and unassuming he seems. Rather than cackling madly and thwarting the hero at every possible moment, Bruno is a calm, controlled, psychotic mess. He speaks of murder in such an offhand tone, yet retains a passionate glint in his eye when discussing different fashions of killing people. Bruno could seem to represent the \"Id\", as Freud would put it, the inner, darker and uninhibited aspects of mankind. It makes an interesting contrast to the hero figure, Guy Haines, and how bland and uninteresting he seems, almost as if to drive home the prospect of evil being much more interesting and appealing than constantly striving to do the right thing. <br /><br />Yet despite this implied message, Hitch still twists our emotions enough that we root for Guy at every turn, and cheer at each new obstacle he is forced to overcome. It's a testament to actor Farley Granger's talent that despite Robert Walker's villain easily stealing the show, Granger's hero still comes across as sympathetic, still commanding our support even when falling prey to being a far less compelling character. Superb support is given by Ruth Roman, who manages to overcome the clichée and be a more innovative and complex romantic interest figure, Kasey Rogers giving a stunning performance as Guy's horrifyingly manipulative and hedonistic first wife, and Patricia Hitchcock, proving that she is far more talented than being simply \"the director's daughter\" would imply. The superb cast (headed by a simply wonderful Walker) really bring the film to life, adding so much more merit to the film than simply Hitchcock's breathtaking stylistics. <br /><br />All in all, Strangers on a Train may still come across as slightly too dated for certain viewers, but it's still a shock how modern and appealing to contemporary audiences seems, considering it was released half a century ago. Once again, Hitchcock proves his unparalleled mastery of tension and film technique, and the film's surprisingly original and enjoyable premise is alone worth a viewing. Highly recommended to anyone wishing to undertake a brilliantly made but superbly entertaining film experience! <br /><br />-9/10\n",
            "Anthony Minghella's 'The English Patient' is a film that takes us back to the golden years of Hollywood. It is grand and impressive in scale, and yet so heartbreakingly intimate in its portrayal of human love and suffering. At the 1997 Academy Awards, the film owned the night, taking home nine awards from twelve nominations, the most decisive cleansweep since Bernardo Bertolucci's 'The Last Emperor' in 1988. Based on Canadian author Michael Ondaatje's 1992 Booker Prize-winning novel of the same name, 'The English Patient' is a touching meditation on life, love and loss, tracing the history of a critically-burnt man in the aftermath of World War Two.<br /><br />During the war, a man (Ralph Fiennes) is discovered in the burning remnants of a crashed plane. With his face scarred beyond recognition, and with the man seemingly suffering from amnesia, he is assumed to be an Allied soldier, and is simply referred to as \"the English patient.\" After the war, in the mine-ridden hills of Italy, a kind nurse, Hana (Juliette Binoche), who has apparently lost everybody close to her, remains in a ruined monastery to look after the dying man. Over time, she comes to learn more and more about her \"English patient,\" who is actually revealed to be a Hungarian geographer, Count Laszlo de Almásy. Rather than losing his memory in the plane crash, we learn that this scar-ridden man has perhaps chosen to forget his past, both to protect himself from persecution and to cure himself of the tragic memories of his past love. Via numerous flashbacks, we learn of Almásy's former exploits in the Sahara desert, and his romantic liaison with a married woman, Katharine Clifton (Kristin Scott Thomas).<br /><br />It's certainly easy to see why 'The English Patient' was so successful at the Oscars. It is such a beautiful film, blending the quiet beauty of the Italian countryside with the endless golden sands of the desert. Cinematographer John Seale captures the landscape to perfection; not since David Lean's magnificent 'Lawrence of Arabia' has a film shown the desert with such beauty and grandeur, making particularly good use of sweeping aerial shots from Almásy's plane. Even in the film's more intimate moments, excellent use of close-ups and lighting capture the emotion of the scene, coupled, of course, with the brilliant performances from all the cast members.<br /><br />A long-time favourite actor of mine, 'The English Patient' might just contain Ralph Fiennes' finest performance, and, considering his history includes such films as 'Schindler's List' and 'The Constant Gardener,' this is not a complement that is to be taken lightly. His Count Laszlo de Almásy is initially a very sympathetic character, but, as we slowly learn more about his past, his likable qualities are eroded by his less-admirable tendencies towards others. \"Ownership\" is a major theme of the film. When asked by Katherine what he hates most, Almásy replies with \"Ownership. Being owned. When you leave you should forget me.\" However, as the relationship progresses, and Katherine perhaps tries to distance herself from him, Almásy reveals a hint of arrogance, insisting that his love for her somehow entitles him to have her whenever he likes: \"I want to touch you. I want the things which are mine, which belong to me.\"<br /><br />Juliette Binoche, who received an Oscar for her performance here, is excellent as Hana, the lonesome nurse who fears to love because of the tragedies that have always harmed those close to her. After some time of caring for Almásy alone, she is joined by a dubious Canadian thief, David Caravaggio (Willem Dafoe), who lost his thumbs during the war, and who suspects that it was Almásy who betrayed him to the Germans. Hana also strikes up a tentative romantic relationship with Kip (Naveen Andrews), an Indian bomb-diffuser in the British Army. However, due to her past history, Hana is afraid that becoming involved with Kip will doom him to death, particularly considering his very dangerous line of work.<br /><br />At 160 minutes in length, 'The English Patient' wonderfully evokes memories of the classic romantic epics of old, successfully finding a balance of mystery, love, joy and tragedy. The ending of the film is heartbreaking and sorrowful, but also uplifting in its own way. Whilst some romantic relationships are doomed from the very beginning, others have a very good chance of bringing happiness. Nevertheless, in every case, it is always better to have loved and lost, than never to have loved at all.\n",
            "Wallace and Gromit are the main characters in some of the best cartoons ever crafted. The excellent mix of visual humor and claymation makes \"A Grand Day Out,\" \"The Wrong Trousers,\" and also \"A Close Shave\" some of the best animated footage ever put on television. Winning several Oscars and also countless other awards, Nick Park became quite the popular man in the U.K., yet his impact on the United States has not been big. After the third Wallace and Gromit short, there was all this speculation about a full-length Wallace and Gromit movie, yet for years nothing had happened. Then in 2000 instead of a full-length Wallace and Gromit film, we get another brilliant claymation film from Nick Park, which was Chicken Run, which almost got nominated for best picture in the Academy Awards. Perhaps it was the success of this film that ultimately drove Park to finally work on a Wallace and Gromit project.<br /><br />5 years later (these kinds of films do take long you know) and a lot of anticipation, Wallace and Gromit finally hits the big screen. Despite the rather weak trailers and marketing campaign, this movie delivers in so many ways. This film will be a delight for both kids and parents. With tons of adult humor hidden beneath the brilliant animation, Wallace and Gromit: Curse of the Were-Rabbit is one of the few films that perfectly manages to equally appeal to both kids and adults. This rather difficult technique is one that only Pixar has already perfected and DreamWorks has had a lot of trouble doing lately. Despite the DreamWorks logo slapped onto the poster, this film is mainly from the very creative staff of Aardman Animations.<br /><br />Wallace and Gromit are first seen running a business that protects the townspeople's crops from being ruined by rabbits, which apparently had been running around wild and in great numbers lately. Their business has gotten them plenty of respect from the others living in the town because a gigantic vegetable contest was rapidly approaching and the crops needed protection. Complications arise when Wallace attempts to manipulate the rabbits into not liking vegetables and then a great eating machine is unleashed on the area. It is up to Wallace and Gromit to find the gigantic animal and stop it from eating away through gardens and also their approval from the townspeople. To add to that, Wallace wants to impress Lady Tottington, which also captured the attention of a snobby suitor by the name of Victor. Simple plot yes, but there is more than meets the eye, be prepared for a few fun surprises along the way, kind of like in the other Wallace and Gromit cartoons.<br /><br />In animated films with little dialogue, it is the animation that has to set the pacing and the mood of the film. Despite requiring 5 years to produce only 85 minutes of footage, the payoff is fantastic. There is a massive amount of detail that requires more than one viewing to truly notice. Even more incredible than the detailed and nearly flawless animation is the truly unspeakable amount of visual humor put into the film. Whether it is a creatively placed shot or normal labels put into the funniest position possible, or it is the oh-so-adorable rabbits that is constantly shown in the film, most Curse of the Were-Rabbit's humor comes strictly from just watching the movie itself and catching all the references before it is too late. Just picture the movie Madagascar, except funnier much fewer pop culture references, and better animation.<br /><br />Casting was great, even though in a film with not much dialogue, it was not that important. Peter Sallis yet again does a wonderful job as Wallace, even though in this movie there was no stand-out quote that can be used anytime (The Wrong Trousers: \"It's the wrong trousers Gromit, and they've gone wrong!\"). Ralph Fiennes does a superb job as the lead villain Victor and also Helena Bonham Carter (known as the crazy female lead in the cult hit \"Fight Club\") lends her lovely voice as she plays Wallace's love interest. Even though nothing could top the final chase in \"The Wrong Trousers,\" Curse of the Ware-Rabbit did have plenty of action scenes, including one fantastically done chase scene between Gromit and Victor's evil dog. Last but not least, the rabbits really steal the show at some moments. Whether it is their cute expressions, their funny movements, or their howling, the rabbits in the film even take some of the glory from the main stars. The funniest rabbit in the movie is the \"cursed\" rabbit himself, to the very end of the movie he had the audience rolling in laughter.<br /><br />Bottom Line: Despite not being as memorable as \"The Wrong Trousers\", this film is just as good and entertaining as Chicken Run. Unlike almost every movie to come out this year, the movie does not drag at all, clocking in at a short 85 minutes yet containing so much joy and fun, it will leave everyone watching it asking for more. There is very little wrong with the film; it was a pure delight to watch. This film is a total contrast of the decent yet vulgar, uncut, raw movies that have made a surprising amount of money earlier this year (40-Year-Old Virgin, Wedding Crashers, and Sin City) and for families and those who want harmless entertainment; that is a good thing. Highly recommend, this is the top animated movie to come out this year and among the best we have seen this decade. Wallace and Gromit: Curse of the Were-Rabbit: totally harmless fun from second 1 to second 5,100.\n",
            "I have never been a great fan of Oliver Stone, often because I have found his films to be forced, preachy and generally flawed. The two Stone films I truly like are JFK and Talk Radio, yet Talk Radio takes the cake for being Stone's finest achievement. Stone is a director whereby you are either a fan or you are not, it is safe to say that before watching Talk Radio I was not fond of the guy and considered one of the most overrated directors in the film industry, though after watching Talk Radio some of my perceptions have changed. Talk Radio is an unsettling and amusing attack on what is now known as \"reality TV\".<br /><br />Talk Radio follows a self-indulgent, dysfunctional, determined, hysterical, outrageous and perplexing radio host, named Barry Champlain who hosts a controversial late-night radio show in Dallas. Quickly becoming well known for his bold and quirky air-presence he becomes a late night sensation, whereby depraved junkies, delinquents, racists, sociopaths, sickos, perverts and morons call in to be ridiculed on air. The film shows the rise and fall of the man's career, carefully making an accurate portrayal on freedom of speech. Originally adapted from a stage-play, the film attaches itself to the theatre theme that it was originally built around, wonderfully conveying the film's fierce nature.<br /><br />With the ferocious energy and non-stereotypical air, Talk Radio brings all the hilarity behind \"crass media\". It remains even more poignant today than it was in the late '80s. The film goes into depth studying the likes of arrogance, self-obsession, offensive behaviour, controversy, hypocrisy and ignorance. The film shows through a controlled manner how it is good to have a personal opinion and freedom of speech, yet it is something that should be used wisely rather than shamefully blunt. Stone tries to show how freedom of speech is a crucial importance in life, but is something that we should be wary and cautious about. The film asks the question of \"is our main protagonist just the same as the sad people who call up the show?\" <br /><br />Stone fabulously creates the film's key set-piece (the radio station) with an ambition and cold atmosphere. He then succeeds in capturing the isolation, fear, ambiguity and the dangerous emotions that are built up at the radio station. Eric Bogosian is perfectly cast as the isolated, self-absorbed and complex genius, Barry Champlain. He fits the role perfectly letting off his lines with such enthusiasm, urgency, perplexity, brusqueness and ultimately the bold hilarity of his offensive nature. The performance brims with spark, which was evidently robbed of an Oscar nomination. His voice suits the character, being that a primary element of a radio host and his power of acting along with tragedy and comedy works brilliantly.<br /><br />There is a strong use of editing in Stone's films and Talk Radio boasts some of his cleanest, most rhythmic editing. He uses beautifully controlled camera techniques, which differ from being calm to suddenly becoming turbulent. There is a vibrant energy behind the film, with its raw and wonderfully delightful script working as a centre-piece for the greatness of the film. The striking and virtuous cinematography stands out in the moments inside and outside the studio, most impressively capturing the city at night. Not forgetting the hauntingly heartbreaking and yet darkly funny climatic \"spiral to decline\" is ultimately remarkable cinema.<br /><br />Talk Radio is an essential modern masterpiece, I am certain you will be surprised by just how great it really is. I highly recommend Talk Radio for anyone interested in media or film. Talk Radio is a fine example of top-notch, intellectual and insightful entertainment, which still packs a well-earned wakeup call. Finally, if it was not for Eric Bogosian the film would not be the fun, delightful and enduring masterpiece it is today.\n",
            "1983 was \"the battle of the Bonds\". That year both Roger Moore and Sean Connery starred in two separate James Bond film, the former (Octopussy) was produced by the \"official\" makers of the Bond films while the later (Never Say Never Again) was produced \"unofficially\" by a group led by Kevin McClory who held the film rights to Thunderball. Surprisingly enough is the \"unofficial\" film that is better despite the obvious flaw of and the fact that Never Say Never Again is a remake of Thunderball.<br /><br />Never Say Never Again has the distinction of sporting one of the best casts ever assembled for a Bond film. It all starts with Sean Connery, returning to the play Bond for the first time since 1971's Diamonds Are Forever. Connery might be older then he was then but he looks better here then he did in Diamonds Are Forever. The Bond of Never Say Never Again is the sleek and dangerous shark of Dr. No or From Russia With Love, just a few years older. Connery's delivery of one liners and dialogue is as dead on as it ever was. The one downside to Connery's age is his believability, especially when it comes to the ladies of the film. Let's face it even Connery, despite being in top physical shape, looks as odd as Moore when he is bedding women half his age. Yet despite this believability issue, Never Say Never Again shows Connery in one of his better Bond performances and a definite improvement on his two earlier Bond performances.<br /><br />Kim Bassinger plays Domino in one of her early film roles. Bassinger plays the role with considerable confidence for a relative newcomer and she makes the character believable. Bassinger holds her own against her co-stars and has considerable chemistry with them as well. In fact she may well outshine her Thunderball counter-part played by Claudine Auger.<br /><br />Then there's the villain, Maximilian Largo played by Klaus Maria Brandauer. Brandauer's Largo is everything a James Bond film villain should be: suave, charming, evil and above all believable none the less. Brandauer makes the role realistic and chooses not to fall into the trap many other Bond villains have fallen into by going over the top. Brandauer plays Largo with a silent menace and charisma unseen in many adversaries of 007.<br /><br />The excellent cast extends into the supporting cast as well. Barbara Carrera makes a fine henchwoman in Fatima Blush and the screen lights up when she appears. Max Von Sydow a nice appearance as Blofeld, though his appearance is more akin to a cameo. Rowan Atkinson makes an appearance as Bond's bumbling contact that makes for some of the best scenes in the film. With all that the highlight of the supporting cast comes from the MI6 staff from Edward Fox's M who makes for a great contrast to Bernard Lee, Pamela Salem who make s affine Moneypenny and the icing on the cake with Alec McCowen's wonderful Q. The supporting cast has a couple of misfires though in the form of Bernie Casey as Felix Leiter and Gavin O'Herlihy as Jack Petachi who both seem to lack credibility in their respective roles. Otherwise this film sports one of the best casts ever assembled for a Bond film.<br /><br />On top of an excellent cast the film has several other essential ingredients. From the opening Central America sequence to the fight at Shrublands to the underwater sequences and motorbike chase, this is a film where the action sequences are not only great but service the plot as well for the most part. The film also sports good special effects in terms of cruise missile models, explosions, and all the things we expect from a Bond film. Irvin Kershner, then fresh off doing The Empire Strikes Back, brings a tight sense of direction to the film especially in sequences like the substation of nuclear warheads and the subsequent theft of the cruise missiles.<br /><br />Yet this film is far from perfect. Never Say Never Again is easily one of the most dated of the Bond films with its heavy use of 1980's computer sand video games. While technology dates any film after a time, this film's heavy reliance on it, especially in the hijacking of the cruise missiles and the Domination sequence makes the film look incredibly dated some quarter of a century after its release. The script also tends to suffer from predictability due to the very fact it's a remake of Thunderball.<br /><br />Yet for its predictability the script for Never Say Never Again is pretty good. The script sports good dialogue scenes, not a single cringe worthy one liner (how many of the Roger Moore era scripts can you say that about?), some humorous situations, and yet is watchable and tense for the most part. Once you look past he fact that it's a remake, there's quite a lot of good things in the script for the film.<br /><br />Music is in fact the biggest weakness of the film. Due to the \"unofficial\" status of the film, the James Bond Theme could not be used. That said this could have shown with the right composer that a Bond score without it could work. Unfortunately Michael Legrand's score is far from adequate. Legrand's score is totally out of place in a Bond film and there is only of or two places where it actually works. To make matters worse the film is also lumbered with one of the worst title sequences ever to grace a James Bond film.<br /><br />Despite being heavily dated, somewhat predicable, and having a bad score Never Say Never Again is still a good Bond film. With one of the best casts of any Bond film, good action sequences, good special effects, good direction, and some terrific dialogue, this film proves that \"unofficial\" isn't a bad thing. In fact it is is better then Octopussy and the winner of \"the battle of the Bonds\".\n",
            "This is a surprisingly great low budget Horror/Comedy, it's funny and pretty well made, with good performances and a really cool twist ending!. All the characters are pretty cool, and the story while unoriginal is very good, plus Eric Jungmann(Adam) and Justin Urich(Harley) had fantastic chemistry together. One of the funniest moments in the film for me is when Adam is trapped in the bathroom, and Harley wakes up to find that monster truck sitting there, and decides to take a p*ss in the truck, and Aimee Brooks is just plain sexy!, plus this is one of the best low budget Horror films I have seen in a long time. It's very gory, but in a comical way, and I thought it was very well written as well, plus Michael Bailey Smith is fantastic as the Monster Man and had some wicked makeup!. It's similar to films like Joy Ride, Duel, Jeepers Creepers, etc, etc and it has some suspenseful moments here and there, plus The gore effects are really well done for the most part. This is a surprisingly great low budget Horror/Comedy, it's funny and pretty well made, with good performances and a really cool twist ending, I highly recommend this one!. The Direction is very good!. Michael Davis does a very good! job here, with great camera work, good angles,good use of colors, and using a great setting, plus he kept the film funny and at a very fast pace.<br /><br />There is a lot of gore!. We get extremely bloody nose bleeds,gory impaling's, bloody stabbings,guy is cut in half by a monster truck, human remains in a cooked stew, guts all over the place,guys guts fall out,pencil in the eyes,bloody slit throat,bunch of people walking around without limbs,gory dead squirrel,heads are squished,severed limbs,bloody and mangled corpses,decent amount of bloodshed,one very gory scene at the very end and more!.<br /><br />The Acting is very good for a low budget film. Eric Jungmann is fantastic here as Adam, he was a nerd but a very likable one, he had fantastic chemistry with Justin Urich, had some cool lines,and I just loved his character, he also seemed to be enjoying himself,and he was especially good at the end!. Justin Urich is excellent as the ass of a Best Friend, however I just couldn't help but love him as he was very funny, and often stole a lot of the scenes, I really dug him!. Aimee Brooks is gorgeous, and did great with what she had to do, she had good chemistry with Jungmann and like Jungmann was especially good at the end, as I loved her mysterious character. Michael Bailey Smith is wonderful as The Monster Man he was very creepy looking, had some awesome makeup, and is now one of my favorite slashers!. Rest of the cast do fine.<br /><br />Overall I highly recommend this one!. ***1/2 out of 5\n"
          ],
          "name": "stdout"
        }
      ]
    },
    {
      "cell_type": "markdown",
      "metadata": {
        "id": "eo8aRFkD7joq",
        "colab_type": "text"
      },
      "source": [
        "15 топ негативных"
      ]
    },
    {
      "cell_type": "code",
      "metadata": {
        "id": "J6HwaFhn7mjK",
        "colab_type": "code",
        "colab": {
          "base_uri": "https://localhost:8080/",
          "height": 35
        },
        "outputId": "b9ad8594-728d-49e7-e392-5514a5f625b7"
      },
      "source": [
        "neg_index = [i[0] for i in dic_pos[-15:]]\n",
        "print(neg_index)"
      ],
      "execution_count": 138,
      "outputs": [
        {
          "output_type": "stream",
          "text": [
            "[19163, 19851, 16149, 16868, 13721, 19157, 19422, 18734, 24494, 14267, 23531, 16007, 17909, 17752, 18921]\n"
          ],
          "name": "stdout"
        }
      ]
    },
    {
      "cell_type": "code",
      "metadata": {
        "id": "AjzPpTgWD2F6",
        "colab_type": "code",
        "colab": {
          "base_uri": "https://localhost:8080/",
          "height": 296
        },
        "outputId": "23661eef-716c-4f44-f809-ec17e848658c"
      },
      "source": [
        "for i in neg_index:\n",
        "  print(test_data[i])"
      ],
      "execution_count": 136,
      "outputs": [
        {
          "output_type": "stream",
          "text": [
            "With this movie I was really hoping that the idea was to make up for the hashed together ineptitude of the first AVP, and yet to my horror: Requiem is far worse than I could have imagined.<br /><br />My hopes were up in the opening moments of the film inside the Predator ship, and I almost breathed a sigh of relief when we finally saw the Predator home world (a throwaway digital matte painting, but still nice to finally see it) and then of course, the humans (if such poorly written characters can be referred to as such) are introduced...<br /><br />One must wonder why it seems to be impossible for Fox to make a good film out of Aliens and Predators. At the very least the supposed filmmakers could have done their homework.<br /><br />Characters are set up in the same manner in which we would expect from the worst Friday the 13th Sequel. The pizza delivery scene was cringe inducing as was every other scene of character interaction that followed it. Bimbos and teen non actors do not make for a REAL film, they make for a cheap flick, and Alien 1-3 and the Predator movies were good because they were produced above the concept (remember that the 1st Alien is a \"B\" movie done as an \"A\" movie) The Strause brothers really missed an opportunity, that could have been rectified by simply knowing their Alien+Predator roots: In both the Alien and Predator films we are introduced to characters that are part of a larger group (Alien: Refinery workers, Aliens: Marines, Alien 3: Convicts and in the Predator films we generally follow a main hero part of a unit; Predator, Arnold--Special forces, Predator 2: Danny Glover, Police) and it's easy to see where the filmmakers of both franchises started to go wrong: in Alien Ressurrection we have pirates...or something, AVP we have...explorers?...with guns?? and of course in AVP-R we have teen slasher clichés. What is there to identify with here? In concept the idea of a convict returning to a small town and a war vet returning seemed a set up for a First Blood type of action hero, but like many things it was never paid off.<br /><br />The Film-making is equally devoid of rhyme of reason. There is no sense of forward momentum to the action, just small sequences that build the most minuscule levels of tension or interest only to cut away just when they're getting interesting...taking the audience out of the movie at every turn. The action scenes themselves, though much ballyhooed in the trailers, are so darkly lit, it is literally impossible to tell what is going on during the fight scenes when they finally occur. Basically, the movie is hindered from many levels. Bad actors combined with poor direction and an atrocious screenplay (which as a screenwriter myself I noticed, seemed to hit every wrong note and cliché that only the most untalented writer devoid of ideas could have hashed together) The WRITING, if it can be called that, is not even direct to video quality, nor does it demonstrate a shred of respect for the established lore of the previous entries in the series. Why does the Predalien all the sudden have the ability to shoot alien embryos down a pregnant woman's throat to use her as an incubator for chestbursters? More than likely because the brain dead screenwriter needed a way to have more aliens for the predator to fight (and given the accelerated growth time even more so than the first AVP: as quickly as possible. Why must meaningless small talk between cardboard cutouts on sticks (meaning the supposed characters)substitute for real character development? (Remember a character is defined by what they DO, not SAY). Why is the Sheriff leading civilians to a cache of guns? (isn't he an officer of the law?) How does the bimbo of all people know where they are? Why does the Predalien wait for the Predator to VERY SLOWLY remove his mask before it attacks? Why are the aliens still falling into that nasty series-post-Alien 3 habit of hissing all the time to let their prey know to run? How on Earth did this series devolve to a character saying \"People are dying...we need guns!\" (how this writer even works is beyond me, and reflects badly on Fox's already destroyed artistic reputation. It's like everyone involved in the making of this film suffered from a mental impairment or really are that inept at every level of the film-making process. <br /><br />The EFFECTS are pretty lousy this time around. The Aliens look like men in suits and ADI is just getting lazy with their creature design. The Aliens look like modified leftovers from Alien Resurrection, with that same bulky musculature around the arms as if they did not learn from that movie that it was not a good design, nor a good one to recycle. Again, everything is shrouded in such a state of darkness not to create mystery or atmosphere, but simply to hide how bad the creatures look. And just like in AVP, Stan Winston is sorely missed when the fake looking Predator face is revealed.<br /><br />There are too many faults to list so I will just say this: Do not waste your money on this movie. Fox is beyond caring about the fans, as this cheap and trashy film is clearly evidence of. I felt bad having taken my girlfriend to see it (though it was free) and apologized to her profusely after. This is one die-hard fan who is done with the franchise.<br /><br />Note to Fox: What we really wanted wasn't a mindless slasher flick, it was a film adaptation of the original Darkhorse Comicbook, which was better than anything you've produced for this franchise post 1993.<br /><br />Signing off.\n",
            "There really are no redeeming factors about this show. To put it simply, its just terrible. Absolutely dreadful. It's just a dreadful \"reality\" show. Not only that, it's dreadful fiction.<br /><br />Imagine this: A bunch of overly-imaginative teenagers get together one night and go \"Hey! Let's make a paranormal show just like \"Ghost Hunters\" and whatnot!\" So they grab a camera, harass local residents and film random landscapes behind a painfully \"trying-to-be-dramatic-yet-failing-misreably\" monologue. This show is basically a bunch of teenagers running around with a home movie camera trying to make a really bad horror documentary. The only difference is this show actually has a budget and writers. A wasted budget and terrible writers.<br /><br />Oh, the problems, how do I count thee? Well, first off, let's talk about this from a personal level. I am not a total skeptic when it comes to the paranormal. I am willing to believe in whats paranormal and whats not, and I'm sure there are a lot of people who feel the same. So, if you're going to do a show about the paranormal, you have to do a good job convincing the viewer that what they're seeing is either paranormal or not, because the viewer can easily believe otherwise. I hate to compare, but I don't see why not at this point. Take \"Ghost Hunters\" for example. In \"Ghost Hunters\" you can tell that the cast is leveled with the audience. They're not totally skeptical, yet they're still willing to keep the possibility of any paranormal anomalies in mind. They have to look at something and be willing to say \"this is possible that its simply nothing\". And, with that in mind, they set out to try and prove themselves wrong. They use technology and several other gadgets along with constant moderation to determine what is paranormal along with bearing the fact that what they may be monitoring could be nothing in mind. Not only are they trying to convince themselves what is real and what is not, in the process they are trying to convince you. That element of doubt is not present in \"Paranormal State\". Strike one.<br /><br />In \"Paranormal State\", the cast simply says \"there's this spooky place, and its HAUNTED, so we're going to find some SPIRITS!\" And immediately you know and saying to yourself \"Okay, convince me otherwise\". The cast is not professional in their interviews. In fact, sometimes it seems like they're just harassing local residents of these so-called \"haunted\" areas. They have no real evidence to back up their claims besides assumptions and theories, and the best they can must up is somebody who \"claims\" they can contact the dead, with no one ever backing up who this person is and how valid they really are. They could have easily just picked some random person off the street and said \"pretend you can contact spirits for our show\" and went at it. In the \"Mothman\" episode, this just happens. Without any convincing evidence towards the end of the show, they bring this sort of individual out where he does a random, painfully scripted \"reading\" of a supposed area of how something is \"haunted\" in order to convince its audience. Very, very poor effort. I feel that one of the main problems with the show is that it feels scripted. During one of the episodes, the cast gets attacked by one of these \"paranormal anomalies\" at times in an attempt to be dramatic. These sort of dramatic sequences would make any skeptic laugh and even those who are on the fence realize what they're watching is just a bunch of tabloid-esquire trash. If the show's aim was to try and convince their audience that these \"paranormal\" events are real, they're doing a horrifically poor job at doing so. Strike two.<br /><br />However, there is always the counter. Just one last viewpoint to see if the show is actually worth something. What if the show isn't trying to convince you that these paranormal events are real and are simply trying to entertain you with good fiction? It even fails on that level as well. If the show's creators were trying to craft fiction to entertain its audience, the writing is too poor and even on a fictional level, it fails to convince the audience that its cast members are really experiencing the unknown in all its full, horrifying glory. The writing is simply not compelling and even, dare I say, boring. Strike three.<br /><br />So what remains of this show is simply a bunch of teenagers who are too willing or too gullible to believe in the paranormal simply because its simply much more amazing than reality who set out with a camera, a bad script and bad actors to generally just make a really bad horror documentary. Thats all the show is at this point. There is no reason to see it, not even for the entertainment factor, and there's no reason to care about it. To be blunt, its lame. There are absolutely no redeeming factors about this show.\n",
            "It is the early morning of our discontent, and some friends of mine and I have just gotten through watching \"The Wind.\" Truly a disaster film. Not in the sense of forces of nature wreaking havoc on an unsuspecting populace, but rather an awful movie wreaking havoc on an unsuspecting audience. To give you an indication of how frustrating it was to watch this particular bomb, I'll give you an example quoted during my first pained viewing. If given the choice of watching this movie for a second time and, say, boiling myself, I'm afraid to say the choice would not be an immediate one. But rather than simply ranting \"ad peliculam\" with lousy one-liners, I'm going to get specific as to why exactly my friends and I panned this particular film.<br /><br />To start this off, I like low-budget horror flicks. I even like artsy, low-budget horror flicks. I liked \"Cold Hearts\", \"Midnight Mass,\" \"Jugular Wine,\" etc. Films that were ambitious and daring, even if they were lacking in production value, execution and even acting. Generally, an interesting premise, unusual camera technique or merely just a well done scene or two will save a movie that is running a little rough around the edges. With these provisos in mind, I would like to say conclusively that I hated \"The Wind.\"<br /><br />The movie was probably most disappointing in the sense that it was incredibly frustrating to watch. From the actions of the main characters, to the flow (?) of the plot, to the big portents hinted at by the opening which ultimately aspired to dust (and did not even attach themselves logically to what transpired in the remainder of the film, and left the viewer, expecting something more, with a sense of much ado about nothing). The dialogue was spotty at best, woodenly delivered and completely unrealistic. By this I mean, no one in any of the situations that the characters were in would have reacted the way the characters did, or said the things that they said in the way that they said them. There was an obvious lack of vision and direction that would have corrected this problem. <br /><br />Character interaction and development was abysmal. Claire, the \"lambent sex goddess,\" or so the aggravating, passive-aggressive lamesters in the movie thought, was so overt in her manipulations she may as well have pulled a gun on the characters. Nevertheless, she was the shining high point of the film. The other main characters (with the exception of Mick's Milfy Mom, who was not terrible) are so indistinct that they may as well have been portrayed by the same actor. Let's see if I missed anything: borderline personality, co-submissive goons with profound feelings of sexual confusion and inadequacy, spurred to fits of puerile rage through the artless orchestrations of a loose-lipped bimbette-suddenly-and-unmasterfully-turned-Caligari. No, I think that about covers it.<br /><br />Lack of scope was also problematic. How did those involved with the making of this film expect the casual viewer to derive that this was the beginning of the end of the world from this amateurish, unbelievable, poorly-portrayed lust pentagon (well, what would you call it?) that occurred largely in the woods in the middle of nowhere? There were no witnesses to the \"atrocities\" presented. There were no witnesses anywhere in this film.<br /><br />The believability problems stemming from this lack of attention to detail were rife even from the point where the plot begins to sicken. Case-in-point: If that guy Bob took that route through the woods to come home from the gym, and here's the key, ****every day****, there's a jolly good chance that someone else would have been around to see something at some point afterwards while the perpetrators argued vociferously about the crime scene. One would think that with the murder of a young man in the woods, said town would have been in an uproar, the characters would have been questioned, etc. But instead, there wasn't a witness in sight (other than Earl, the closet psychopath with no inner monologue). We suggest that there be no witnesses *for* this film, either. <br /><br />As for the quasi-homosexual meanderings present, I don't have a problem with those either. It's not as if they came as a surprise, considering we had been shouting as to the closet case stati of most of the male characters since the second scene. Again, not problematic in and of itself, but thrown in for the wrong reasons. It was utterly unnecessary, thrown in for pure \"shock\" and/or \"dangerous art\" value, and neither shocking nor dangerously artistic from any perspective. What we had instead was an awkward attempt to redeem a boring, clumsy movie with a boring, clumsy plot. The poorly hinted-at sexual tension, which was only hinted at heavy-handedly in anticipation of this flaccid snogging scene, only pushed this film further down the totem pole from \"mediocrity warranting criticism\" to \"film sucking so bad that it lacks the inherent grace to suck enough to properly mock and harangue.\"<br /><br />So it is with most of the film, a lot of artistic fumbling, very little meat and a lot of aggravation. It's not that we don't get it. Oh, we got it, alright. We just don't want it. Look, the very fact that we were cheering the bludgeoning in the final scene as the *only* tableau that made sense on its face is an indication that something was terribly wrong with this film. Rather than moving briskly along as its name implies, this movie oozed languidly forward like the sweat trail working it's way down the side of your nose while your hands are full. Argh. That sensation pretty well sums up the gut-wrenching frustration realized while watching this train wreck. There is no breath of fresh air with regard to this movie, only the stale miasma of bad ideas poorly realized, putrefying before coming to fruition.\n",
            "Okay wait let me get this street, there are actually some morons on this site who reckon this is one of the better if not the best Halloween sequel. I even read someone saying it was just as good as the original. Pah what nonsense don't believe them I've watched every Halloween and clearly unlike some people knows what makes at the very least a good horror movie and this shower of S is one of the Worst horror movies i have ever seen in my life. Frankly if i was John Carpenter i would sue the person who wrote this either that or go around to his or her place with a hunting rifle. Seriously Halloween sequels in general are nearly all rubbish, two was crap, three was stupid, four is alright, five is well five, H20 alright, Resurrection painful. Yet, in many ways i find this to be the worst of a very bad bunch of sequels. Why? Well let me just embark on some kind of rant not so much a review but a mindless rant on why Halloween 6 the Cure of Michael Myers is one of the most abysmal movies i have seen in a very long time. OK where should i start, ah yes the plot oh boy the plot. Basically the plot is a heaped together mess containing cults, signs of Thor and some other crap. It's just stupid it really is, the film tries to be flashy and intelligent yet, its heaped together in such a horribly made way. Why does Michael Myers got to have a reason for killing people? Simple enough explanation Micahel likes to kill his relatives that would suffice, but no we have to have a man in black and mysterious cults and signs of Thor and utter crap. God its so bad it made me want to cry it really did, the writers have tried to add to the character of Myers but have actually managed to do the entire opposite. Apart from wearing a mask and a boiler suit < which is a completely different colour by the way, Myers just isn't the same guy from the original or even two, heck maybe even four. Thats another thing why has Myers become a Jason Voorhes parody? I thought it was meant to be the other way round, yet Myers is so similar to Jason, all he does is endlessly kill people in gory ways. In the original he teased his victims took his time and as a result the whole thing was far more suspenseful. In this he just walks around hacking people to death. I mean in the space of Half an Hour we had equalled the amount of kills in the original it was just ridiculous. Oh and Myers in this seems to have a really big head, i mean its huge and hes put on loads of weight. What else is crap, oh yeah the return of Tommy Jarvis thats pretty bad, in fact all the characters in this film are crap bar Dr Loomis of course. I can't stand the little kid, i wish he had got it he's really irritating. Our Heroin is boring and not interesting. And her whole family are a terrible bunch of actors. The mother is rubbish, the brother is bad and the Father i mean was this his first part or something? He was like a cartoon villain for gods sake he was actually more evil than Myers < By the way his death is one of the most abysmal i've ever seen i think even Friday the 13th wouldn't come up with something so entirely laughable. What else is rubbish oh yeah Tommy Jarvis, don't know the name of the guy but he really can't act, he tries his best to be serious and all that but i just wanted to laugh at him. I wish he had died in fact if everyone had died it would have been quite good really. There is Dr Loomis a horribly aged and dieing Donald Pleasence by all account. Despite him being on his last legs Pleasance is still the stand out in the brief amount of time he features. Its such a pity that such a corner stone of this franchise had to say farewell in garbage like this. What else is rubbish, oh yeah the bit where the radio DJ gets it. Firstly how the hell did Michael manage to get in that van when five minutes ago he was in his house? Secondly it was just a pointless kill which may boost the body count but is just another peace of nonsense which adds to the drivel that is this film. Its in fact that death which said it all for me in that it was pointless a lot like this film.\n",
            "All I could think while watching this movie was: \"Will it ever end?!\" It was unbearably boring to watch. I was wishing I could just turn it off, but I wanted to do this review justice so I fought the good fight and withstood the torture of watching this movie all the way through so that you, the good reader, need not bear that pain also.<br /><br />This movie sounds like it has a great premise if you read the premise on paper. However, the actual movie does not deliver on this premise at all.<br /><br />The opening scene features a mineshaft in the early 1900's, where they are forcing kids to carry dynamite into the tunnels that aren't big enough for the adults to fit into. This seems to be setting up the premise for an interesting movie. But after 4 minutes, it becomes clear that is not the case. The adults who committed these crimes are never punished; there is no consequences shown in the movie for their actions. The opening scene is way better than, and completely irrelevant to, the rest of the movie. The last time an opening scene misrepresented a movie so grievously was the opening scene of 28 Days Later which was the only good scene in *that* whole movie. Wicked Little Things/Zombies (a movie so crappy they changed the title to try to disguise it's crappiness and sell it again) is exactly the same in this regard. The opening scene is the only watchable scene in the whole movie.<br /><br />Instead, the movie flashes forward to present-day. A single mother and her two bratty, foul-mouthed kids. Right here is when it would have been wise to press the STOP button and never go near the movie again.<br /><br />In the first hour, the zombie kids are barely even seen. They get maybe 3 minutes of screen-time, total. All they do is kill a pig, that's it. The rest of the hour is spent showing the dumb mother and her dumb kids buy things at the local store, wander around the forest, and have inane conversations with each other. The dumb teenage daughter goes and hangs out with some other idiot teenagers and smokes weed with them.<br /><br />There would be no reason to care at all if the zombie kids dispatched anyone in this movie. Every single character is both dumb & annoying, with no redeeming qualities at all. Not to mention one-dimensional and clichéd.<br /><br />This movie would have been *vastly improved* if the mother and her dumb kids were dispatched in the first 10 minutes by the zombie kids, as they were driving up to their new house, then the end credits rolled. That right there would instantly change the score from 1/10, to 10/10. Honestly! When the dumb mother takes her eyes off the road and almost crashes into a pedestrian on the road, her daughter scolds her: \"You almost killed us, mom!\" Of course, anyone with common sense knows that if the mom had hit the pedestrian, it would be the pedestrian who would be dead --- not the people safely encased *inside* the car. I guess this line was put into the movie to show firsthand that the utter stupidity of the main characters knows no bounds, and runs in the family.<br /><br />Wicked Little Things/Zombies runs for 1 hour and 34 minutes, but it definitely felt like 5 hours or more to me. Trying to not fall asleep was a tremendous challenge. It's not until over an hour has passed into the 1 hour and 34 minutes that the zombie children actually bother to kill any person. Then the scene shows the dumb teenagers drinking beer and making out in a car and saying lines like, \"If you ever wanna get in my pants again, you better start the car and get my ass out of here right now.\" Seriously, that's verbatim from the movie. The teenagers are so clichéd, one-dimensional, badly-acted, dumb & annoying that when the zombie kids finally get around to hacking 3 of them up 1 hour and 5 minutes into the movie, it feels like a cause for celebration. Of course the \"Princess\" dumb weed-smoking foul-mouthed beer-drinking loser daughter of the main mother character gets away scott-free. What a buzzkill that was! She was on the screen longer than the others and hence the most annoying of the 4 of them, and most deserving of a pickaxe to the head. All the more reason why she should have been dispatched within the first 10 minutes, as aforementioned. To still keep her around past 1 hour and 5 minutes though, is totally inexcusable.<br /><br />The reason for this of course is that feature length movies need to be padded to at least 1 hour and 30 minutes. So by keeping her alive long-past when she should be, they have an extra 27 minutes to pad the movie with her and her mother running through the woods. By 1 hour and 22 minutes in, it's the *second* time in the movie where the annoying daughter is trapped in a vehicle where the engine won't start whilst the zombie kids are coming to get her.<br /><br />The zombie kids are completely generic. Never say anything. No character development at all for any of them.<br /><br />In the end, all 3 of the annoying, idiotic main characters live. Which in my opinion, is the filmmakers' way of giving a final flipping the bird gesture to the viewing audience. In my opinion, the filmmakers surely know that they have bamboozled anyone who has had the great misfortune to watch the whole movie. Why not rub their faces in it by not even giving them the satisfaction of seeing any of the 3 main characters who should have been dispatched within the first 10 minutes, die.<br /><br />Avoid Wicked Little Things/Zombies like the Bubonic Plague.\n",
            "My qualifications for this review? I own all the Alien and Predator movies & I have and have read almost all the books I can find that are related to this series.<br /><br />I can safely say, this movie is a Stinker. Save your money & don't waste your time. If you like mindless action, mindless gore, no plot to speak of & like being taken by Hollywood, see the movie.<br /><br />If you are a serious Alien series fan, send a message to the over stuffed, over paid suits in Hollywood & 20th Century Fox & don't give them a penny.<br /><br />This movie has so many plot holes in it you could sieve pasta through it. Read the other negative reviews to get the big picture, it has all be said accurately, so I don't have to repeat them.<br /><br />The characters in this movie are cardboard. You want them all dead. And, the movie doesn't disappoint, almost all of them die. Even the hot, bubble headed blond. Do you feel sorry for her? Nope. No plot, no character development....who cares. The Predators are now idiots too. They scan everything but their own dead warrior. They are suppose to be a high technology society, right? In the Predator movie, they scanned the soldiers and the girl to determine who was armed. Trophy kills. In AvP, they scanned Charles Weyland and let him go because he had Cancer. Major Plot hole!<br /><br />Also, the R rating is because they have kids in the movie that get a face hugger, lots of gore and violence and there is one hospital scene where a very large pregnant women is injected with chest bursters. She is implanted by the Hybrid Alien with 4 or 5 eggs in a mouth-to-mouth love scene-orgy and they all hatch in, say, 30 seconds. Sensational gore a plenty, nothing more. These scenes are laughable, not serious. It is almost like the violence happens and the Alien looks at the camera and waits for applause, a thumbs up or a nod of some sort.<br /><br />The Aliens in this movie are all on performance enhancing drugs. They develop fast and spread quickly all over the town, tons of them, everywhere in record spawn time. Pathetic because it does not stick to the series story line and adds nothing to the Aliens, Aliens Predator continuity.<br /><br />I have noticed the positive reviews are written by people who love the gore. Laughable. As a movie, as a continuation of the Aliens franchise and the development of the Aliens vs Predator franchise, this movie is a cheesecake cliché at best. If you have faithfully followed this series, all the rules are broken and the Aliens and Predators are reduced to comic book characters.<br /><br />There is not one fantastic, memorable action scene. There are almost no special effects worth remembering. There are no brand name actors. The plot is as thin as onion paper that ultimately ends with a, \"We have two choices to get out of this mess...The Hospital or the center of town!\". I just about wet myself. The center of town means everyone is going to get nuked by Big Brother who somehow knows the town has been infested because they have an AWAC in the air that can see the infestation on a radar screen in special effects Red Spots. I just about fell out of my chair. Special effects red spot alien radar on an AWAC over middle America. I am splitting my gut laughing.<br /><br />Having to get to the Helicopter Pad made me choke on my popcorn. Has anyone played a game called ZOMBIES!? You have to get your playing pieces to the Helicopter Pad to win. I almost wet myself laughing.<br /><br />The ending is enough to make you shake your head in wonderment. Who did 20th Century Fox hire to write this script!? OH, OH, ask me.... a Grade 5 student. There really can't be any other answer. Oh, yes there can be another answer... Low Budget Cheesecake Sci-Fi.<br /><br />The ending? \"Col. Stevens takes the Predator pulse rifle to Ms. Yutani (Francoise Yip). She tells him that the earth is not ready for the technology it represents. Col. Stevens knows Yutani doesn't want the technology to use on earth.\" You are kidding me, right? Ms. Yutani? Who is Ms Yutani? (forshadow:Weyland-Yutani: The Corporation) She is in the movie exactly 2 seconds and yet, in her infinite far east wisdom, she says the world is not ready for the technology. Seriously??!! The Brothers Dweebs (Strause) as directors? Who is responsible for this hemorrhage-abortion of a movie? They are the Doug and Bob McKenzie of directors and yet Fox entrusted the flailing Alien franchise to them. They are touted as special effects experts and yet the movie is all low budget special effects. Hmmm, I see a pattern. Laughable.<br /><br />This movie is only made to empty your wallet. It serves no other purpose. It has no plot. It has no main characters worth mentioning. It is disjointed. It does not adhere to any of the character principles established in previous movies. It does nothing to advance the franchise. The special effects are lame, minimal and low budget. And, it has no ending to speak of. It is low budget and strictly designed to take your hard earned money. Nothing more.<br /><br />Save your money. Either watch it on TV where it will very quickly end up. Buy a bootleg or miss this bleeding ulcer altogether. There is a reason why Fox did not Preview this movie to the critics. The critics would have eaten this mess alive and no one would have gone to the theaters to see it. JR Giger, the original creator, is at this very moment, leaning over a toilet spilling his lunch.<br /><br />20th Century Fox, this movie is a stinker. It is as bad or worse than Alien 3. You insult us. <br /><br />Flush now...\n",
            "I remember seeing the very first trailer for Underdog back last March, I also remember at the time smiling to myself ever so slightly. Sure it was a cheesy idea, but I genuinely thought at the time the concept might work, hell it couldn't be any worse than the disappointing Cats and Dogs could it? Then by December and I suddenly remembered the film I realised how likely the film was to suck, the fact it had been delayed in the UK made it seem inevitable it would be terrible, but the horrendous reviews just made me realise it was nigh on impossible for the movie to be any good. Still I swallowed my feelings and went to see the film with a friend today, as I entered my screen I was mortified, it was the very first time I'd be seeing a movie with a friend and being the only two in the screen! Little did I know for what I was about to endure. Underdog to put it blunt is horrendous, it really is. Imagine how bad you could think this movie is and then prepare yourself for a movie even worse, that is just how pathetic the movie is. While it aims to entertain kids it just seems an embarrassing mess that seems to insult kids rather than allow them to enjoy the movie. Matters cannot be helped by the fact that the story is beyond lacklustre, the acting is generally poor, and the movie just feels like an over-long, tired and downright boring Saturday cartoon! After a brief five minutes where I thought the movie might be passable the movie just suddenly seems to die and then limp on towards the already sign posted finale. I'm just amazed the movie was actually ever released, it's an embarrassment to Disney, hell half their straight to video sequels are better than this! What's even more terrifying is the fact the ending leaves room for a sequel!<br /><br />So lets get onto the acting (cracks knuckles). Okay let me be honest Jason Lee is decent, his voice suits the canine, and had he have been given a decent script he might have made the performance work. However, with such a dodgy script he just seems to flounder. In many ways it reminded me of Bill Murray in Garfield, Murray did what he could with what he had, but what he had wasn't enough to make it passable. Then we get onto the human actors, and well the majority of atrocious. Alex Neuberger plays the friend of Underdog, Jack. My biggest concern is that anybody would even take him seriously in an audition. The scene where he gets to fly with Underdog is perhaps the most cringe worthy scene in the past few years just because his acting is so poor. Not once did I believe he was a real person, in fact part of me is still convinced he was a robot made specially for the movie! James Belushi seems half dead in the film, he has nothing to work with, no decent lines, he just seems to wander around the set waiting to become relevant to the plot, which the writers try to do towards the end but do it in such a poor way its laughable. Thankfully Peter Dinklage is the one redeeming factor of the movie, he is great as Dr Barsinister and seems to be having a laugh in the role. He steals every scene he is in, although that's hardly difficult when he shares screen time with the extremely annoying Patrick Warburton. The rest of the cast are even worse, especially Taylor Momsen, she just needs to end her acting career right now!<br /><br />Underdog also fails dramatically in terms of delivering anything like a funny scene. When the funniest scene involves Underdog biting a can and causing dog food to explode everywhere you know there is something drastically wrong. This could be easily ignored if the movie had decent action or a good story, alas the movie is even worse in both of these terms. The effects are so ropey that any scene where Underdog flies just seems absurd, and the dog uses his powers to such little effect that you frequently forget he has superpowers. What's the point in making a film about a super dog if the damned dog never appears super? The final fight also verges on embarrassing purely because its ten minutes of nothingness, the dog flies, other stuff happens, some stuff gets chucked about, all of this is irrelevant as this stuff is happening for the sake of stuff happening. The script as well is dodgy at best and downright pain inducingly awful at worst. When someone says \"Look its a plane, no its a bird, no its a frog...\", yes you read that right, I just wanted to burst into tears there and then. Actually I wanted to walk out by remained compelled to see whether it could get any lower than that point, this happens near the end so it doesn't thankfully.<br /><br />Overall Underdog becomes the worst movie of 2008 at this early period, and is actually just as bad as last years Epic Movie. Luckily for Underdog, Meet the Spartans arrives over here soon and I expect that to be even worse. So in case you didn't get the point of my review, avoid the film at all costs, if you want to see a movie with a dog then watch Cats and Dogs, buy a real dog if necessary, just do not see this!\n",
            "...the first? Killjoy 1. But here's the review of Killjoy 2:<br /><br />(contains spoilers, so beware readers)<br /><br />Oh my. Oh, my, my, my. I'll start off with telling you that I had no hopes in the least bit that this movie would be good. Considering that Killjoy (the first movie) is without a doubt the worst movie ever made, the sequel didn't have much promise.<br /><br />As expected, it didn't deliver.<br /><br />The deaths were even lamer than in the first movie. There was absolutely no eye candy whatsoever, and every single prop looked so fake that I wouldn't be surprised if they had a kindergarten class make them.<br /><br />Look, I don't even know where to begin. Hm, for starters, the movie wasn't even feature length. It was only an hour and eight minutes long (68 min.), but then again, ending it early was actually a reprieve. In fact, that's the only reason that this movie wasn't as bad as the first, because the first was longer.<br /><br />Usually, I don't give spoilers in reviews, but since I don't want any of you to go through the torture of watching this waste of film, I'm going to spoil away. Not that there's much to spoil.<br /><br />Let's start with the ending. KILLJOY IS THE PUSSIEST KILLER EVER. It takes explosions, firebombs, guns, etc. to kill all of the normal serial killers in horror movies. Guess what it took to kill Killjoy? A F***ING GLASS OF WATER. No lie. In the end, a girl picked up a cup of water and threw the water on Killjoy's face. Then Killjoy started screaming, and they tried to make it look like his face was melting by putting dried rubber cement on his forehead. Then he laid there, and the people went to sleep.<br /><br />Now let's hit the acting. VERY TERRIBLE. Not even one person was believable in the least bit. I don't even know what to say, other than it looks like they just hired a few hobos living on the streets to act in this film.<br /><br />Seriously, I honestly doubt that they spent any more than 100 dollars total to make this movie. They had nothing. Most of it took place in the woods, which wouldn't have cost them anything to film on. The actors weren't giving in any effort whatsoever, so it's blatant that they were probably \"working\" for free. They didn't have any kind of special effects or nice props, and they probably used ketchup for the blood. Hell, who am I kidding? They probably didn't even spend 100 dollars. They probably spent $3.29 on a bottle of ketchup and that was it. A f**kin' movie made with a budget of $3.29.<br /><br />For Bob's sake, they couldn't even afford to rent a cop uniform. In the end, after Killjoy dies, the girl wakes up and says \"Where is he?\" and the main woman replies, \"He's gone.\" Then, suddenly, some fat goofy guy with scars on his face pops out of nowhere with a cell phone saying \"You have a phone call.\" The girl answers and says \"Oh, hi mom!\" and smiles. Then the fat goofy guy walks along to reveal that it's a police officer. However, he's wearing khaki pants, and a regular button up green shirt, with a lame badge on the front pocket. Hell, it was probably the badge that the director got when he was in safety patrol in 3rd grade. Then they all got into a tan blazer and drove off as the credits rolled. They couldn't even get a police cruiser so they just got a tan blazer. F**kin' lame. Killjoy didn't even have the ice cream van that he had in the first movie.<br /><br />Killjoy is without a doubt the most flamboyantly gay slasher EVER. If there was a slasher that wore hot pink spandex and carried a rainbow flag, he STILL would not be as gay as Killjoy. Killjoy isn't funny either (and believe me, he DID try to be).<br /><br />The only good thing about this movie is an extremely lame threat given by one of the delinquents. Somebody makes a comment to some boy about not passing third grade, to which the boy responds, \"I'll show you third grade!\" in a threatening manner. That has to be the absolute worst threat that I've ever heard. \"I'll show you third grade!\"<br /><br />This movie doesn't even work on a \"so bad, it's good\" level. It's filth. Unless you did something bad, and you are feeling so guilty about it that you want to punish yourself severely, DON'T watch this movie.<br /><br />Just remember; if a flaming homosexual clown with a huge black afro tries to bore you to death with gay jokes (and attempt to kill you at the same time), just throw some water at him. Case closed.<br /><br />FINAL RATING: .1 out of 10\n",
            "The Bone Collector is set in New York City & starts as one of the world's foremost criminologist's & crime scene experts Lincoln Rhyme (Denzel Washington) is involved in an accident which leaves him a bedridden quadriplegic. Jump forward four years & Alan (Gary Swanson) & his wife Lindsay Rubin (Olivia Birkelund) are kidnapped, soon after New York cop Amelia Donaghy (Angelina Jolie) is called to a crime scene & finds the buried & mutilated body of Alan. Amelia notices some unusual crime scene evidence & makes a note of it which impresses Rhyme when he is asked to work on the case, he quickly realises the evidence are in fact cryptic clues to the whereabouts of Lindsay. Having cracked the clues the cops get there too late to save her but this is just the beginning as a sadistic serial killer continues to kill & leave forensic clues for Rhyme & the police...<br /><br />Directed by Phillip Noyce I watched The Bone Collector last night & I have to say it's one of the worst big budget post The Silence of the Lambs (1991) & Se7en (1995) serial killer thrillers I have seen, in fact it makes Friday the 13th (1980) look sophisticated & realistic! The script by Jeremy Iacone was based on the book by Jeffery Deaver & is so poor on so many levels I hardly know where to begin. For a start it takes itself deadly seriously & that makes all the other flaws seem twice as bad. The character's are truly awful & I didn't believe any of them were actual human beings. First we have Lincoln Rhyme who is paralysed from the neck down & there's just not a lot the script can do with him, in fact he quite literally can't do anything but lie in bed for the whole film. He is seemingly impressed with Amelia because she stopped a train & thought a fresh footprint near a murdered person might be of relevance, I'm not being funny here but wouldn't any cop realise a footprint near a murder victim might be of some relevance? Why is he so impressed with her? Then there's Capatin Cheney who is not only unlikable & shouts at everyone for no apparent reason but is so incompetent that he failed to connect several murders committed in a short space of time where each victim had sections of flesh & skin surgically removed from their bodies, how exactly did this guy get to be a police Captain? Then there's the killer whose motives are less than plausible, are you trying to tell me they devised an intricate plan to murder at least seven people because they spent six years in jail for something they actually did? If they wanted revenge on Rhyme why did they kill all those other people who had no connection to anything, I could maybe just about buy someone wanting revenge against the guy who put them away but not to kill several other people who have no connection to themselves, the intended target Rhyme anything else. Also after devising an intricate plan to kill these people & get away with it they suddenly turn into the most stupid person in history as despite holding a large knife & being able to walk & use their arms they are actually defeated & nearly killed by a quadriplegic who has no movement in his body below his neck! How did that happen? I should also mention Amelia who is a terrible character, she actually buys her own camera to take crime scene photo's & shoots rats for no apparent reason.<br /><br />Besides some of the worst written character's ever the story & plot isn't much better We never find out why the killer is using The Bone Collector book as inspiration We never find out why the killer was taking strips of flesh from his victims. It's never explained why a rookie cop like Amelia is allowed to enter crime scenes even before the proper forensic teams. There is no reason given for why the killer chooses his victims. Also the killers clues are a little obscure aren't they? I mean a bloody animal bone & shaved rat hair? Logically how does someone go from a bone & rat hair to the exact pinpoint location of the next victim & has the whole of New York to choose from? There's some nonsense about a bird that sits on Rhymes window ledge which is just totally random & at almost two hours The Bone Collector is really slow going. There is so much wrong with The Bone Collector & it all comes down to one of the worst scripts ever, it's atrocious on all levels & has zero credibility. Apparently Angelina Jolie has stated that she shot nude scenes for this film but they were cut because they were felt to be too distracting.<br /><br />With a supposed budget of about $48,000,000 The Bone Collector is well made with good production values & that Hollywood gloss about it. I also must add right now that I think Angelina Jolie gives one of the worst performances I have ever seen, I think she is absolutely terrible in this. Denzel Washington just sort of lies there really, Queen Latifah is awful & even Michael Rooker can't do much as he is stuck with a clichéd & one dimensional character.<br /><br />The Bone Collector has to be one of the worst Hollywood films I have seen in a while, I saw it for free on telly last night & I still feel cheated & ripped-off. There are just so many things to poke holes at it's silly, embarrassingly awful or should that be awfully embarrassing? Works either way to be honest...\n",
            "Komodo vs. Cobra starts as 'One Planet' environmentalist Jerry Ryan (Ryan McTavish) & his girlfriend Carrie (Renee Talbert) hire Captain Michael Stoddard (executive producer Michael Paré) to take them to an island in the South Pacific, at first Stoddard is reluctant since the island is a top secret military research base but soon changes his mind when a load of cash is offered. Along with TV news reporter Sandra Crescent (Jeri Manthey) they set sail for the island & once ashore find out that the military have been funding illegal DNA genetic experiments which have resulted in huge Komodo Dragon's & King Cobra's that have eaten almost every other living thing there & Stoddard & co are next on the menu...<br /><br />Co-written & directed by the ever awful Jim Wynorski under his Jay Andrews pseudonym this is just plain awful, this is just plain hard to sit through & is even worse than the usual rubbish 'Creature Features' the Sci-Fi Channel have the nerve to air if that's possible. The script is terrible, predictable & utterly boring, some giant monsters of some sort are created by scientists messing around with DNA, a group of people are trapped with said monsters & have to try to escape being eaten. That's it, that's the whole plot of Komodo vs. Cobra, maybe this was trying to rip-off AVP: Alien vs. Predator (2004) with the title but all the 'vs.' bit amounts to is a rubbish thirty second stand-off between the two titular beasts at the very end, boring as hell & surely a big disappointment to anyone hoping to have a full on monster mash. The character's are poor, the dialogue is awful, the pace is slow, the story is predictable & cliché ridden & the whole film just sucks really with a lazy script that states wrongly that both Komodo Dragon's & Cobra's are amphibious which they are not. Hell, Komodo vs. Cobra isn't even worth watching for any unintentional laughs since it's so dull & hardly anything ever happens although the sight of a woman hiding behind the smallest rock on the beach from the Cobra is quite funny for the wrong reasons.<br /><br />How does Wynorski keep getting directing jobs? He is probably consistently the worst director currently working, how can he keep getting fun sounding films set on beautiful locations with half decent casts & still churn out such an awful film? I think this was cut to get a PG or for it's TV showing since every time someone swears it's masked by a Parrot squeak! There's zero gore or violence & the monster scenes are limp, people just sort of stand there, the monsters just sort of stands there too hissing or roaring & that's about it. The CGI computer effects are terrible, this is really poor stuff that just looks horrible.<br /><br />With a supposed budget of about $450,000 this looks as cheap as it was, the Hawaiian locations are nice to look at but that's about it. The acting is poor from an uninterested looking cast.<br /><br />Komodo vs. Cobra is an absolutely terrible Sci-Fi Channel 'Creature Feature' from Jim Wynorski, films don't get much worse than this.\n",
            "Mom begins at night in the middle of nowhere, at what looks like a wooden building in the desert. A pick-up truck pulls up & an angry Father chucks his slutty daughter Virginia Monroe (Claudia Christian) out & leaves her there, but she isn't alone as the shadowy figure of Nestor Duvalier (Brion James) watches her from a short distance. Virginia tries to make conversation but as she grinds a cigarette out under her Leopard print, thigh high, high heeled boots Nestor grabs her by her throat & drags her off into the darkness. Nestor then rips her top open, turns into a monster & starts to eat her innards. Virginia is the latest victim of a serial killer that have Lieutenant Carlo Hendrix (Art Evans) & the LAPD baffled, or at least that's the message a local TV news reporter named Clay Dwyer (Mark Thomas MIller) is telling his viewers. Clay is happily living with his pregnant girlfriend Alice (Mary Beth McDonough) & therefore his Mother Emily (Jeanne Bates) has a spare room going which she decides to rent out to the 'blind' dark sunglass wearing Nestor. Unfortunately for Emily she accidentally knocks Nestor's sunglasses off which reveal he has strange coloured eyes, Nestor then turns into a monster again & bites Emily turning her into a flesh-eating monster just like himself. Nestor takes Emily out to train her, they find a suitable homeless bum (Rory VanSaint), murder him & eat his guts but Emily's son Clay has witnessed the whole thing & he must choose between doing what is right & his love for his Mother who now just happens to be a grotesque bloodsucking & flesh-eating monster!<br /><br />Edited, written & directed by Patrick Rand I thought Mom was a pretty awful film. Looking at some of the other comments on the IMDb & the genre listing it has been given it appears many seem to think that Mom is a comedy horror. Well I can tell you now that I didn't see any comedic elements in Mom at all because there aren't any, unless they are very subtle. The only thing that I can assume is that people see comedy in the actual situation which Mom presents, that being an old lady turning into a flesh-eating monster & the predictable problems & emotional angst that it causes to her son who finds out. There are no jokes (apart from naming a prostitute Beverly Hills (Stella Stevens)), slapstick humour or anything even remotely funny in the film itself & as far as I could see it is played totally straight throughout it's 90 minute run time. So with there being no comedy in Mom that must mean there's lots of horror right? Wrong, Mom sucks & is painfully slow to watch especially after the first thirty odd minutes which consist of Nestor turning into a monster a couple of times, biting Emily, showing her how to hunt for food & Clay finding out. Until this point Mom was moving at a fairly decent pace, had some OK special make-up effects & had me interested, unfortunately Mom runs for another hour which is basically the emotional crap suffered by Emily's Son, the eventual breakdown of his marriage & him being torn between love for his Mother & the fact that she's a flesh-eating monster. This part of the film is incredibly slow, boring & as dull as dishwater even having the nerve to resort to a clichéd role-reversal scenario where Clay tells his Mom to go to her room & stay there locking the door behind her, telling her off & putting bars over her window so she can't escape her room. Mom's script totally ignores the monsters origins & ask's us to just accept that this thing exists without giving a single reason why we should, no matter how silly an explanation might have been I think some background to the monster would have helped. Technically Mom is bland & cheap looking, although I can't say it's badly made it's very average stuff all the way with nothing that particularly impresses or anything with which I could make fun of to pass the time. The special make-up effect's on the monster are OK but their used in very quick flashes, blink & you'll miss them. Don't be fooled by any fancy video box artwork like I was, the monster is only in it three times maximum & all of those are within the pacey first thirty minutes. There isn't much gore either, a severed arm, some brief intestine eating, a burnt body & a drill in someone's arm is all we get. The acting is OK but please Mr. Brion James what is that dodgy accent all about!? At least James had the good sense to know he was in crap & sensibly opted to be killed off early on in the proceedings, everyone else are nobodies expect the black Lieutenant who was also a black police officer in Fright Night (1985) but you may recognise him from Die Hard 2 (1990), he made Mom & Die Hard 2 in the same year?! Talk about opposite ends of the spectrum! Overall there is nothing by which I can really recommend Mom as a horror film & it certainly isn't a comedy as far as I'm concerned. Very poor, very disappointing & yet again I've been conned by fancy video-box artwork with lots of stills of cool looking monsters. Definitely one to avoid.\n",
            "Interferencia starts as unemployed Martin Sanders (Andres Bagg) hears something strange on his phone, he hears a mysterious man talking to a prostitute named Diana & arranging to meet her. Soon after Martin reads a local paper & sees the front page story about a prostitute being murdered & thinks back to what he heard. Martin confides in his friends Laura (Virginia Lustig) & Aaron (Oliver Kolker) but they don't believe him. Then shortly after the same thing happens again, the phone call, the man, the prostitute & her death reported in the papers. Martin decides he has to find the killer & put a stop to his killing spree but who is it?<br /><br />This Argentinian production that was apparently shot in just eight days (why so long?) on a budget of about $3,000 (why so much?) was written & directed by Sergio Esquenazi & I cannot believe some of the glowing comments Interferencia has on the IMDb. Out of 195 user ratings as I write this 113 of them rate this pile of crap 10 out of 10, I am sorry but there is no way anyone should be giving a film this bad a quite literally perfect score of 10 out of 10. If a score for a film on IMDb is fixed then this is it, I honestly don't believe that if you showed Interferencia to 195 average people that well over 100 of them would rate it as being absolutely perfect, no way on Earth. The user comments are also amazingly positive, all by IMDb users who have only wrote comments for one film, this. The one user (besides me) who has actually written more than one comment gave it a rock bottom 1 out of 10 which sounds just about right. Everyone is entitled to an opinion but I would stake my life on the fact most of those positive comments are from fake accounts set up purely to big this piece of crap up. Where do I start? How on Earth can I adequately describe how bad Interferencia is? The plot is a mess that basically lives or dies by it's terrible twists, while most twists turn a plot on it's head & alters the perspective of everything that has gone before in a clever & relevant way & are genuine surprises here in Interferencia the twists destroy the first half of the film & makes it utterly pointless in a 'it didn't actually happen' sort of way & the twist is so poorly handled that it leaves you asking more questions than it answers. What made Martin go mad? Why did he imagine the phone calls? Why did he imagine a killer? Why did he imagine the newspaper headlines? No explanation is given for Martin's behaviour during the first hour or so of the film, there's just this absurd revelation that it was all in his mind & that's it, that's all the exposition there is. Then there's a plot twist about Martin's missing wife & her lover before Martin for reasons unexplained starts to kill his friends for no apparent reason. I am sorry but Interferencia is so bad, it's so boring, it's so badly written & thought out that I honestly can't think of a positive thing to say about it. Sorry guy's but that's how I feel, quite simply Interferencia is one of the worst films I have ever seen & is a complete mess both conceptually & technically.<br /><br />According to the IMDb Interferencia was hot in just eight days, to be honest it doesn't feel like that at all. Nope, it feels more like it was shot in five days! The whole film is an eyesore, Interferencia has probably the worst nighttime shooting I have ever seen. It's like no attempt was made to light the scenes, it's like the makers just went into a dark room or basement or whatever & just shoot the scene regardless of whether you could see anything. The scenes set outside in the daytime have this horrible unnatural blue green tint to them for no apparent reason which just looks daft & becomes increasingly irritating. This strange tint is not repeated on indoor scenes so they are also quite jarring & noticeable. There's no real horror or scares, in fact I would say Interferencia is more of a thriller than a horror. As far as gore goes there are two decapitated heads in a fridge, a knife is stuck in someones mouth & nothing else.<br /><br />According to the IMDb this had a budget of about $3,000 which makes Interferencia one of the lowest budgeted films ever commercially released surely? Some people think just because a film is low budget all reasonable viewing standards should go out of the window & we should accept any old crap, wrong! To watch this on DVD you will still have to pay good money & I personally think we have the right to expect some sort of good product. If this can get released & praised like it's Oscar worthy then we can all release our holiday camcorder footage (including embarrassing karaoke footage & scenes of total blackness as we forgot to take off the lens cap) & win top prizes at the next Cannes film festival! The acting is awful although the female lead Virginia Lustig is actually rather sexy & helps ease the pain of the final twenty odd minutes as she features a fair bit.<br /><br />Interferencia is an absolutely terrible film, seriously I beg you don't be fooled by all the fake positive comments, there is no way anyone not involved in this or have some sort of agenda is going to give it a 9 or 10 out of 10. An amateurish mess that is truly horrible to sit through. Sorry but that's the way I see it, sometimes you have to be cruel to be kind... you have been warned!\n",
            "Snake Island is one of those films that, whilst one sits and watches its amazing level of stupidity, makes one wish the film camera had never been invented. The real reason why Plan 9 From Outer Space will hold onto its honoured title of Worst Film Of All Time for a while to come is not so much because of how bad it is. It is because of the fact that it is the most entertaining bad film you will ever see. Snake Island is the other kind of bad. Snake Island is just so bad that it is excruciating. A stupid premise combines with a script that was written by monkeys tapping one-key typewriters onto transparencies that were then overlapped in order to resemble dialogue to make the most obvious problems here. Filmed entirely on location in South Africa, the environments in which the film takes place are about the only element that can truthfully be considered well-realised. Many shots involving snakes consist of close-ups so surreal in appearance that one begins to wonder whether said snakes are CGI, puppets, or real snakes that have been fed really hard drugs.<br /><br />William Katt stars, if you can call it that, as an author traveling to an island resort on what appears to be a river ferry. Coming along with him is an assortment of very generic, poorly-defined characters. It is all a matter of random screen writing as to who survives to the end, but Katt certainly appears to be contemplating firing his agent. The rest of the cast seem to be from the Home And Away acting school, where any contemplation of an unpleasant plot point is accompanied by open-mouthed gaping and darting one's eyes about in every direction. The foley effects are often worse, with one memorable scene where a double-barreled shotgun sounds like the rather flat sound effects that used to accompany gunshots in such games as BioForge. Meanwhile, snakes continually explode or jump about at random. It would have been more accurate to call the film Snake Holocaust.<br /><br />Of course, no Z-grade horror or sci-fi film is complete these days without gratuitous scenes of nubile women in a state of undress. As every woman in the cast, almost, gets their clothes off, the film starts to become less Snake Island and more Snake Island Orgy. But like all the worst piles, all there really is in this case is a lot of setup with no real payoff. The sex scenes never eventuate, and the deaths of characters are so flat, so uninteresting, that the entire film becomes pointless. Unless you consider watching William Katt running through a muggy forest wearing ill-fitting cricket gear and smashing snakes in all directions with a cricket bat a payoff. For the record, I don't. I used to think that Anaconda was the worst film ever made about predatory snakes. I was so very, very wrong. At least Anaconda had a snake one could be afraid of if they suspended disbelief for quite some time. Some of the snakes shown killing the human cast are no bigger than the shoelaces from some pairs of combat boots I have worn.<br /><br />So we so far have the checklist for bad horror films running along nicely. The unrecognisable, lame cast are accounted for, as are poor audio and visual effects. The dialogue is so wretched, so ill-timed, that I have seen better writing and delivery during some of the school plays I have acted in many moons ago. Unfortunately, where Snake Island falters in this respect is the area fatal to all bad films. In essence, it forgets to be so bad that it is funny. It is so bad that it stops being good after the opening credits and becomes painful the second that the cast start to speak. Compared to William Katt's performance in Snake Island, Jon Voight's performance in Anaconda was as Oscar-worthy as Russell Crowe's in Gladiator. Not that Voight or Katt are necessarily bad actors, but with material like this, you're hard-pressed to say a single word naturally. Listening to some of the lines here was like being the victim of a violent crime. One's mind tends to blank out the experience, primary as a self-defense mechanism.<br /><br />Because of the aforementioned failure to be entertainingly bad, I gave Snake Island a two out of ten. My special score for films that are so bad they cannot possibly be good, but not bad enough to entertain. It is all just so boring or pointless that one might as well be watching the test pattern. The proper way to spell \"crap\" is S-N-A-K-E-I-S-L-A-N-D.\n",
            "Plankton, or Creatures from the Abyss as I'm positive it's more commonly known as & filmed under as the title Creatures from the Abyss appears over a moving image & in the same font type as the rest of the credits, starts with five 20 something kids, Mike (Clay Rogers) his girlfriend Margaret (Sharon Twomey), sisters Julie (Ann Wolf) & Dorothy (Loren DePalm) & an annoying idiot named Bobby (Michael Bon) whom decide to all fit into a small rubber boat & head out to sea, don't ask why as I don't know. Oh & the complete idiot Bobby left the petrol behind & never thought to tell anyone so it comes as no great surprise that they end up stranded out at sea without any petrol for the motor & to make matters worse they become trapped in a thunder storm & discover a dead body floating in the water. Shortly after their luck seems to change when they come across a yacht & potential safety, in a flash everyone boards the yacht & begin to explore. First of all they find a scientific lab with various fish specimens & computer equipment, then down below they find fully furnished & luxurious cabins. They find a chemist (Deran Sarafian) who appears mad & can't talk. They eat fish from the fridge which makes Dorothy puke up green vomit, beetles & slugs. They learn that these fish are living fossil's 1000's of years old & have been contaminated by toxic waste dumped in the sea & that they fly, mutate, bite & are generally unpleasant to be around. I really can't be bothered to go on with this plot outline so I won't, here's what I think...<br /><br />This Italian production was produced & directed by Massimiliano Cerchi under the pseudonym Al Passeri (I'd hide under a different name if I made a film this bad too) & I think Plankton is quite simply one of the worst films ever, there are so many things wrong with this film it's difficult to know where to start. First the script by Richard Baumann is total crap, it makes no sense whatsoever & is so slow & dull it was torture for me to sit through. Why would five people just simply set sail for the middle of the ocean on a rubber dinghy barely big enough to fit them all in? What were they planning on doing exactly? Why do we often get point-of-view shots from these fish creatures but they seem to be totally invisible to the characters as they are never shown on screen even though they are right next to a character, & how do these fish get around the boat as there is no water for them to swim in? People's actions & reactions to things are all wrong, they constantly split up, they make bizarre decisions that simply don't make any sense in the situation they find themselves in & some of the dialogue is as awful as anything I've heard. I could go on all day about all the plot holes & ridiculous goings on but I'll run out of space if I do. The fish creatures themselves look awful, a mixture of rubbish rubber puppets & some really bad stop motion animation at the end, the scenes where they interact with the human cast also look terrible with some bad super imposition. I have heard a lot of comments saying that Plankton is gory, don't make me laugh! Forget it there is virtually no blood or gore in Plankton whatsoever, there are a couple of slimy scenes when Bobby transforms into a fish monster while having sex with Julie but it's pretty brief & he doesn't kill her, he just sort of drips slime on her, grows a couple of tentacles & a fish head comes out of his mouth. Later on Julie's vagina starts to drip some dark slime but that's it, we never get to actually see what happens to her or what the slime is. Dorothy has a fish creature come out of her back, off screen, & control her but again we never get to see what happens to her while Margaret commits suicide, a very brief shot of a plastic harpoon stuck to her forehead. Easily the grossest scene is when Dorothy pukes up that green stuff with what looks like beetles & slugs in it. That's it, only one person actually dies on screen & for the most part Plankton is quite tame & as exciting as watching paint dry & I nearly fell asleep it's so boring. I can't see how anybody can like this total crap, I just can't. The acting is awful, the dubbing is awful, the characters are awful & I hated all of them. Tecnically Plankton is predictably crap as well, with an estimated budget of only $250,000 all I can say is where did the money go? The sets are monotonous & dull with one lab & a few cabins, the special effect's are bottom of the barrel stuff including the most fake looking exploding boat ever, the cinematography is bland, the music sucks there is zero atmosphere or tension & as a whole Plankton, like it's name sake, is as low in the food chain as it could possibly be. I hate Plankton, it's awful in every single aspect of it's overlong 86 minute duration. Do yourself a favour & avoid this one at all costs unless your either a masochist or insomniac.\n",
            "Rose  Does anything actually happen in this episode? It introduces our two leads, a slow-witted grinning idiot of a Doctor and an utterly un-interesting companion. There's no plot to speak of, childish humour, mixed with some extremely bad pacing and incidental music. What else is there to say, really?<br /><br />The End of the World  A marginal improvement, in that we see our first outer-space scenario. Subsequently brought down by poor contemporary humour, paper-thin logic, very poor pacing, and tired SF clichés.<br /><br />The Unquiet Dead  Best episode to date showing what can happen when someone knows how to structure an episode, write interesting character dialogue, AND integrate an intriguing plot. Let down solely by the Doctor and Rose.<br /><br />Aliens of London/World War Three - Doctor who degenerates into farce. What more can be said. Penelope Wilton brings the proceedings a little gravity, trying her best in dire circumstances. Some poorly written, and out-of-place soap opera elements come to the fore in these two episodes, and a return to poor pacing, bad plotting and cringe worthy humour/satire.<br /><br />Dalek  Not great, however still far above the RTD fare to date. The pacing and script are all fine (though the Doctor and Rose still irritate). The effects and menace of the Dalek are introduced well. The finale, however, took an interesting premise that reduced the Doctor's most notorious foe, into a cuddly touchy-feely mess, and turning a previously un-seen menace, to a blue rubber squid that looked like a child's toy.<br /><br />The Long Game - The first RTD script to show any plot, even if it was in a clichéd 80s style. Still, it was marred somewhat by his usual over-reliance on juvenile jokes, placing it too far in the future to make logical sense, and again poor pacing. Not as bad as his previous efforts, but instantly forgettable.<br /><br />Father's Day  The initial premise could've been vaguely interesting, but common sense and logic abandon this episode from the very beginning. Also, we are treated to a whole episode of Soap Opera. Before you start thinking this is all about characterization, remember, there's a big difference between lame Soap Opera and characterization. On the plus side, it does prove RTD isn't the worst script writer so far.<br /><br />The Empty Child/The Doctor Dances - This started off in a mediocre way, with some cringe worthy moments, and some illogical mistakes that even a primary school pupil wouldn't make (Well lit windows in a blackout, anyone?). After this, the first part takes a more interesting and sinister turn. Florence Hoath truly steals these episodes, showing us what an interesting companion could've been like. She could also act. Instead we get the annoying and politically correct Captain Jack as the new companion. The conclusion was a little hasty, but sufficient. The pacing and script improved with a reasonably good storyline, making these two episodes quite atmospheric and intriguing. <br /><br />Boom Town - I have to be honest, except for a few examples, I had been so disillusioned by the current series, that upon seeing the trailer for another 'Slitheen' episode, I gave up and didn't subject myself to the torture.<br /><br />Bad Wolf - Reality TV, arguably the worst facet of the modern media, is basically used as the premise. There's no subtlety whatsoever. Do we get any interesting social commentary as in the likes of The Running Man or Truman Show? No, of course not. This in an RTD episode, so they're basically here to cynically try and pull in the audience of said shows. Once again, logic goes out the window, as we're placed 200,000-something years in the future. RTD tries pointlessly to shoe-horn in some 'over-arcing' story here, with no relevance other than it's own existence and when the villains are revealed at the end... They make empty threats, and the Doctor grins once more like an idiot for the climax! Faster paced for the most part, than RTD's other efforts, this has one or two interesting moments. Otherwise, another lacklustre instalment.<br /><br />The Parting of the Ways - The big finale. More of a damp squid, literally. All of the Dalek menace set up in 'Dalek' is brought crashing down, as they become rather pathetic. So many plot holes riddle this episode, with typically poor contrivances. Daleks want to harvest humans as Daleks, but then vaporize entire continents? Dalek's can vaporize said continents, but not destroy the Tardis in space? The Tardis is now indestructible and can land anywhere, even over people so they can be saved in it? This ability can't be used to easily destroy the Dalek 'god'? The Daleks can vaporize entire continents, but don't just nuke satellite 5 to destroy the doctor, and instead let him play around? The doctor is a pathetic coward without the conviction of his actions, after eradicating his whole species to try and eliminate the Daleks? These and many other holes aside, we are treated to the lamest dues ex machina solution ever conceived, joined with a near pointless story arc.<br /><br />So what can we say about the new series, all-in-all?<br /><br />Would this have gained a second series if it were anything other than Doctor Who, with RTD behind it? Would most of the episodes have been seen as anything other than un-original and forgettable, if they were anything other than Doctor Who, and had RTD's name attached? I think not.<br /><br />Some people would have us think we can't say anything against RTD, since we owe him for bringing Doctor Who back to our screens. However, this at the expense of good characters and stories. Personally, I'd rather not have a poorly planned, ill conceived product, churned out at that price. I'd rather wait till someone could come along and make a genuine effort. For the most part, this is the kind of puerile rubbish that gives SF a bad name, marring what is otherwise the most creative genre.\n"
          ],
          "name": "stdout"
        }
      ]
    },
    {
      "cell_type": "markdown",
      "metadata": {
        "id": "j7s4YxBm9XSE",
        "colab_type": "text"
      },
      "source": [
        "## свои функции"
      ]
    },
    {
      "cell_type": "code",
      "metadata": {
        "id": "w1BqvXUZ9gqe",
        "colab_type": "code",
        "colab": {}
      },
      "source": [
        "def quality(predicted, test_target):\n",
        "  pre = predicted.tolist()\n",
        "  tar = test_target.tolist()\n",
        "\n",
        "  tn = 0\n",
        "  fn = 0\n",
        "  fp = 0\n",
        "  tp = 0\n",
        "\n",
        "  for i, p in enumerate(pre):\n",
        "    if p == 0 and tar[i] == 0:\n",
        "      tn += 1\n",
        "    if p == 0 and tar[i] == 1:\n",
        "      fn += 1\n",
        "    if p == 1 and tar[i] == 0:\n",
        "      fp += 1\n",
        "    if p == 1 and tar[i] == 1:\n",
        "      tp += 1\n",
        "  \n",
        "  Pr = tp / (tp + fp)\n",
        "  R = tp / (tp + fn)\n",
        "  F1 = (2 * Pr * R) / (Pr + R)\n",
        "  \n",
        "  results = 'Pr={0:1.4f}, R={1:1.4f}, F1={2:1.4f}'.format(Pr, R, F1)\n",
        "\n",
        "  return results"
      ],
      "execution_count": 0,
      "outputs": []
    },
    {
      "cell_type": "markdown",
      "metadata": {
        "id": "Qx4xcVyMAIKG",
        "colab_type": "text"
      },
      "source": [
        "оценки метода ближайщего соседа"
      ]
    },
    {
      "cell_type": "code",
      "metadata": {
        "id": "DwaO0VZDAcSA",
        "colab_type": "code",
        "colab": {
          "base_uri": "https://localhost:8080/",
          "height": 35
        },
        "outputId": "4283ccbb-820a-488a-b933-a7d578b13432"
      },
      "source": [
        "print(quality(predicted_K, test_target))"
      ],
      "execution_count": 134,
      "outputs": [
        {
          "output_type": "stream",
          "text": [
            "Pr=0.6088, R=0.6947, F1=0.6489\n"
          ],
          "name": "stdout"
        }
      ]
    },
    {
      "cell_type": "markdown",
      "metadata": {
        "id": "7LOzRCb6Acxw",
        "colab_type": "text"
      },
      "source": [
        "оценки метода наивного Байеса"
      ]
    },
    {
      "cell_type": "code",
      "metadata": {
        "id": "4dUzwny-Ahvw",
        "colab_type": "code",
        "colab": {
          "base_uri": "https://localhost:8080/",
          "height": 35
        },
        "outputId": "e63f0d12-8e1b-404a-ca6e-3cf0e5b5c583"
      },
      "source": [
        "print(quality(predicted_MNB, test_target))"
      ],
      "execution_count": 131,
      "outputs": [
        {
          "output_type": "stream",
          "text": [
            "Pr=0.8605, R=0.7484, F1=0.8006\n"
          ],
          "name": "stdout"
        }
      ]
    },
    {
      "cell_type": "markdown",
      "metadata": {
        "id": "zsHgJUqwAiQF",
        "colab_type": "text"
      },
      "source": [
        "оценки логистической регрессии"
      ]
    },
    {
      "cell_type": "code",
      "metadata": {
        "id": "0e3KO7q9A3OI",
        "colab_type": "code",
        "colab": {
          "base_uri": "https://localhost:8080/",
          "height": 35
        },
        "outputId": "5f6cdf9e-36e7-4e1c-97b5-a468d02dbbdf"
      },
      "source": [
        "print(quality(predicted_LR, test_target))"
      ],
      "execution_count": 132,
      "outputs": [
        {
          "output_type": "stream",
          "text": [
            "Pr=0.8707, R=0.8563, F1=0.8635\n"
          ],
          "name": "stdout"
        }
      ]
    },
    {
      "cell_type": "markdown",
      "metadata": {
        "id": "qCWKcRtuBrHS",
        "colab_type": "text"
      },
      "source": [
        "**результаты совпадают с полученными sklearn метриками**"
      ]
    }
  ]
}